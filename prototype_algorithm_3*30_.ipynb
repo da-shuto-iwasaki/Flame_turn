{
 "cells": [
  {
   "cell_type": "code",
   "execution_count": 1,
   "metadata": {},
   "outputs": [],
   "source": [
    "import time\n",
    "import cvxpy\n",
    "import random\n",
    "import numpy as np\n",
    "import pandas as pd"
   ]
  },
  {
   "cell_type": "code",
   "execution_count": 2,
   "metadata": {},
   "outputs": [],
   "source": [
    "# サンプルデータの読み込み\n",
    "sample = pd.read_csv('sample_3*30.csv')"
   ]
  },
  {
   "cell_type": "code",
   "execution_count": 3,
   "metadata": {
    "scrolled": true
   },
   "outputs": [
    {
     "data": {
      "text/html": [
       "<div>\n",
       "<style scoped>\n",
       "    .dataframe tbody tr th:only-of-type {\n",
       "        vertical-align: middle;\n",
       "    }\n",
       "\n",
       "    .dataframe tbody tr th {\n",
       "        vertical-align: top;\n",
       "    }\n",
       "\n",
       "    .dataframe thead th {\n",
       "        text-align: right;\n",
       "    }\n",
       "</style>\n",
       "<table border=\"1\" class=\"dataframe\">\n",
       "  <thead>\n",
       "    <tr style=\"text-align: right;\">\n",
       "      <th></th>\n",
       "      <th>id</th>\n",
       "      <th>price_A</th>\n",
       "      <th>price_B</th>\n",
       "      <th>price_C</th>\n",
       "      <th>rating_A</th>\n",
       "      <th>rating_B</th>\n",
       "      <th>rating_C</th>\n",
       "    </tr>\n",
       "  </thead>\n",
       "  <tbody>\n",
       "    <tr>\n",
       "      <th>0</th>\n",
       "      <td>1</td>\n",
       "      <td>380</td>\n",
       "      <td>385</td>\n",
       "      <td>389</td>\n",
       "      <td>4.1</td>\n",
       "      <td>3.3</td>\n",
       "      <td>4.0</td>\n",
       "    </tr>\n",
       "    <tr>\n",
       "      <th>1</th>\n",
       "      <td>2</td>\n",
       "      <td>943</td>\n",
       "      <td>947</td>\n",
       "      <td>961</td>\n",
       "      <td>10.1</td>\n",
       "      <td>8.9</td>\n",
       "      <td>9.3</td>\n",
       "    </tr>\n",
       "    <tr>\n",
       "      <th>2</th>\n",
       "      <td>3</td>\n",
       "      <td>980</td>\n",
       "      <td>980</td>\n",
       "      <td>987</td>\n",
       "      <td>10.4</td>\n",
       "      <td>8.7</td>\n",
       "      <td>10.3</td>\n",
       "    </tr>\n",
       "  </tbody>\n",
       "</table>\n",
       "</div>"
      ],
      "text/plain": [
       "   id  price_A  price_B  price_C  rating_A  rating_B  rating_C\n",
       "0   1      380      385      389       4.1       3.3       4.0\n",
       "1   2      943      947      961      10.1       8.9       9.3\n",
       "2   3      980      980      987      10.4       8.7      10.3"
      ]
     },
     "execution_count": 3,
     "metadata": {},
     "output_type": "execute_result"
    }
   ],
   "source": [
    "sample.head(3)"
   ]
  },
  {
   "cell_type": "code",
   "execution_count": 4,
   "metadata": {},
   "outputs": [],
   "source": [
    "# クライアトa, b, cの元々持っていた枠をランダムに決める。\n",
    "length = len(sample) #dfの長さ。\n",
    "ids = list(range(length)) #「0~length-1」の数字の列。\n",
    "\n",
    "# idは1からなので、1を足す。\n",
    "random_ids = [id+1 for id in ids]\n",
    "\n",
    "# Break point.\n",
    "bp1 = length//3 \n",
    "bp2 = length//3 + bp1\n",
    "\n",
    "# 順番シャッフルして、Break pointで切り分ける。\n",
    "random.shuffle(random_ids)\n",
    "id_A, id_B, id_C = random_ids[:bp1], random_ids[bp1:bp2], random_ids[bp2:]"
   ]
  },
  {
   "cell_type": "code",
   "execution_count": 5,
   "metadata": {},
   "outputs": [
    {
     "name": "stdout",
     "output_type": "stream",
     "text": [
      "[12, 4, 9, 23, 7, 1, 5, 27, 26, 3]\n",
      "[6, 14, 24, 11, 13, 18, 21, 30, 2, 22]\n",
      "[15, 10, 25, 19, 28, 20, 8, 17, 29, 16]\n"
     ]
    }
   ],
   "source": [
    "# それぞれのidを表示。 ランダムにシャッフルされていることがわかる。\n",
    "print(id_A)\n",
    "print(id_B)\n",
    "print(id_C)"
   ]
  },
  {
   "cell_type": "code",
   "execution_count": 6,
   "metadata": {},
   "outputs": [],
   "source": [
    "# それぞれのidのデータのみを取り出すための判別用カラム。\n",
    "sample['judge_A'] = sample['id'].apply(lambda x:x in id_A)\n",
    "sample['judge_B'] = sample['id'].apply(lambda x:x in id_B)\n",
    "sample['judge_C'] = sample['id'].apply(lambda x:x in id_C)"
   ]
  },
  {
   "cell_type": "code",
   "execution_count": 7,
   "metadata": {},
   "outputs": [],
   "source": [
    "# それぞれのidのデータを取得。\n",
    "df_A = sample[sample['judge_A']].loc[:, ['id','price_A', 'rating_A']]\n",
    "df_B = sample[sample['judge_B']].loc[:, ['id','price_B', 'rating_B']]\n",
    "df_C = sample[sample['judge_C']].loc[:, ['id','price_C', 'rating_C']]"
   ]
  },
  {
   "cell_type": "code",
   "execution_count": 8,
   "metadata": {},
   "outputs": [],
   "source": [
    "# 判別用カラムを削除。\n",
    "del sample['judge_A']\n",
    "del sample['judge_B']\n",
    "del sample['judge_C']"
   ]
  },
  {
   "cell_type": "code",
   "execution_count": 9,
   "metadata": {},
   "outputs": [],
   "source": [
    "# 元々の値段の総和、元々の視聴率の和を計算する。\n",
    "# Original price, Original point\n",
    "original_price_A, original_point_A = sum(df_A['price_A']), sum(df_A['rating_A'])\n",
    "original_price_B, original_point_B = sum(df_B['price_B']), sum(df_B['rating_B'])\n",
    "original_price_C, original_point_C = sum(df_C['price_C']), sum(df_C['rating_C'])"
   ]
  },
  {
   "cell_type": "code",
   "execution_count": 10,
   "metadata": {},
   "outputs": [],
   "source": [
    "# 獲得した枠のidを貯めていく。\n",
    "obtained_id_A = []\n",
    "obtained_id_B = []\n",
    "obtained_id_C = []"
   ]
  },
  {
   "cell_type": "code",
   "execution_count": 11,
   "metadata": {},
   "outputs": [],
   "source": [
    "# 獲得した枠の価格を貯めていく。\n",
    "obtained_price_A = 0\n",
    "obtained_price_B = 0\n",
    "obtained_price_C = 0"
   ]
  },
  {
   "cell_type": "code",
   "execution_count": 12,
   "metadata": {},
   "outputs": [],
   "source": [
    "# 獲得した枠の視聴率を貯めていく。\n",
    "obtained_point_A = 0\n",
    "obtained_point_B = 0\n",
    "obtained_point_C = 0"
   ]
  },
  {
   "cell_type": "code",
   "execution_count": 13,
   "metadata": {},
   "outputs": [],
   "source": [
    "# ここに結果を格納していき、何度も繰り返す。（視聴率和の合計値が'key'で、その時のidが'value'）\n",
    "result = dict()"
   ]
  },
  {
   "cell_type": "code",
   "execution_count": 14,
   "metadata": {},
   "outputs": [],
   "source": [
    "# 各クライアントの考える価値（指定視聴率/値段）を数値化し、表に加える。\n",
    "# 指定した視聴率/そのクライアントの号数価格\n",
    "sample['value_A'] = round((sample['rating_A']/sample['price_A'])*1000, 2)\n",
    "sample['value_B'] = round((sample['rating_B']/sample['price_B'])*1000, 2)\n",
    "sample['value_C'] = round((sample['rating_C']/sample['price_C'])*1000, 2)"
   ]
  },
  {
   "cell_type": "code",
   "execution_count": 15,
   "metadata": {
    "scrolled": false
   },
   "outputs": [
    {
     "name": "stdout",
     "output_type": "stream",
     "text": [
      "client_Aの交換前の合計価格: 5771 client_Aの交換前の合計視聴率 58.7\n",
      "client_Bの交換前の合計価格: 6304 client_Bの交換前の合計視聴率 63.8\n",
      "client_Cの交換前の合計価格: 6960 client_Cの交換前の合計視聴率 70.2\n"
     ]
    },
    {
     "data": {
      "text/html": [
       "<div>\n",
       "<style scoped>\n",
       "    .dataframe tbody tr th:only-of-type {\n",
       "        vertical-align: middle;\n",
       "    }\n",
       "\n",
       "    .dataframe tbody tr th {\n",
       "        vertical-align: top;\n",
       "    }\n",
       "\n",
       "    .dataframe thead th {\n",
       "        text-align: right;\n",
       "    }\n",
       "</style>\n",
       "<table border=\"1\" class=\"dataframe\">\n",
       "  <thead>\n",
       "    <tr style=\"text-align: right;\">\n",
       "      <th></th>\n",
       "      <th>id</th>\n",
       "      <th>price_A</th>\n",
       "      <th>price_B</th>\n",
       "      <th>price_C</th>\n",
       "      <th>rating_A</th>\n",
       "      <th>rating_B</th>\n",
       "      <th>rating_C</th>\n",
       "      <th>value_A</th>\n",
       "      <th>value_B</th>\n",
       "      <th>value_C</th>\n",
       "    </tr>\n",
       "  </thead>\n",
       "  <tbody>\n",
       "    <tr>\n",
       "      <th>0</th>\n",
       "      <td>1</td>\n",
       "      <td>380</td>\n",
       "      <td>385</td>\n",
       "      <td>389</td>\n",
       "      <td>4.1</td>\n",
       "      <td>3.3</td>\n",
       "      <td>4.0</td>\n",
       "      <td>10.79</td>\n",
       "      <td>8.57</td>\n",
       "      <td>10.28</td>\n",
       "    </tr>\n",
       "    <tr>\n",
       "      <th>1</th>\n",
       "      <td>2</td>\n",
       "      <td>943</td>\n",
       "      <td>947</td>\n",
       "      <td>961</td>\n",
       "      <td>10.1</td>\n",
       "      <td>8.9</td>\n",
       "      <td>9.3</td>\n",
       "      <td>10.71</td>\n",
       "      <td>9.40</td>\n",
       "      <td>9.68</td>\n",
       "    </tr>\n",
       "    <tr>\n",
       "      <th>2</th>\n",
       "      <td>3</td>\n",
       "      <td>980</td>\n",
       "      <td>980</td>\n",
       "      <td>987</td>\n",
       "      <td>10.4</td>\n",
       "      <td>8.7</td>\n",
       "      <td>10.3</td>\n",
       "      <td>10.61</td>\n",
       "      <td>8.88</td>\n",
       "      <td>10.44</td>\n",
       "    </tr>\n",
       "  </tbody>\n",
       "</table>\n",
       "</div>"
      ],
      "text/plain": [
       "   id  price_A  price_B  price_C  rating_A  rating_B  rating_C  value_A  \\\n",
       "0   1      380      385      389       4.1       3.3       4.0    10.79   \n",
       "1   2      943      947      961      10.1       8.9       9.3    10.71   \n",
       "2   3      980      980      987      10.4       8.7      10.3    10.61   \n",
       "\n",
       "   value_B  value_C  \n",
       "0     8.57    10.28  \n",
       "1     9.40     9.68  \n",
       "2     8.88    10.44  "
      ]
     },
     "execution_count": 15,
     "metadata": {},
     "output_type": "execute_result"
    }
   ],
   "source": [
    "print('client_Aの交換前の合計価格:', original_price_A, 'client_Aの交換前の合計視聴率', original_point_A)\n",
    "print('client_Bの交換前の合計価格:', original_price_B, 'client_Bの交換前の合計視聴率', original_point_B)\n",
    "print('client_Cの交換前の合計価格:', original_price_C, 'client_Cの交換前の合計視聴率', original_point_C)\n",
    "sample.head(3)"
   ]
  },
  {
   "cell_type": "code",
   "execution_count": 16,
   "metadata": {},
   "outputs": [],
   "source": [
    "# 交換前のデータをまとめる。\n",
    "original_prices = [original_price_A, original_price_B, original_price_C]\n",
    "original_points = [original_point_A, original_point_B, original_point_C]"
   ]
  },
  {
   "cell_type": "code",
   "execution_count": 17,
   "metadata": {},
   "outputs": [
    {
     "name": "stdout",
     "output_type": "stream",
     "text": [
      "[5771, 6304, 6960]\n",
      "[58.7, 63.8, 70.2]\n"
     ]
    }
   ],
   "source": [
    "print(original_prices)\n",
    "print(original_points)"
   ]
  },
  {
   "cell_type": "markdown",
   "metadata": {},
   "source": [
    "<b><font color='Red'><font size=4>※valueは、正の数じゃないと、選ばなくなってしまうことに注意。<br>（０の方が大きいから。）</font></font></b>"
   ]
  },
  {
   "cell_type": "markdown",
   "metadata": {},
   "source": [
    "***\n",
    "***"
   ]
  },
  {
   "cell_type": "markdown",
   "metadata": {},
   "source": [
    "### 〜ここからアルゴリズム〜"
   ]
  },
  {
   "cell_type": "code",
   "execution_count": 18,
   "metadata": {
    "scrolled": true
   },
   "outputs": [],
   "source": [
    "# ナップザック問題。\n",
    "\n",
    "# size = 値段のデータ。\n",
    "# weight = 価値のデータ。\n",
    "# capacity = 元々の値段×1.05倍の値段。\n",
    "# ids = 取得すべきだと考えられた枠のid    \n",
    "\n",
    "def Knapsack(size, weight, capacity, obtained=0, rate=0.05):\n",
    "    # 価格が元の価格の1.05%を超えても、終わり。\n",
    "    if capacity*(1 + rate) - obtained > 0:        \n",
    "        x = cvxpy.Variable(size.shape[0], boolean=True)\n",
    "        # 要素の個数(これを加えて平均を最大化しないと、価格の小さいものばかりをとってしまう。)\n",
    "        count = sum(np.ones(len(size)) * x)\n",
    "        # 目的\n",
    "        objective = cvxpy.Maximize(weight * x / count)\n",
    "        # 制限。ここでは、capacity(価格)の上下5%を取っている。\n",
    "        constraints = [capacity*(1 + rate) -  obtained >= size * x]\n",
    "        constraints += [capacity*(1 - rate) - obtained <= size * x]\n",
    "\n",
    "        prob = cvxpy.Problem(objective, constraints)\n",
    "        prob.solve(solver=cvxpy.ECOS_BB)\n",
    "        result = [round(ix, 0) for ix in x.value]\n",
    "\n",
    "        return result\n",
    "    else:\n",
    "        return []\n",
    "    \n",
    "# 2重のリストをフラットにする関数(重複は残る！)\n",
    "def Flatten_dual(nested_list):\n",
    "    return [e for inner_list in nested_list for e in inner_list]"
   ]
  },
  {
   "cell_type": "code",
   "execution_count": 19,
   "metadata": {},
   "outputs": [],
   "source": [
    "# dfは、上記のsampleのような、カラム名がprice_A, rating_A, value_A, price_B, ...となっているDataFrame。\n",
    "# namesには、'A', 'B', 'C', ... を入れるイメージ。\n",
    "\n",
    "def Loop(df, original_prices, original_points, *names):\n",
    "    result = dict() #結果を格納する。\n",
    "    num = len(names) #クライアントの数。\n",
    "\n",
    "    obtained_prices = [0 for i in range(num)] #獲得した枠の値段をそれぞれ格納する。\n",
    "    obtained_points = [0 for i in range(num)] #獲得した枠の視聴率をそれぞれ格納する。\n",
    "    obtained_idses = [[] for i in range(num)] #獲得した枠のidをそれぞれ格納する。\n",
    "    idses = [[] for i in range(num)] # 各ナップザック問題でそれぞれが指定した枠のidを格納する。\n",
    "    add_idses = [[] for i in range(num)] # 各ナップザック問題の結果、獲得した枠のidを格納する。\n",
    "    check_point = 0\n",
    "    \n",
    "    while check_point==0: #何回ナップザックループを行うかわからないので、チェックポイントの値で判別する。\n",
    "        for i in range(num): #それぞれのクライアントごと。\n",
    "            original_price = original_prices[i] # 交換前の価格合計。\n",
    "            original_point = original_points[i] # 交換前の視聴率合計。\n",
    "\n",
    "            name = names[i] # クライアントの名前。\n",
    "            size = np.array(df['price_' + name]) # dfのカラム名は、こうなるように指定。全ての枠の値段を取得。\n",
    "            weight = np.array(df['value_' + name]) # dfのカラム名は、こうなるように指定。全ての枠の価値を取得。\n",
    "            capacity = original_price \n",
    "            \n",
    "            rate=0.05\n",
    "            if obtained_points[i] < original_point: # 獲得した視聴率和が元々の視聴率和より低かったら\n",
    "                for try_count in range(6): #5回までなら、rateを0.02ずつ大きくして試せる。\n",
    "                    try:\n",
    "                        idses[i] = Knapsack(size, weight, capacity,  obtained_prices[i], rate=rate)\n",
    "                    except TypeError:\n",
    "                        rate+=0.02\n",
    "                    else: # エラーが発生しなかった時の処理。\n",
    "                        break\n",
    "                else: # リトライが全部失敗した時の処理。\n",
    "                    idses[i] = [0 for i in range(len(size))] # rateが0.15を超えても無理なら、どのidも選択しない。            \n",
    "            else:\n",
    "                idses[i] = [0 for i in range(len(size))] # 視聴率和が元々の視聴率和を超えていた場合、どのidも選択しない。\n",
    "\n",
    "        if sum(Flatten_dual(idses)) == 0: #もし、どのクライアントも選んでいなかったら\n",
    "            idses[0][0] = 1 # 始めのクライアントがdfの一番上の行を選んだことにする。（暫定的なエラー処理。）\n",
    "            \n",
    "        ids = np.array(df['id'].index) + 1\n",
    "\n",
    "        # それぞれの枠を選択したクライアントの中から１つをランダムに選択する。\n",
    "        ids_dict = dict()\n",
    "        for key in ids-1: # それぞれのidごとに、\n",
    "            values = [] # そのidの枠を指定したクライアントを格納するリスト。\n",
    "            for i in range(num): # それぞれのクライアントごとに、\n",
    "                if key in idses[i] * ids -1: # そのid（のindex）があれば、\n",
    "                    values.append(names[i]) # valuesにクライアントの名前が格納される。\n",
    "            if values: # そのidを指定したクライアントがいれば、\n",
    "                value = random.choice(values) # その中からクライアントをランダムに選ぶ。\n",
    "                ids_dict[key] = value # idと合わせて格納される。\n",
    "\n",
    "        for i in range(num):\n",
    "            add_idses[i] = [ids for ids, client in ids_dict.items() if client == names[i]] # クライアントごとに、獲得したid\n",
    "            # obtained_idses[i] += add_idses[i]\n",
    "            obtained_idses[i] += df.query('index in ' + str(add_idses[i]))['id'].values.tolist()\n",
    "            obtained_prices[i] += sum(df.query('index in ' + str(add_idses[i]))['price_' + name])\n",
    "            obtained_points[i] += sum(df.query('index in ' + str(add_idses[i]))['rating_' + name])\n",
    "\n",
    "        extraction_ids = Flatten_dual(add_idses) # 今回獲得されたidの集合を、取り除く。\n",
    "        df = df.query('index not in ' + str(extraction_ids)).reset_index(drop=True)\n",
    "        \n",
    "        if len(df) == 1 and df['id'][0] != 0: #dfの長さが１だとうまく機能しないため、長さが１の場合は加える。\n",
    "            add_df = pd.DataFrame(np.zeros(df.shape[1])).T # np.zeros()の中の数字は、列の数。\n",
    "            add_df.columns = df.columns # カラム名を揃える。\n",
    "            df = pd.concat([df, add_df]).reset_index(drop=True)\n",
    "\n",
    "        # 上のプログラムの後にデータフレームの長さが1(=add_dfしか残っていない)なら、終了！！\n",
    "        if len(df) <= 1:\n",
    "            check_point += 1\n",
    "    \n",
    "    if obtained_points > original_points:\n",
    "        sum_point = round(sum(obtained_points), 2) # 合計値を小数第二位までで表示。\n",
    "        result[sum_point] = obtained_prices, obtained_idses\n",
    "                                  \n",
    "    return result"
   ]
  },
  {
   "cell_type": "code",
   "execution_count": 20,
   "metadata": {
    "scrolled": true
   },
   "outputs": [
    {
     "name": "stdout",
     "output_type": "stream",
     "text": [
      "処理時間は: 0.319 [sec]\n"
     ]
    },
    {
     "data": {
      "text/plain": [
       "{}"
      ]
     },
     "execution_count": 20,
     "metadata": {},
     "output_type": "execute_result"
    }
   ],
   "source": [
    "# 1回のループの結果。\n",
    "start = time.time()\n",
    "result = Loop(sample, original_prices, original_points, 'A', 'B', 'C')\n",
    "end = time.time()\n",
    "print('処理時間は:', round(end-start, 3), '[sec]')\n",
    "result"
   ]
  },
  {
   "cell_type": "markdown",
   "metadata": {},
   "source": [
    "### これを何度も繰り返すことにより、resultに値を格納しまくる。"
   ]
  },
  {
   "cell_type": "code",
   "execution_count": 21,
   "metadata": {
    "scrolled": true
   },
   "outputs": [
    {
     "name": "stdout",
     "output_type": "stream",
     "text": [
      "10回分の処理時間は: 2.655 [sec]\n"
     ]
    }
   ],
   "source": [
    "start = time.time()\n",
    "\n",
    "results = {}\n",
    "for i in range(10):\n",
    "    results.update(Loop(sample, original_prices, original_points, 'A', 'B', 'C'))\n",
    "    \n",
    "end = time.time()\n",
    "print('10回分の処理時間は:', round(end-start, 3), '[sec]')"
   ]
  },
  {
   "cell_type": "markdown",
   "metadata": {},
   "source": [
    "### なお、result.updateにかかる時間は結構えぐい。"
   ]
  },
  {
   "cell_type": "code",
   "execution_count": 22,
   "metadata": {},
   "outputs": [
    {
     "data": {
      "text/plain": [
       "{190.3: ([5980, 6188, 6890.0],\n",
       "  [[28, 6, 21, 19, 25, 27, 30, 1, 18, 20],\n",
       "   [2, 3, 14, 17, 5, 13, 10, 16, 22, 23],\n",
       "   [29, 7, 8, 9, 11, 12, 26, 24, 15, 4.0]])}"
      ]
     },
     "execution_count": 22,
     "metadata": {},
     "output_type": "execute_result"
    }
   ],
   "source": [
    "# 交換の結果。\n",
    "results"
   ]
  },
  {
   "cell_type": "code",
   "execution_count": 23,
   "metadata": {},
   "outputs": [
    {
     "name": "stdout",
     "output_type": "stream",
     "text": [
      "交換後の価格: [5980, 6188, 6890.0]\n",
      "交換後のそれぞれの枠\n",
      "A: [28, 6, 21, 19, 25, 27, 30, 1, 18, 20]\n",
      "B: [2, 3, 14, 17, 5, 13, 10, 16, 22, 23]\n",
      "C: [29, 7, 8, 9, 11, 12, 26, 24, 15, 4.0]\n"
     ]
    }
   ],
   "source": [
    "# 最も視聴率和を大きくした交換の仕方を求める。\n",
    "print('交換後の価格:',results[max(results.keys())][0])\n",
    "print('交換後のそれぞれの枠')\n",
    "print('A:', results[max(results.keys())][1][0])\n",
    "print('B:', results[max(results.keys())][1][1])\n",
    "print('C:', results[max(results.keys())][1][2])"
   ]
  },
  {
   "cell_type": "markdown",
   "metadata": {},
   "source": [
    "<b><font size=4><font color='#113BC5'>この数でも10回行うのに、2~4秒と、思いの外時間がかかる…。</font></font></b>"
   ]
  }
 ],
 "metadata": {
  "kernelspec": {
   "display_name": "Python 3",
   "language": "python",
   "name": "python3"
  },
  "language_info": {
   "codemirror_mode": {
    "name": "ipython",
    "version": 3
   },
   "file_extension": ".py",
   "mimetype": "text/x-python",
   "name": "python",
   "nbconvert_exporter": "python",
   "pygments_lexer": "ipython3",
   "version": "3.6.4"
  }
 },
 "nbformat": 4,
 "nbformat_minor": 2
}

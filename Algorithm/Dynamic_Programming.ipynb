{
 "cells": [
  {
   "cell_type": "markdown",
   "metadata": {},
   "source": [
    "## ○動的計画法（DP）による貪欲法を用いた複数ナップザック問題の近似解推定"
   ]
  },
  {
   "cell_type": "code",
   "execution_count": 1,
   "metadata": {},
   "outputs": [],
   "source": [
    "import time\n",
    "from ortoolpy import knapsack\n",
    "import random\n",
    "import numpy as np\n",
    "import pandas as pd"
   ]
  },
  {
   "cell_type": "code",
   "execution_count": 2,
   "metadata": {},
   "outputs": [],
   "source": [
    "# サンプルデータの読み込み\n",
    "df_sample = pd.read_csv('sample_3*30.csv', sep='\\t')"
   ]
  },
  {
   "cell_type": "code",
   "execution_count": 3,
   "metadata": {
    "scrolled": true
   },
   "outputs": [
    {
     "data": {
      "text/html": [
       "<div>\n",
       "<style scoped>\n",
       "    .dataframe tbody tr th:only-of-type {\n",
       "        vertical-align: middle;\n",
       "    }\n",
       "\n",
       "    .dataframe tbody tr th {\n",
       "        vertical-align: top;\n",
       "    }\n",
       "\n",
       "    .dataframe thead th {\n",
       "        text-align: right;\n",
       "    }\n",
       "</style>\n",
       "<table border=\"1\" class=\"dataframe\">\n",
       "  <thead>\n",
       "    <tr style=\"text-align: right;\">\n",
       "      <th></th>\n",
       "      <th>id</th>\n",
       "      <th>price_0</th>\n",
       "      <th>price_1</th>\n",
       "      <th>price_2</th>\n",
       "      <th>rating_0</th>\n",
       "      <th>rating_1</th>\n",
       "      <th>rating_2</th>\n",
       "    </tr>\n",
       "  </thead>\n",
       "  <tbody>\n",
       "    <tr>\n",
       "      <th>0</th>\n",
       "      <td>1</td>\n",
       "      <td>380</td>\n",
       "      <td>385</td>\n",
       "      <td>389</td>\n",
       "      <td>4.1</td>\n",
       "      <td>3.3</td>\n",
       "      <td>4.0</td>\n",
       "    </tr>\n",
       "    <tr>\n",
       "      <th>1</th>\n",
       "      <td>2</td>\n",
       "      <td>943</td>\n",
       "      <td>947</td>\n",
       "      <td>961</td>\n",
       "      <td>10.1</td>\n",
       "      <td>8.9</td>\n",
       "      <td>9.3</td>\n",
       "    </tr>\n",
       "    <tr>\n",
       "      <th>2</th>\n",
       "      <td>3</td>\n",
       "      <td>980</td>\n",
       "      <td>980</td>\n",
       "      <td>987</td>\n",
       "      <td>10.4</td>\n",
       "      <td>8.7</td>\n",
       "      <td>10.3</td>\n",
       "    </tr>\n",
       "  </tbody>\n",
       "</table>\n",
       "</div>"
      ],
      "text/plain": [
       "   id  price_0  price_1  price_2  rating_0  rating_1  rating_2\n",
       "0   1      380      385      389       4.1       3.3       4.0\n",
       "1   2      943      947      961      10.1       8.9       9.3\n",
       "2   3      980      980      987      10.4       8.7      10.3"
      ]
     },
     "execution_count": 3,
     "metadata": {},
     "output_type": "execute_result"
    }
   ],
   "source": [
    "df_sample.head(3)"
   ]
  },
  {
   "cell_type": "code",
   "execution_count": 4,
   "metadata": {},
   "outputs": [
    {
     "name": "stdout",
     "output_type": "stream",
     "text": [
      "クライアントの数: 3\n"
     ]
    }
   ],
   "source": [
    "# clientの数。\n",
    "client_num = int((len(df_sample.columns)-1)/2)\n",
    "print('クライアントの数:', client_num)"
   ]
  },
  {
   "cell_type": "code",
   "execution_count": 5,
   "metadata": {
    "scrolled": false
   },
   "outputs": [
    {
     "data": {
      "text/html": [
       "<div>\n",
       "<style scoped>\n",
       "    .dataframe tbody tr th:only-of-type {\n",
       "        vertical-align: middle;\n",
       "    }\n",
       "\n",
       "    .dataframe tbody tr th {\n",
       "        vertical-align: top;\n",
       "    }\n",
       "\n",
       "    .dataframe thead th {\n",
       "        text-align: right;\n",
       "    }\n",
       "</style>\n",
       "<table border=\"1\" class=\"dataframe\">\n",
       "  <thead>\n",
       "    <tr style=\"text-align: right;\">\n",
       "      <th></th>\n",
       "      <th>id</th>\n",
       "      <th>price_0</th>\n",
       "      <th>price_1</th>\n",
       "      <th>price_2</th>\n",
       "      <th>rating_0</th>\n",
       "      <th>rating_1</th>\n",
       "      <th>rating_2</th>\n",
       "    </tr>\n",
       "  </thead>\n",
       "  <tbody>\n",
       "    <tr>\n",
       "      <th>0</th>\n",
       "      <td>14</td>\n",
       "      <td>1047</td>\n",
       "      <td>1058</td>\n",
       "      <td>1039</td>\n",
       "      <td>9.8</td>\n",
       "      <td>11.3</td>\n",
       "      <td>10.3</td>\n",
       "    </tr>\n",
       "    <tr>\n",
       "      <th>1</th>\n",
       "      <td>30</td>\n",
       "      <td>607</td>\n",
       "      <td>607</td>\n",
       "      <td>600</td>\n",
       "      <td>6.1</td>\n",
       "      <td>7.0</td>\n",
       "      <td>5.1</td>\n",
       "    </tr>\n",
       "    <tr>\n",
       "      <th>2</th>\n",
       "      <td>1</td>\n",
       "      <td>380</td>\n",
       "      <td>385</td>\n",
       "      <td>389</td>\n",
       "      <td>4.1</td>\n",
       "      <td>3.3</td>\n",
       "      <td>4.0</td>\n",
       "    </tr>\n",
       "  </tbody>\n",
       "</table>\n",
       "</div>"
      ],
      "text/plain": [
       "   id  price_0  price_1  price_2  rating_0  rating_1  rating_2\n",
       "0  14     1047     1058     1039       9.8      11.3      10.3\n",
       "1  30      607      607      600       6.1       7.0       5.1\n",
       "2   1      380      385      389       4.1       3.3       4.0"
      ]
     },
     "execution_count": 5,
     "metadata": {},
     "output_type": "execute_result"
    }
   ],
   "source": [
    "# 初めにクライアントが持っていた枠をランダムに決める（別のデータに対応できるかを見るため。）\n",
    "sample = df_sample.sample(frac=1).reset_index(drop=True)\n",
    "sample.head(3)"
   ]
  },
  {
   "cell_type": "code",
   "execution_count": 6,
   "metadata": {},
   "outputs": [],
   "source": [
    "# クライアト0, 1, 2の元々持っていた枠をランダムに決める。\n",
    "length = len(sample) # データフレームの長さ\n",
    "bps = [0 for i in range(client_num+1)] # Break Points\n",
    "bp = 0\n",
    "original_prices = [0 for i in range(client_num)] # 元々持っていた枠の価格和。\n",
    "original_points = [0 for i in range(client_num)] # 元々持っていた枠の視聴率和。\n",
    "\n",
    "for i in range(client_num):\n",
    "    bp += length//client_num\n",
    "    bps[i+1] = bp\n",
    "    df_original = sample[bps[i]:bps[i+1]]\n",
    "    original_prices[i] = sum(df_original['price_' + str(i)]) # 価格の和。\n",
    "    original_points[i] = sum(df_original['rating_' + str(i)]) # 視聴率の和。"
   ]
  },
  {
   "cell_type": "code",
   "execution_count": 7,
   "metadata": {},
   "outputs": [
    {
     "name": "stdout",
     "output_type": "stream",
     "text": [
      "[6208, 5157, 7668]\n",
      "[60.300000000000004, 51.8, 76.0]\n"
     ]
    }
   ],
   "source": [
    "print(original_prices) # 元々持っていた枠の価格和。\n",
    "print(original_points) # 元々持っていた枠の視聴率和。"
   ]
  },
  {
   "cell_type": "markdown",
   "metadata": {},
   "source": [
    "***\n",
    "***"
   ]
  },
  {
   "cell_type": "markdown",
   "metadata": {},
   "source": [
    "### 〜ここからナップザック問題（DP貪欲法のアプローチ）のアルゴリズム〜"
   ]
  },
  {
   "cell_type": "code",
   "execution_count": 8,
   "metadata": {},
   "outputs": [
    {
     "name": "stdout",
     "output_type": "stream",
     "text": [
      "参照されてない。 good!!\n"
     ]
    }
   ],
   "source": [
    "# 必要な視聴率和(=元々持っていた視聴率和)\n",
    "require_ratings = list(original_points) # 参照してしまうことを避けるため。\n",
    "print('注意！参照されてる！！' if id(require_ratings) == id(original_points) else '参照されてない。 good!!')"
   ]
  },
  {
   "cell_type": "code",
   "execution_count": 9,
   "metadata": {},
   "outputs": [
    {
     "data": {
      "text/html": [
       "<div>\n",
       "<style scoped>\n",
       "    .dataframe tbody tr th:only-of-type {\n",
       "        vertical-align: middle;\n",
       "    }\n",
       "\n",
       "    .dataframe tbody tr th {\n",
       "        vertical-align: top;\n",
       "    }\n",
       "\n",
       "    .dataframe thead th {\n",
       "        text-align: right;\n",
       "    }\n",
       "</style>\n",
       "<table border=\"1\" class=\"dataframe\">\n",
       "  <thead>\n",
       "    <tr style=\"text-align: right;\">\n",
       "      <th></th>\n",
       "      <th>id</th>\n",
       "      <th>price_0</th>\n",
       "      <th>price_1</th>\n",
       "      <th>price_2</th>\n",
       "      <th>rating_0</th>\n",
       "      <th>rating_1</th>\n",
       "      <th>rating_2</th>\n",
       "      <th>value_0</th>\n",
       "      <th>value_1</th>\n",
       "      <th>value_2</th>\n",
       "    </tr>\n",
       "  </thead>\n",
       "  <tbody>\n",
       "    <tr>\n",
       "      <th>0</th>\n",
       "      <td>1</td>\n",
       "      <td>380</td>\n",
       "      <td>385</td>\n",
       "      <td>389</td>\n",
       "      <td>4.1</td>\n",
       "      <td>3.3</td>\n",
       "      <td>4.0</td>\n",
       "      <td>0.010789</td>\n",
       "      <td>0.008571</td>\n",
       "      <td>0.010283</td>\n",
       "    </tr>\n",
       "    <tr>\n",
       "      <th>1</th>\n",
       "      <td>2</td>\n",
       "      <td>943</td>\n",
       "      <td>947</td>\n",
       "      <td>961</td>\n",
       "      <td>10.1</td>\n",
       "      <td>8.9</td>\n",
       "      <td>9.3</td>\n",
       "      <td>0.010710</td>\n",
       "      <td>0.009398</td>\n",
       "      <td>0.009677</td>\n",
       "    </tr>\n",
       "    <tr>\n",
       "      <th>2</th>\n",
       "      <td>3</td>\n",
       "      <td>980</td>\n",
       "      <td>980</td>\n",
       "      <td>987</td>\n",
       "      <td>10.4</td>\n",
       "      <td>8.7</td>\n",
       "      <td>10.3</td>\n",
       "      <td>0.010612</td>\n",
       "      <td>0.008878</td>\n",
       "      <td>0.010436</td>\n",
       "    </tr>\n",
       "  </tbody>\n",
       "</table>\n",
       "</div>"
      ],
      "text/plain": [
       "   id  price_0  price_1  price_2  rating_0  rating_1  rating_2   value_0  \\\n",
       "0   1      380      385      389       4.1       3.3       4.0  0.010789   \n",
       "1   2      943      947      961      10.1       8.9       9.3  0.010710   \n",
       "2   3      980      980      987      10.4       8.7      10.3  0.010612   \n",
       "\n",
       "    value_1   value_2  \n",
       "0  0.008571  0.010283  \n",
       "1  0.009398  0.009677  \n",
       "2  0.008878  0.010436  "
      ]
     },
     "execution_count": 9,
     "metadata": {},
     "output_type": "execute_result"
    }
   ],
   "source": [
    "# value=「視聴率/号数（価格）」を求める。(これを比較して、貪欲に取り出す。)\n",
    "for i in range(client_num):\n",
    "    df_sample['value_'+str(i)] = df_sample['rating_'+str(i)]/df_sample['price_'+str(i)]\n",
    "\n",
    "# valueができていることの確認。\n",
    "df_sample.head(3)"
   ]
  },
  {
   "cell_type": "markdown",
   "metadata": {},
   "source": [
    "<b><font color='Red'>※valueは、正の数じゃなくても良い（単なる大きさ比較だから。）</font>\n",
    "    <br>しかし、余ったものをナップザック問題で解くので、そこでは正の数でないといけない。（０の方が大きいから。）\n",
    "    <br>とはいえ、価格、視聴率のどちらかが負の数になることは考えにくいため、意識するる必要はなさげ。</b>"
   ]
  },
  {
   "cell_type": "code",
   "execution_count": 10,
   "metadata": {},
   "outputs": [],
   "source": [
    "# 2重のリストをフラットにする関数(重複は残る！)\n",
    "def Flatten_dual(nested_list):\n",
    "    return [e for inner_list in nested_list for e in inner_list]"
   ]
  },
  {
   "cell_type": "code",
   "execution_count": 11,
   "metadata": {},
   "outputs": [],
   "source": [
    "def DPMKP(df, original_prices, original_points, rate, client_num):\n",
    "    result = dict() #結果を格納する。\n",
    "    obtained_prices = [0 for i in range(client_num)] #獲得した枠の値段をそれぞれ格納する。\n",
    "    obtained_points = [0 for i in range(client_num)] #獲得した枠の視聴率をそれぞれ格納する。\n",
    "    obtained_idses = [[] for i in range(client_num)] #獲得した枠のidをそれぞれ格納する。\n",
    "    idses = [[] for i in range(client_num)] # 各ナップザック問題でそれぞれが指定した枠のidを格納する。\n",
    "    add_idses = [[] for i in range(client_num)] # 各ナップザック問題の結果、獲得した枠のidを格納する。\n",
    "    count = 0\n",
    "    \n",
    "    while len(df)>0:\n",
    "        for i in range(client_num):\n",
    "            original_price = original_prices[i] # 交換前の価格合計。\n",
    "            original_point = original_points[i] # 交換前の視聴率合計。\n",
    "            size = list(np.array(df['price_' + str(i)]))\n",
    "            weight = list(np.array(df['rating_' + str(i)]))\n",
    "            capacity = original_price*rate - obtained_prices[i]\n",
    "            idses[i] = knapsack(size, weight, capacity)[1]\n",
    "\n",
    "        ids_dict = dict()\n",
    "        for key in range(len(df)): # それぞれのindex\n",
    "            values = [] # そのidの枠を指定したクライアントを格納するリスト。\n",
    "            for j in range(client_num): # それぞれのクライアントごとに、\n",
    "                if key in idses[j]: # そのid（のindex）があれば、\n",
    "                    values.append(j) # valuesにクライアントの名前が格納される。\n",
    "            if values: # そのidを指定したクライアントがいれば、\n",
    "                value = random.choice(values) # その中からクライアントをランダムに選ぶ。\n",
    "                ids_dict[key] = value # idと合わせて格納される。\n",
    "\n",
    "        if len(ids_dict)==0: # もしどのクライアントも選ばなかったら、\n",
    "            rate += 0.01*(count) # 仕方なくrateを少しずつ上げていく。\n",
    "            count += 1\n",
    "            \n",
    "        for i in range(client_num):\n",
    "            add_idses[i] = [ids for ids, client in ids_dict.items() if client == i] # クライアントごとに、獲得したid\n",
    "            # obtained_idses[i] += add_idses[i]\n",
    "            obtained_idses[i] += df.query('index in ' + str(add_idses[i]))['id'].values.tolist()\n",
    "            obtained_prices[i] += sum(df.query('index in ' + str(add_idses[i]))['price_' + str(i)])\n",
    "            obtained_points[i] += sum(df.query('index in ' + str(add_idses[i]))['rating_' + str(i)])\n",
    "\n",
    "        extraction_ids = Flatten_dual(add_idses) # 今回獲得されたidの集合を、取り除く。\n",
    "        df = df.query('index not in ' + str(extraction_ids)).reset_index(drop=True)\n",
    "    \n",
    "    if obtained_points > original_points:\n",
    "        sum_point = round(sum(obtained_points), 2) # 合計値を小数第二位までで表示。\n",
    "        result[sum_point] = obtained_prices, obtained_idses\n",
    "    \n",
    "    return result"
   ]
  },
  {
   "cell_type": "code",
   "execution_count": 12,
   "metadata": {},
   "outputs": [
    {
     "name": "stdout",
     "output_type": "stream",
     "text": [
      "処理時間は: 0.234 [sec]\n"
     ]
    },
    {
     "data": {
      "text/plain": [
       "{205.0: ([6144, 4812, 8007],\n",
       "  [[1, 2, 4, 6, 7, 12, 23, 26, 29, 24],\n",
       "   [8, 9, 11, 13, 16, 20, 27, 30],\n",
       "   [3, 5, 10, 15, 17, 18, 19, 21, 22, 25, 28, 14]])}"
      ]
     },
     "execution_count": 12,
     "metadata": {},
     "output_type": "execute_result"
    }
   ],
   "source": [
    "# 1回のループの結果。\n",
    "start = time.time()\n",
    "result = DPMKP(df_sample, original_prices, original_points, 1.05, client_num)\n",
    "end = time.time()\n",
    "print('処理時間は:', round(end-start, 3), '[sec]')\n",
    "result"
   ]
  },
  {
   "cell_type": "code",
   "execution_count": 13,
   "metadata": {},
   "outputs": [
    {
     "name": "stdout",
     "output_type": "stream",
     "text": [
      "10回分の処理時間は: 2.292 [sec]\n"
     ]
    }
   ],
   "source": [
    "# 10回分のループ処理時間。\n",
    "start = time.time()\n",
    "\n",
    "results = {}\n",
    "for i in range(10):\n",
    "    results.update(DPMKP(df_sample, original_prices, original_points, 1.05, client_num))\n",
    "    \n",
    "end = time.time()\n",
    "print('10回分の処理時間は:', round(end-start, 3), '[sec]')"
   ]
  },
  {
   "cell_type": "code",
   "execution_count": 14,
   "metadata": {},
   "outputs": [],
   "source": [
    "total_prices = [0 for i in range(client_num)]\n",
    "total_points = [0 for i in range(client_num)]\n",
    "\n",
    "for i in range(client_num):\n",
    "    chose_ids = results[max(results.keys())][1][i]\n",
    "    total_prices[i] += sum(df_sample.query('index in ' + str(chose_ids))['price_' + str(i)])\n",
    "    total_points[i] += sum(df_sample.query('index in ' + str(chose_ids))['rating_' + str(i)])"
   ]
  },
  {
   "cell_type": "code",
   "execution_count": 15,
   "metadata": {},
   "outputs": [
    {
     "name": "stdout",
     "output_type": "stream",
     "text": [
      "交換前の合計価格　: [6208, 5157, 7668]\n",
      "獲得枠の合計価格　: [6221, 6370, 5998]\n",
      "交換前の合計視聴率: [60.3 51.8 76. ]\n",
      "獲得枠の合計視聴率: [62.8 63.4 60. ]\n"
     ]
    }
   ],
   "source": [
    "print('交換前の合計価格　:', original_prices)\n",
    "print('獲得枠の合計価格　:', total_prices)\n",
    "print('交換前の合計視聴率:', np.round(np.array(original_points), 2))\n",
    "print('獲得枠の合計視聴率:', np.round(np.array(total_points), 2))"
   ]
  },
  {
   "cell_type": "markdown",
   "metadata": {},
   "source": [
    "### ○これだと、枠の数が少ない場合に交換前の視聴率和を越えない場合がある。"
   ]
  },
  {
   "cell_type": "code",
   "execution_count": null,
   "metadata": {},
   "outputs": [],
   "source": []
  }
 ],
 "metadata": {
  "kernelspec": {
   "display_name": "Python 3",
   "language": "python",
   "name": "python3"
  },
  "language_info": {
   "codemirror_mode": {
    "name": "ipython",
    "version": 3
   },
   "file_extension": ".py",
   "mimetype": "text/x-python",
   "name": "python",
   "nbconvert_exporter": "python",
   "pygments_lexer": "ipython3",
   "version": "3.6.4"
  }
 },
 "nbformat": 4,
 "nbformat_minor": 2
}

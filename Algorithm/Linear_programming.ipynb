{
 "cells": [
  {
   "cell_type": "markdown",
   "metadata": {},
   "source": [
    "# 枠回しのアルゴリズム"
   ]
  },
  {
   "cell_type": "code",
   "execution_count": 1,
   "metadata": {},
   "outputs": [],
   "source": [
    "import cvxpy\n",
    "import numpy as np"
   ]
  },
  {
   "cell_type": "markdown",
   "metadata": {},
   "source": [
    "```\n",
    "Variable()     # スカラーを表す。\n",
    "Variable(5)    # ベクトルを表す。\n",
    "Variable(4, 7) # 行列を表す。\n",
    "```"
   ]
  },
  {
   "cell_type": "markdown",
   "metadata": {},
   "source": [
    "[cvxpyの情報](https://www.cvxpy.org/tutorial/advanced/index.html)\n",
    "<b></b>"
   ]
  },
  {
   "cell_type": "code",
   "execution_count": 2,
   "metadata": {},
   "outputs": [],
   "source": [
    "Pai = np.array([1, -1, 1, 1, -1, -1, -1, -1]) # Aの号数\n",
    "Pbi = np.array([1, -1, 1, -1, -1, -1, -1, 1]) # Bの号数\n",
    "Wi = np.array([22, 12, 16, 10, 35, 26, 42, 53]) # 視聴率の上昇量\n",
    "Ci = cvxpy.Variable(len(Pai), boolean=True) # 取得するかどうかのフラグ\n",
    "objective = cvxpy.Maximize(Wi * Ci) # 最大化したいもの（＝視聴率の上昇量）\n",
    "constraints = [Pai * Ci == 0] + [Pbi * Ci == 0] # A,Bの号数が変わらないという制約条件\n",
    "prob = cvxpy.Problem(objective, constraints) # 解く問題のこと。\n",
    "prob.solve(solver=cvxpy.ECOS_BB) # solverを変える事で、解き方が変わる。\n",
    "result = [round(ix, 0) for ix in Ci.value] # これで、フラグが0, 1で表される。"
   ]
  },
  {
   "cell_type": "code",
   "execution_count": 3,
   "metadata": {},
   "outputs": [
    {
     "name": "stdout",
     "output_type": "stream",
     "text": [
      "取得する枠かのフラグ: [1.0, 0.0, 1.0, 1.0, 1.0, 0.0, 1.0, 1.0]\n"
     ]
    }
   ],
   "source": [
    "print(\"取得する枠かのフラグ:\", result)"
   ]
  },
  {
   "cell_type": "code",
   "execution_count": 4,
   "metadata": {},
   "outputs": [
    {
     "name": "stdout",
     "output_type": "stream",
     "text": [
      "取得する枠の視聴率の上昇値: [22.  0. 16. 10. 35.  0. 42. 53.]\n"
     ]
    }
   ],
   "source": [
    "print(\"取得する枠の視聴率の上昇値:\", np.array(result)*Wi)"
   ]
  },
  {
   "cell_type": "code",
   "execution_count": 5,
   "metadata": {},
   "outputs": [
    {
     "name": "stdout",
     "output_type": "stream",
     "text": [
      "上昇値の合計値: 178.0\n"
     ]
    }
   ],
   "source": [
    "print(\"上昇値の合計値:\", sum(np.array(result)*Wi))"
   ]
  },
  {
   "cell_type": "code",
   "execution_count": null,
   "metadata": {},
   "outputs": [],
   "source": []
  }
 ],
 "metadata": {
  "kernelspec": {
   "display_name": "Python 3",
   "language": "python",
   "name": "python3"
  },
  "language_info": {
   "codemirror_mode": {
    "name": "ipython",
    "version": 3
   },
   "file_extension": ".py",
   "mimetype": "text/x-python",
   "name": "python",
   "nbconvert_exporter": "python",
   "pygments_lexer": "ipython3",
   "version": "3.6.4"
  }
 },
 "nbformat": 4,
 "nbformat_minor": 2
}

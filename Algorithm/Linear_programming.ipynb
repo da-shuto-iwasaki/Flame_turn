{
 "cells": [
  {
   "cell_type": "markdown",
   "metadata": {},
   "source": [
    "# 枠回しのアルゴリズム"
   ]
  },
  {
   "cell_type": "code",
   "execution_count": 3,
   "metadata": {},
   "outputs": [],
   "source": [
    "import cvxpy\n",
    "import numpy as np\n",
    "import pandas as pd"
   ]
  },
  {
   "cell_type": "markdown",
   "metadata": {},
   "source": [
    "[cvxpyの情報](https://www.cvxpy.org/tutorial/advanced/index.html)\n",
    "<b></b>"
   ]
  },
  {
   "cell_type": "markdown",
   "metadata": {},
   "source": [
    "```\n",
    "Variable()     # スカラーを表す。\n",
    "Variable(5)    # ベクトルを表す。\n",
    "Variable(4, 7) # 行列を表す。\n",
    "```"
   ]
  },
  {
   "cell_type": "markdown",
   "metadata": {},
   "source": [
    "## ○線型計画法を用いる。\n",
    "__<font color='Red'>花王のターゲットが主婦</font>、CCJCのターゲットがM3549であるが、<br>\n",
    "花王の枠にM3549の情報がないため、<font color='Red'>CCJCのターゲットを女 20～34才</font>とする<br>\n",
    "また、<font color='Red'>花王が号数6、CCJCが号数4（そのまま）</font>であるとする。__"
   ]
  },
  {
   "cell_type": "code",
   "execution_count": 68,
   "metadata": {},
   "outputs": [],
   "source": [
    "# データの読み込み。\n",
    "df_CCJC = pd.read_excel('sample/df_CCJC_sample.xlsx').loc[:, [\"id\",\"6_gou\",\"世帯\",\"女 20～34才\",\"主婦\"]].reset_index(drop=True)\n",
    "df_kao = pd.read_excel('sample/df_kao_sample.xlsx').loc[:, [\"id\",\"6_gou\",\"世帯\",\"女 20～34才\",\"主婦\"]].reset_index(drop=True)"
   ]
  },
  {
   "cell_type": "code",
   "execution_count": 69,
   "metadata": {},
   "outputs": [],
   "source": [
    "# 同じ向きに引くことがポイント！！\n",
    "df_CCJC['相対価値'] = df_CCJC[\"女 20～34才\"]-df_CCJC[\"主婦\"]\n",
    "df_kao['相対価値'] = df_kao[\"女 20～34才\"]-df_kao[\"主婦\"]"
   ]
  },
  {
   "cell_type": "code",
   "execution_count": 70,
   "metadata": {},
   "outputs": [
    {
     "name": "stdout",
     "output_type": "stream",
     "text": [
      "データ数: 50\n"
     ]
    },
    {
     "data": {
      "text/html": [
       "<div>\n",
       "<style scoped>\n",
       "    .dataframe tbody tr th:only-of-type {\n",
       "        vertical-align: middle;\n",
       "    }\n",
       "\n",
       "    .dataframe tbody tr th {\n",
       "        vertical-align: top;\n",
       "    }\n",
       "\n",
       "    .dataframe thead th {\n",
       "        text-align: right;\n",
       "    }\n",
       "</style>\n",
       "<table border=\"1\" class=\"dataframe\">\n",
       "  <thead>\n",
       "    <tr style=\"text-align: right;\">\n",
       "      <th></th>\n",
       "      <th>id</th>\n",
       "      <th>6_gou</th>\n",
       "      <th>世帯</th>\n",
       "      <th>女 20～34才</th>\n",
       "      <th>主婦</th>\n",
       "      <th>相対価値</th>\n",
       "    </tr>\n",
       "  </thead>\n",
       "  <tbody>\n",
       "    <tr>\n",
       "      <th>0</th>\n",
       "      <td>1</td>\n",
       "      <td>10.0</td>\n",
       "      <td>10.4</td>\n",
       "      <td>5.7</td>\n",
       "      <td>8.1</td>\n",
       "      <td>-2.4</td>\n",
       "    </tr>\n",
       "    <tr>\n",
       "      <th>1</th>\n",
       "      <td>2</td>\n",
       "      <td>6.6</td>\n",
       "      <td>6.1</td>\n",
       "      <td>4.1</td>\n",
       "      <td>5.4</td>\n",
       "      <td>-1.3</td>\n",
       "    </tr>\n",
       "    <tr>\n",
       "      <th>2</th>\n",
       "      <td>3</td>\n",
       "      <td>6.6</td>\n",
       "      <td>6.1</td>\n",
       "      <td>4.1</td>\n",
       "      <td>5.4</td>\n",
       "      <td>-1.3</td>\n",
       "    </tr>\n",
       "  </tbody>\n",
       "</table>\n",
       "</div>"
      ],
      "text/plain": [
       "   id  6_gou    世帯  女 20～34才   主婦  相対価値\n",
       "0   1   10.0  10.4       5.7  8.1  -2.4\n",
       "1   2    6.6   6.1       4.1  5.4  -1.3\n",
       "2   3    6.6   6.1       4.1  5.4  -1.3"
      ]
     },
     "execution_count": 70,
     "metadata": {},
     "output_type": "execute_result"
    }
   ],
   "source": [
    "print(\"データ数:\", len(df_kao))\n",
    "df_kao.head(3)"
   ]
  },
  {
   "cell_type": "code",
   "execution_count": 71,
   "metadata": {},
   "outputs": [
    {
     "name": "stdout",
     "output_type": "stream",
     "text": [
      "データ数: 50\n"
     ]
    },
    {
     "data": {
      "text/html": [
       "<div>\n",
       "<style scoped>\n",
       "    .dataframe tbody tr th:only-of-type {\n",
       "        vertical-align: middle;\n",
       "    }\n",
       "\n",
       "    .dataframe tbody tr th {\n",
       "        vertical-align: top;\n",
       "    }\n",
       "\n",
       "    .dataframe thead th {\n",
       "        text-align: right;\n",
       "    }\n",
       "</style>\n",
       "<table border=\"1\" class=\"dataframe\">\n",
       "  <thead>\n",
       "    <tr style=\"text-align: right;\">\n",
       "      <th></th>\n",
       "      <th>id</th>\n",
       "      <th>6_gou</th>\n",
       "      <th>世帯</th>\n",
       "      <th>女 20～34才</th>\n",
       "      <th>主婦</th>\n",
       "      <th>相対価値</th>\n",
       "    </tr>\n",
       "  </thead>\n",
       "  <tbody>\n",
       "    <tr>\n",
       "      <th>0</th>\n",
       "      <td>1</td>\n",
       "      <td>6.6</td>\n",
       "      <td>8.7</td>\n",
       "      <td>3.9</td>\n",
       "      <td>6.5</td>\n",
       "      <td>-2.6</td>\n",
       "    </tr>\n",
       "    <tr>\n",
       "      <th>1</th>\n",
       "      <td>2</td>\n",
       "      <td>5.5</td>\n",
       "      <td>5.7</td>\n",
       "      <td>3.5</td>\n",
       "      <td>4.2</td>\n",
       "      <td>-0.7</td>\n",
       "    </tr>\n",
       "    <tr>\n",
       "      <th>2</th>\n",
       "      <td>3</td>\n",
       "      <td>5.5</td>\n",
       "      <td>5.7</td>\n",
       "      <td>3.5</td>\n",
       "      <td>4.2</td>\n",
       "      <td>-0.7</td>\n",
       "    </tr>\n",
       "  </tbody>\n",
       "</table>\n",
       "</div>"
      ],
      "text/plain": [
       "   id  6_gou   世帯  女 20～34才   主婦  相対価値\n",
       "0   1    6.6  8.7       3.9  6.5  -2.6\n",
       "1   2    5.5  5.7       3.5  4.2  -0.7\n",
       "2   3    5.5  5.7       3.5  4.2  -0.7"
      ]
     },
     "execution_count": 71,
     "metadata": {},
     "output_type": "execute_result"
    }
   ],
   "source": [
    "print(\"データ数:\", len(df_CCJC))\n",
    "df_CCJC.head(3)"
   ]
  },
  {
   "cell_type": "markdown",
   "metadata": {},
   "source": [
    "#### 相対価値のところで逆向きに引いた方（花王）の値を全てひっくり返す！"
   ]
  },
  {
   "cell_type": "code",
   "execution_count": 72,
   "metadata": {},
   "outputs": [
    {
     "data": {
      "text/html": [
       "<div>\n",
       "<style scoped>\n",
       "    .dataframe tbody tr th:only-of-type {\n",
       "        vertical-align: middle;\n",
       "    }\n",
       "\n",
       "    .dataframe tbody tr th {\n",
       "        vertical-align: top;\n",
       "    }\n",
       "\n",
       "    .dataframe thead th {\n",
       "        text-align: right;\n",
       "    }\n",
       "</style>\n",
       "<table border=\"1\" class=\"dataframe\">\n",
       "  <thead>\n",
       "    <tr style=\"text-align: right;\">\n",
       "      <th></th>\n",
       "      <th>id</th>\n",
       "      <th>6_gou</th>\n",
       "      <th>世帯</th>\n",
       "      <th>女 20～34才</th>\n",
       "      <th>主婦</th>\n",
       "      <th>相対価値</th>\n",
       "    </tr>\n",
       "  </thead>\n",
       "  <tbody>\n",
       "    <tr>\n",
       "      <th>0</th>\n",
       "      <td>-1</td>\n",
       "      <td>-10.0</td>\n",
       "      <td>-10.4</td>\n",
       "      <td>-5.7</td>\n",
       "      <td>-8.1</td>\n",
       "      <td>2.4</td>\n",
       "    </tr>\n",
       "    <tr>\n",
       "      <th>1</th>\n",
       "      <td>-2</td>\n",
       "      <td>-6.6</td>\n",
       "      <td>-6.1</td>\n",
       "      <td>-4.1</td>\n",
       "      <td>-5.4</td>\n",
       "      <td>1.3</td>\n",
       "    </tr>\n",
       "    <tr>\n",
       "      <th>2</th>\n",
       "      <td>-3</td>\n",
       "      <td>-6.6</td>\n",
       "      <td>-6.1</td>\n",
       "      <td>-4.1</td>\n",
       "      <td>-5.4</td>\n",
       "      <td>1.3</td>\n",
       "    </tr>\n",
       "  </tbody>\n",
       "</table>\n",
       "</div>"
      ],
      "text/plain": [
       "   id  6_gou    世帯  女 20～34才   主婦  相対価値\n",
       "0  -1  -10.0 -10.4      -5.7 -8.1   2.4\n",
       "1  -2   -6.6  -6.1      -4.1 -5.4   1.3\n",
       "2  -3   -6.6  -6.1      -4.1 -5.4   1.3"
      ]
     },
     "execution_count": 72,
     "metadata": {},
     "output_type": "execute_result"
    }
   ],
   "source": [
    "df_kao = df_kao.applymap(lambda x:-x)\n",
    "df_kao.head(3)"
   ]
  },
  {
   "cell_type": "code",
   "execution_count": 75,
   "metadata": {},
   "outputs": [],
   "source": [
    "# そのままくっつける。\n",
    "df = pd.concat([df_kao, df_CCJC]).reset_index(drop=True)"
   ]
  },
  {
   "cell_type": "markdown",
   "metadata": {},
   "source": [
    "***\n",
    "***"
   ]
  },
  {
   "cell_type": "code",
   "execution_count": 87,
   "metadata": {},
   "outputs": [
    {
     "ename": "TypeError",
     "evalue": "'NoneType' object is not iterable",
     "output_type": "error",
     "traceback": [
      "\u001b[0;31m---------------------------------------------------------------------------\u001b[0m",
      "\u001b[0;31mTypeError\u001b[0m                                 Traceback (most recent call last)",
      "\u001b[0;32m<ipython-input-87-d10915d293eb>\u001b[0m in \u001b[0;36m<module>\u001b[0;34m()\u001b[0m\n\u001b[1;32m      7\u001b[0m \u001b[0mprob\u001b[0m \u001b[0;34m=\u001b[0m \u001b[0mcvxpy\u001b[0m\u001b[0;34m.\u001b[0m\u001b[0mProblem\u001b[0m\u001b[0;34m(\u001b[0m\u001b[0mobjective\u001b[0m\u001b[0;34m,\u001b[0m \u001b[0mconstraints\u001b[0m\u001b[0;34m)\u001b[0m \u001b[0;31m# 解く問題のこと。\u001b[0m\u001b[0;34m\u001b[0m\u001b[0m\n\u001b[1;32m      8\u001b[0m \u001b[0mprob\u001b[0m\u001b[0;34m.\u001b[0m\u001b[0msolve\u001b[0m\u001b[0;34m(\u001b[0m\u001b[0msolver\u001b[0m\u001b[0;34m=\u001b[0m\u001b[0mcvxpy\u001b[0m\u001b[0;34m.\u001b[0m\u001b[0mECOS_BB\u001b[0m\u001b[0;34m)\u001b[0m \u001b[0;31m# solverを変える事で、解き方が変わる。\u001b[0m\u001b[0;34m\u001b[0m\u001b[0m\n\u001b[0;32m----> 9\u001b[0;31m \u001b[0mresult\u001b[0m \u001b[0;34m=\u001b[0m \u001b[0;34m[\u001b[0m\u001b[0mround\u001b[0m\u001b[0;34m(\u001b[0m\u001b[0mix\u001b[0m\u001b[0;34m,\u001b[0m \u001b[0;36m0\u001b[0m\u001b[0;34m)\u001b[0m \u001b[0;32mfor\u001b[0m \u001b[0mix\u001b[0m \u001b[0;32min\u001b[0m \u001b[0mCi\u001b[0m\u001b[0;34m.\u001b[0m\u001b[0mvalue\u001b[0m\u001b[0;34m]\u001b[0m \u001b[0;31m# これで、フラグが0, 1で表される。\u001b[0m\u001b[0;34m\u001b[0m\u001b[0m\n\u001b[0m",
      "\u001b[0;31mTypeError\u001b[0m: 'NoneType' object is not iterable"
     ]
    }
   ],
   "source": [
    "Pai = df['6_gou'].values # 花王の指定号数に従った枠の視聴率\n",
    "Pbi = df['世帯'].values # CCJCの指定号数に従った枠の視聴率\n",
    "Wi = df['相対価値'].values # 視聴率の上昇量(これを最大化したい)\n",
    "Ci = cvxpy.Variable(len(Pai), boolean=True) # 取得するかどうかのフラグ\n",
    "objective = cvxpy.Maximize(Wi * Ci) # 最大化したいもの（＝視聴率の上昇量）\n",
    "constraints = [Pai * Ci == 0] + [Pbi * Ci == 0] # A,Bの号数が変わらないという制約条件\n",
    "prob = cvxpy.Problem(objective, constraints) # 解く問題のこと。\n",
    "prob.solve(solver=cvxpy.ECOS_BB) # solverを変える事で、解き方が変わる。\n",
    "result = [round(ix, 0) for ix in Ci.value] # これで、フラグが0, 1で表される。"
   ]
  },
  {
   "cell_type": "code",
   "execution_count": null,
   "metadata": {},
   "outputs": [],
   "source": [
    "print(\"取得する枠かのフラグ:\", result)"
   ]
  },
  {
   "cell_type": "code",
   "execution_count": 4,
   "metadata": {},
   "outputs": [
    {
     "name": "stdout",
     "output_type": "stream",
     "text": [
      "取得する枠の視聴率の上昇値: [22.  0. 16. 10. 35.  0. 42. 53.]\n"
     ]
    }
   ],
   "source": [
    "print(\"取得する枠の視聴率の上昇値:\", np.array(result)*Wi)"
   ]
  },
  {
   "cell_type": "code",
   "execution_count": 5,
   "metadata": {},
   "outputs": [
    {
     "name": "stdout",
     "output_type": "stream",
     "text": [
      "上昇値の合計値: 178.0\n"
     ]
    }
   ],
   "source": [
    "print(\"上昇値の合計値:\", sum(np.array(result)*Wi))"
   ]
  },
  {
   "cell_type": "code",
   "execution_count": null,
   "metadata": {},
   "outputs": [],
   "source": []
  }
 ],
 "metadata": {
  "kernelspec": {
   "display_name": "Python 3",
   "language": "python",
   "name": "python3"
  },
  "language_info": {
   "codemirror_mode": {
    "name": "ipython",
    "version": 3
   },
   "file_extension": ".py",
   "mimetype": "text/x-python",
   "name": "python",
   "nbconvert_exporter": "python",
   "pygments_lexer": "ipython3",
   "version": "3.6.4"
  }
 },
 "nbformat": 4,
 "nbformat_minor": 2
}

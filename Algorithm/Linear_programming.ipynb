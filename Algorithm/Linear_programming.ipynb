{
 "cells": [
  {
   "cell_type": "markdown",
   "metadata": {},
   "source": [
    "# 枠回しのアルゴリズム"
   ]
  },
  {
   "cell_type": "code",
   "execution_count": 14,
   "metadata": {},
   "outputs": [],
   "source": [
    "import cvxpy\n",
    "import numpy as np\n",
    "import pandas as pd\n",
    "import time"
   ]
  },
  {
   "cell_type": "markdown",
   "metadata": {},
   "source": [
    "[cvxpyの情報](https://www.cvxpy.org/tutorial/advanced/index.html)\n",
    "<b></b>"
   ]
  },
  {
   "cell_type": "markdown",
   "metadata": {},
   "source": [
    "```\n",
    "Variable()     # スカラーを表す。\n",
    "Variable(5)    # ベクトルを表す。\n",
    "Variable(4, 7) # 行列を表す。\n",
    "```"
   ]
  },
  {
   "cell_type": "markdown",
   "metadata": {},
   "source": [
    "## ○線型計画法を用いる。\n",
    "__本当は、［SB：M1834 花王：主婦］が指定階層であるが、<br>\n",
    "データの関係上、<font color='Red'>［SB：女30~49 花王：女18~34］</font>とする。<br>\n",
    "また、<font color='Red'>号数は等しく4（既にあるデータ）</font>とする。__"
   ]
  },
  {
   "cell_type": "code",
   "execution_count": 13,
   "metadata": {},
   "outputs": [],
   "source": [
    "# データの読み込み。\n",
    "df_SB = pd.read_excel('input/SB予測_201808.xlsx').loc[:, ['世帯','女 18～34才','女 30～39才']]\n",
    "df_kao = pd.read_excel('input/花王予測_201808.xlsx').loc[:, ['世帯','女 18～34才','主婦']].rename(columns={'主婦':'女 30～39才'})"
   ]
  },
  {
   "cell_type": "code",
   "execution_count": 26,
   "metadata": {},
   "outputs": [],
   "source": [
    "SB_target  = '女 30～39才'\n",
    "kao_target = '女 18～34才'\n",
    "SB_gou  = '世帯'\n",
    "kao_gou = '世帯'"
   ]
  },
  {
   "cell_type": "code",
   "execution_count": 22,
   "metadata": {},
   "outputs": [],
   "source": [
    "# 同じ向きに引くことがポイント！！\n",
    "df_SB['value'] = df_SB[SB_target] - df_SB[kao_target]\n",
    "df_kao['value'] = df_kao[SB_target] - df_kao[kao_target]"
   ]
  },
  {
   "cell_type": "code",
   "execution_count": 30,
   "metadata": {
    "scrolled": true
   },
   "outputs": [
    {
     "name": "stdout",
     "output_type": "stream",
     "text": [
      "データ数: 127\n"
     ]
    },
    {
     "data": {
      "text/html": [
       "<div>\n",
       "<style scoped>\n",
       "    .dataframe tbody tr th:only-of-type {\n",
       "        vertical-align: middle;\n",
       "    }\n",
       "\n",
       "    .dataframe tbody tr th {\n",
       "        vertical-align: top;\n",
       "    }\n",
       "\n",
       "    .dataframe thead th {\n",
       "        text-align: right;\n",
       "    }\n",
       "</style>\n",
       "<table border=\"1\" class=\"dataframe\">\n",
       "  <thead>\n",
       "    <tr style=\"text-align: right;\">\n",
       "      <th></th>\n",
       "      <th>世帯</th>\n",
       "      <th>女 18～34才</th>\n",
       "      <th>女 30～39才</th>\n",
       "      <th>value</th>\n",
       "    </tr>\n",
       "  </thead>\n",
       "  <tbody>\n",
       "    <tr>\n",
       "      <th>1</th>\n",
       "      <td>6.1</td>\n",
       "      <td>3.5</td>\n",
       "      <td>4.6</td>\n",
       "      <td>1.1</td>\n",
       "    </tr>\n",
       "    <tr>\n",
       "      <th>2</th>\n",
       "      <td>9.0</td>\n",
       "      <td>2.6</td>\n",
       "      <td>4.1</td>\n",
       "      <td>1.5</td>\n",
       "    </tr>\n",
       "    <tr>\n",
       "      <th>3</th>\n",
       "      <td>10.1</td>\n",
       "      <td>2.1</td>\n",
       "      <td>3.0</td>\n",
       "      <td>0.9</td>\n",
       "    </tr>\n",
       "  </tbody>\n",
       "</table>\n",
       "</div>"
      ],
      "text/plain": [
       "     世帯  女 18～34才  女 30～39才  value\n",
       "1   6.1       3.5       4.6    1.1\n",
       "2   9.0       2.6       4.1    1.5\n",
       "3  10.1       2.1       3.0    0.9"
      ]
     },
     "execution_count": 30,
     "metadata": {},
     "output_type": "execute_result"
    }
   ],
   "source": [
    "print(\"データ数:\", len(df_SB))\n",
    "df_SB.head(3)"
   ]
  },
  {
   "cell_type": "code",
   "execution_count": 29,
   "metadata": {},
   "outputs": [
    {
     "name": "stdout",
     "output_type": "stream",
     "text": [
      "データ数: 2268\n"
     ]
    },
    {
     "data": {
      "text/html": [
       "<div>\n",
       "<style scoped>\n",
       "    .dataframe tbody tr th:only-of-type {\n",
       "        vertical-align: middle;\n",
       "    }\n",
       "\n",
       "    .dataframe tbody tr th {\n",
       "        vertical-align: top;\n",
       "    }\n",
       "\n",
       "    .dataframe thead th {\n",
       "        text-align: right;\n",
       "    }\n",
       "</style>\n",
       "<table border=\"1\" class=\"dataframe\">\n",
       "  <thead>\n",
       "    <tr style=\"text-align: right;\">\n",
       "      <th></th>\n",
       "      <th>世帯</th>\n",
       "      <th>女 18～34才</th>\n",
       "      <th>女 30～39才</th>\n",
       "      <th>value</th>\n",
       "    </tr>\n",
       "  </thead>\n",
       "  <tbody>\n",
       "    <tr>\n",
       "      <th>1</th>\n",
       "      <td>8.7</td>\n",
       "      <td>4.0</td>\n",
       "      <td>7.6</td>\n",
       "      <td>3.6</td>\n",
       "    </tr>\n",
       "    <tr>\n",
       "      <th>2</th>\n",
       "      <td>5.1</td>\n",
       "      <td>2.3</td>\n",
       "      <td>4.1</td>\n",
       "      <td>1.8</td>\n",
       "    </tr>\n",
       "    <tr>\n",
       "      <th>3</th>\n",
       "      <td>5.1</td>\n",
       "      <td>2.3</td>\n",
       "      <td>4.1</td>\n",
       "      <td>1.8</td>\n",
       "    </tr>\n",
       "  </tbody>\n",
       "</table>\n",
       "</div>"
      ],
      "text/plain": [
       "    世帯  女 18～34才  女 30～39才  value\n",
       "1  8.7       4.0       7.6    3.6\n",
       "2  5.1       2.3       4.1    1.8\n",
       "3  5.1       2.3       4.1    1.8"
      ]
     },
     "execution_count": 29,
     "metadata": {},
     "output_type": "execute_result"
    }
   ],
   "source": [
    "print(\"データ数:\", len(df_kao))\n",
    "df_kao.head(3)"
   ]
  },
  {
   "cell_type": "markdown",
   "metadata": {},
   "source": [
    "#### 相対価値のところで逆向きに引いた方（花王）の値を全てひっくり返す！"
   ]
  },
  {
   "cell_type": "code",
   "execution_count": 65,
   "metadata": {},
   "outputs": [
    {
     "data": {
      "text/html": [
       "<div>\n",
       "<style scoped>\n",
       "    .dataframe tbody tr th:only-of-type {\n",
       "        vertical-align: middle;\n",
       "    }\n",
       "\n",
       "    .dataframe tbody tr th {\n",
       "        vertical-align: top;\n",
       "    }\n",
       "\n",
       "    .dataframe thead th {\n",
       "        text-align: right;\n",
       "    }\n",
       "</style>\n",
       "<table border=\"1\" class=\"dataframe\">\n",
       "  <thead>\n",
       "    <tr style=\"text-align: right;\">\n",
       "      <th></th>\n",
       "      <th>世帯</th>\n",
       "      <th>女 18～34才</th>\n",
       "      <th>女 30～39才</th>\n",
       "      <th>value</th>\n",
       "    </tr>\n",
       "  </thead>\n",
       "  <tbody>\n",
       "    <tr>\n",
       "      <th>1</th>\n",
       "      <td>-8.7</td>\n",
       "      <td>-4.0</td>\n",
       "      <td>-7.6</td>\n",
       "      <td>-3.6</td>\n",
       "    </tr>\n",
       "    <tr>\n",
       "      <th>2</th>\n",
       "      <td>-5.1</td>\n",
       "      <td>-2.3</td>\n",
       "      <td>-4.1</td>\n",
       "      <td>-1.8</td>\n",
       "    </tr>\n",
       "    <tr>\n",
       "      <th>3</th>\n",
       "      <td>-5.1</td>\n",
       "      <td>-2.3</td>\n",
       "      <td>-4.1</td>\n",
       "      <td>-1.8</td>\n",
       "    </tr>\n",
       "  </tbody>\n",
       "</table>\n",
       "</div>"
      ],
      "text/plain": [
       "    世帯  女 18～34才  女 30～39才  value\n",
       "1 -8.7      -4.0      -7.6   -3.6\n",
       "2 -5.1      -2.3      -4.1   -1.8\n",
       "3 -5.1      -2.3      -4.1   -1.8"
      ]
     },
     "execution_count": 65,
     "metadata": {},
     "output_type": "execute_result"
    }
   ],
   "source": [
    "df_kao = df_kao.applymap(lambda x:-x)\n",
    "df_kao.head(3)"
   ]
  },
  {
   "cell_type": "code",
   "execution_count": 32,
   "metadata": {},
   "outputs": [],
   "source": [
    "# そのままくっつける。\n",
    "df = pd.concat([df_SB, df_kao]).reset_index(drop=True)"
   ]
  },
  {
   "cell_type": "code",
   "execution_count": 56,
   "metadata": {},
   "outputs": [
    {
     "data": {
      "text/html": [
       "<div>\n",
       "<style scoped>\n",
       "    .dataframe tbody tr th:only-of-type {\n",
       "        vertical-align: middle;\n",
       "    }\n",
       "\n",
       "    .dataframe tbody tr th {\n",
       "        vertical-align: top;\n",
       "    }\n",
       "\n",
       "    .dataframe thead th {\n",
       "        text-align: right;\n",
       "    }\n",
       "</style>\n",
       "<table border=\"1\" class=\"dataframe\">\n",
       "  <thead>\n",
       "    <tr style=\"text-align: right;\">\n",
       "      <th></th>\n",
       "      <th>世帯</th>\n",
       "      <th>女 18～34才</th>\n",
       "      <th>女 30～39才</th>\n",
       "      <th>value</th>\n",
       "    </tr>\n",
       "  </thead>\n",
       "  <tbody>\n",
       "    <tr>\n",
       "      <th>0</th>\n",
       "      <td>6.1</td>\n",
       "      <td>3.5</td>\n",
       "      <td>4.6</td>\n",
       "      <td>1.1</td>\n",
       "    </tr>\n",
       "    <tr>\n",
       "      <th>1</th>\n",
       "      <td>9.0</td>\n",
       "      <td>2.6</td>\n",
       "      <td>4.1</td>\n",
       "      <td>1.5</td>\n",
       "    </tr>\n",
       "    <tr>\n",
       "      <th>2</th>\n",
       "      <td>10.1</td>\n",
       "      <td>2.1</td>\n",
       "      <td>3.0</td>\n",
       "      <td>0.9</td>\n",
       "    </tr>\n",
       "  </tbody>\n",
       "</table>\n",
       "</div>"
      ],
      "text/plain": [
       "     世帯  女 18～34才  女 30～39才  value\n",
       "0   6.1       3.5       4.6    1.1\n",
       "1   9.0       2.6       4.1    1.5\n",
       "2  10.1       2.1       3.0    0.9"
      ]
     },
     "execution_count": 56,
     "metadata": {},
     "output_type": "execute_result"
    }
   ],
   "source": [
    "df.head(3)"
   ]
  },
  {
   "cell_type": "code",
   "execution_count": 54,
   "metadata": {},
   "outputs": [],
   "source": [
    "# 小数第一位までにする。\n",
    "df = df.round(1)"
   ]
  },
  {
   "cell_type": "markdown",
   "metadata": {},
   "source": [
    "***\n",
    "***"
   ]
  },
  {
   "cell_type": "code",
   "execution_count": 62,
   "metadata": {},
   "outputs": [
    {
     "name": "stdout",
     "output_type": "stream",
     "text": [
      "データ数 2395 で処理時間は 44.23177719116211 秒\n"
     ]
    }
   ],
   "source": [
    "start = time.time()\n",
    "\n",
    "Pai = df[SB_gou].values # SBの指定号数に従った枠の視聴率\n",
    "Pbi = df[kao_gou].values # 花王の指定号数に従った枠の視聴率\n",
    "Wi = df['value'].values # 視聴率の上昇量(これを最大化したい)\n",
    "Ci = cvxpy.Variable(len(Pai), boolean=True) # 取得するかどうかのフラグ\n",
    "objective = cvxpy.Maximize(Wi * Ci) # 最大化したいもの（＝視聴率の上昇量）\n",
    "constraints = [Pai * Ci == 0] + [Pbi * Ci == 0] # SB,kaoの号数が変わらないという制約条件\n",
    "prob = cvxpy.Problem(objective, constraints) # 解く問題のこと。\n",
    "prob.solve(solver=cvxpy.ECOS_BB) # solverを変える事で、解き方が変わる。\n",
    "result = [round(ix, 0) for ix in Ci.value] # これで、フラグが0, 1で表される。\n",
    "\n",
    "end = time.time()\n",
    "print(\"データ数\",len(df),\"で処理時間は\", end-start, \"秒\")"
   ]
  },
  {
   "cell_type": "code",
   "execution_count": null,
   "metadata": {},
   "outputs": [],
   "source": [
    "print(\"取得する枠かのフラグ:\", result)"
   ]
  },
  {
   "cell_type": "code",
   "execution_count": 4,
   "metadata": {},
   "outputs": [
    {
     "name": "stdout",
     "output_type": "stream",
     "text": [
      "取得する枠の視聴率の上昇値: [22.  0. 16. 10. 35.  0. 42. 53.]\n"
     ]
    }
   ],
   "source": [
    "print(\"取得する枠の視聴率の上昇値:\", np.array(result)*Wi)"
   ]
  },
  {
   "cell_type": "code",
   "execution_count": 5,
   "metadata": {},
   "outputs": [
    {
     "name": "stdout",
     "output_type": "stream",
     "text": [
      "上昇値の合計値: 178.0\n"
     ]
    }
   ],
   "source": [
    "print(\"上昇値の合計値:\", sum(np.array(result)*Wi))"
   ]
  },
  {
   "cell_type": "markdown",
   "metadata": {},
   "source": [
    "***\n",
    "***"
   ]
  },
  {
   "cell_type": "markdown",
   "metadata": {},
   "source": [
    "## 実際に算出された号数を用いて実践する"
   ]
  },
  {
   "cell_type": "code",
   "execution_count": 2,
   "metadata": {},
   "outputs": [],
   "source": [
    "# データの読み込み。\n",
    "df_CCJC = pd.read_excel('sample/df_CCJC_sample.xlsx').loc[:, [\"6_gou\",\"世帯\",\"女 20～34才\",\"主婦\"]].reset_index(drop=True)\n",
    "df_kao = pd.read_excel('sample/df_kao_sample.xlsx').loc[:, [\"6_gou\",\"世帯\",\"女 18～34才\",\"主婦\"]].rename(columns={\"女 18～34才\":\"女 20～34才\"}).reset_index(drop=True)"
   ]
  },
  {
   "cell_type": "code",
   "execution_count": 3,
   "metadata": {},
   "outputs": [],
   "source": [
    "# 同じ向きに引くことがポイント！！\n",
    "df_CCJC['value'] = df_CCJC[\"女 20～34才\"]-df_CCJC[\"主婦\"]\n",
    "df_kao['value'] = df_kao[\"女 20～34才\"]-df_kao[\"主婦\"]"
   ]
  },
  {
   "cell_type": "code",
   "execution_count": 5,
   "metadata": {},
   "outputs": [
    {
     "name": "stdout",
     "output_type": "stream",
     "text": [
      "データ数: 50\n"
     ]
    },
    {
     "data": {
      "text/html": [
       "<div>\n",
       "<style scoped>\n",
       "    .dataframe tbody tr th:only-of-type {\n",
       "        vertical-align: middle;\n",
       "    }\n",
       "\n",
       "    .dataframe tbody tr th {\n",
       "        vertical-align: top;\n",
       "    }\n",
       "\n",
       "    .dataframe thead th {\n",
       "        text-align: right;\n",
       "    }\n",
       "</style>\n",
       "<table border=\"1\" class=\"dataframe\">\n",
       "  <thead>\n",
       "    <tr style=\"text-align: right;\">\n",
       "      <th></th>\n",
       "      <th>id</th>\n",
       "      <th>6_gou</th>\n",
       "      <th>世帯</th>\n",
       "      <th>女 20～34才</th>\n",
       "      <th>主婦</th>\n",
       "      <th>value</th>\n",
       "    </tr>\n",
       "  </thead>\n",
       "  <tbody>\n",
       "    <tr>\n",
       "      <th>0</th>\n",
       "      <td>1</td>\n",
       "      <td>10.0</td>\n",
       "      <td>10.4</td>\n",
       "      <td>5.7</td>\n",
       "      <td>8.1</td>\n",
       "      <td>-2.4</td>\n",
       "    </tr>\n",
       "    <tr>\n",
       "      <th>1</th>\n",
       "      <td>2</td>\n",
       "      <td>6.6</td>\n",
       "      <td>6.1</td>\n",
       "      <td>4.1</td>\n",
       "      <td>5.4</td>\n",
       "      <td>-1.3</td>\n",
       "    </tr>\n",
       "    <tr>\n",
       "      <th>2</th>\n",
       "      <td>3</td>\n",
       "      <td>6.6</td>\n",
       "      <td>6.1</td>\n",
       "      <td>4.1</td>\n",
       "      <td>5.4</td>\n",
       "      <td>-1.3</td>\n",
       "    </tr>\n",
       "  </tbody>\n",
       "</table>\n",
       "</div>"
      ],
      "text/plain": [
       "   id  6_gou    世帯  女 20～34才   主婦  value\n",
       "0   1   10.0  10.4       5.7  8.1   -2.4\n",
       "1   2    6.6   6.1       4.1  5.4   -1.3\n",
       "2   3    6.6   6.1       4.1  5.4   -1.3"
      ]
     },
     "execution_count": 5,
     "metadata": {},
     "output_type": "execute_result"
    }
   ],
   "source": [
    "print(\"データ数:\", len(df_kao))\n",
    "df_kao.head(3)"
   ]
  },
  {
   "cell_type": "code",
   "execution_count": 6,
   "metadata": {},
   "outputs": [
    {
     "name": "stdout",
     "output_type": "stream",
     "text": [
      "データ数: 50\n"
     ]
    },
    {
     "data": {
      "text/html": [
       "<div>\n",
       "<style scoped>\n",
       "    .dataframe tbody tr th:only-of-type {\n",
       "        vertical-align: middle;\n",
       "    }\n",
       "\n",
       "    .dataframe tbody tr th {\n",
       "        vertical-align: top;\n",
       "    }\n",
       "\n",
       "    .dataframe thead th {\n",
       "        text-align: right;\n",
       "    }\n",
       "</style>\n",
       "<table border=\"1\" class=\"dataframe\">\n",
       "  <thead>\n",
       "    <tr style=\"text-align: right;\">\n",
       "      <th></th>\n",
       "      <th>id</th>\n",
       "      <th>6_gou</th>\n",
       "      <th>世帯</th>\n",
       "      <th>女 20～34才</th>\n",
       "      <th>主婦</th>\n",
       "      <th>value</th>\n",
       "    </tr>\n",
       "  </thead>\n",
       "  <tbody>\n",
       "    <tr>\n",
       "      <th>0</th>\n",
       "      <td>1</td>\n",
       "      <td>6.6</td>\n",
       "      <td>8.7</td>\n",
       "      <td>3.9</td>\n",
       "      <td>6.5</td>\n",
       "      <td>-2.6</td>\n",
       "    </tr>\n",
       "    <tr>\n",
       "      <th>1</th>\n",
       "      <td>2</td>\n",
       "      <td>5.5</td>\n",
       "      <td>5.7</td>\n",
       "      <td>3.5</td>\n",
       "      <td>4.2</td>\n",
       "      <td>-0.7</td>\n",
       "    </tr>\n",
       "    <tr>\n",
       "      <th>2</th>\n",
       "      <td>3</td>\n",
       "      <td>5.5</td>\n",
       "      <td>5.7</td>\n",
       "      <td>3.5</td>\n",
       "      <td>4.2</td>\n",
       "      <td>-0.7</td>\n",
       "    </tr>\n",
       "  </tbody>\n",
       "</table>\n",
       "</div>"
      ],
      "text/plain": [
       "   id  6_gou   世帯  女 20～34才   主婦  value\n",
       "0   1    6.6  8.7       3.9  6.5   -2.6\n",
       "1   2    5.5  5.7       3.5  4.2   -0.7\n",
       "2   3    5.5  5.7       3.5  4.2   -0.7"
      ]
     },
     "execution_count": 6,
     "metadata": {},
     "output_type": "execute_result"
    }
   ],
   "source": [
    "print(\"データ数:\", len(df_CCJC))\n",
    "df_CCJC.head(3)"
   ]
  },
  {
   "cell_type": "code",
   "execution_count": 7,
   "metadata": {},
   "outputs": [
    {
     "data": {
      "text/html": [
       "<div>\n",
       "<style scoped>\n",
       "    .dataframe tbody tr th:only-of-type {\n",
       "        vertical-align: middle;\n",
       "    }\n",
       "\n",
       "    .dataframe tbody tr th {\n",
       "        vertical-align: top;\n",
       "    }\n",
       "\n",
       "    .dataframe thead th {\n",
       "        text-align: right;\n",
       "    }\n",
       "</style>\n",
       "<table border=\"1\" class=\"dataframe\">\n",
       "  <thead>\n",
       "    <tr style=\"text-align: right;\">\n",
       "      <th></th>\n",
       "      <th>id</th>\n",
       "      <th>6_gou</th>\n",
       "      <th>世帯</th>\n",
       "      <th>女 20～34才</th>\n",
       "      <th>主婦</th>\n",
       "      <th>value</th>\n",
       "    </tr>\n",
       "  </thead>\n",
       "  <tbody>\n",
       "    <tr>\n",
       "      <th>0</th>\n",
       "      <td>-1</td>\n",
       "      <td>-10.0</td>\n",
       "      <td>-10.4</td>\n",
       "      <td>-5.7</td>\n",
       "      <td>-8.1</td>\n",
       "      <td>2.4</td>\n",
       "    </tr>\n",
       "    <tr>\n",
       "      <th>1</th>\n",
       "      <td>-2</td>\n",
       "      <td>-6.6</td>\n",
       "      <td>-6.1</td>\n",
       "      <td>-4.1</td>\n",
       "      <td>-5.4</td>\n",
       "      <td>1.3</td>\n",
       "    </tr>\n",
       "    <tr>\n",
       "      <th>2</th>\n",
       "      <td>-3</td>\n",
       "      <td>-6.6</td>\n",
       "      <td>-6.1</td>\n",
       "      <td>-4.1</td>\n",
       "      <td>-5.4</td>\n",
       "      <td>1.3</td>\n",
       "    </tr>\n",
       "  </tbody>\n",
       "</table>\n",
       "</div>"
      ],
      "text/plain": [
       "   id  6_gou    世帯  女 20～34才   主婦  value\n",
       "0  -1  -10.0 -10.4      -5.7 -8.1    2.4\n",
       "1  -2   -6.6  -6.1      -4.1 -5.4    1.3\n",
       "2  -3   -6.6  -6.1      -4.1 -5.4    1.3"
      ]
     },
     "execution_count": 7,
     "metadata": {},
     "output_type": "execute_result"
    }
   ],
   "source": [
    "df_kao = df_kao.applymap(lambda x:-x)\n",
    "df_kao.head(3)"
   ]
  },
  {
   "cell_type": "code",
   "execution_count": 8,
   "metadata": {},
   "outputs": [],
   "source": [
    "# そのままくっつける。\n",
    "df = pd.concat([df_kao, df_CCJC]).reset_index(drop=True)"
   ]
  },
  {
   "cell_type": "code",
   "execution_count": 9,
   "metadata": {},
   "outputs": [],
   "source": [
    "# 小数第一位までにする。\n",
    "df = df.round(1)"
   ]
  },
  {
   "cell_type": "code",
   "execution_count": 15,
   "metadata": {},
   "outputs": [
    {
     "name": "stdout",
     "output_type": "stream",
     "text": [
      "データ数 100 で処理時間は 1.4606945514678955 秒\n"
     ]
    }
   ],
   "source": [
    "start = time.time()\n",
    "\n",
    "Pai = df['6_gou'].values # 花王の指定号数に従った枠の視聴率\n",
    "Pbi = df['世帯'].values # CCJCの指定号数に従った枠の視聴率\n",
    "Wi = df['value'].values # 視聴率の上昇量(これを最大化したい)\n",
    "Ci = cvxpy.Variable(len(Pai), boolean=True) # 取得するかどうかのフラグ\n",
    "objective = cvxpy.Maximize(Wi * Ci) # 最大化したいもの（＝視聴率の上昇量）\n",
    "constraints = [Pai * Ci == 0] + [Pbi * Ci == 0] # A,Bの号数が変わらないという制約条件\n",
    "prob = cvxpy.Problem(objective, constraints) # 解く問題のこと。\n",
    "prob.solve(solver=cvxpy.ECOS_BB) # solverを変える事で、解き方が変わる。\n",
    "result = [round(ix, 0) for ix in Ci.value] # これで、フラグが0, 1で表される。\n",
    "\n",
    "end = time.time()\n",
    "print(\"データ数\",len(df),\"で処理時間は\", end-start, \"秒\")"
   ]
  },
  {
   "cell_type": "code",
   "execution_count": null,
   "metadata": {},
   "outputs": [],
   "source": [
    "print(\"取得する枠かのフラグ:\", result)"
   ]
  },
  {
   "cell_type": "code",
   "execution_count": 4,
   "metadata": {},
   "outputs": [
    {
     "name": "stdout",
     "output_type": "stream",
     "text": [
      "取得する枠の視聴率の上昇値: [22.  0. 16. 10. 35.  0. 42. 53.]\n"
     ]
    }
   ],
   "source": [
    "print(\"取得する枠の視聴率の上昇値:\", np.array(result)*Wi)"
   ]
  },
  {
   "cell_type": "code",
   "execution_count": 5,
   "metadata": {},
   "outputs": [
    {
     "name": "stdout",
     "output_type": "stream",
     "text": [
      "上昇値の合計値: 178.0\n"
     ]
    }
   ],
   "source": [
    "print(\"上昇値の合計値:\", sum(np.array(result)*Wi))"
   ]
  }
 ],
 "metadata": {
  "kernelspec": {
   "display_name": "Python 3",
   "language": "python",
   "name": "python3"
  },
  "language_info": {
   "codemirror_mode": {
    "name": "ipython",
    "version": 3
   },
   "file_extension": ".py",
   "mimetype": "text/x-python",
   "name": "python",
   "nbconvert_exporter": "python",
   "pygments_lexer": "ipython3",
   "version": "3.6.4"
  }
 },
 "nbformat": 4,
 "nbformat_minor": 2
}

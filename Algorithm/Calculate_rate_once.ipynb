{
 "cells": [
  {
   "cell_type": "markdown",
   "metadata": {},
   "source": [
    "# ●号数を求める"
   ]
  },
  {
   "cell_type": "markdown",
   "metadata": {},
   "source": [
    "<b>\n",
    "    [ルール]\n",
    "    １月１日を含む週を１号とし、以降各週に通し番号が振られる。<br>\n",
    "</b>"
   ]
  },
  {
   "cell_type": "markdown",
   "metadata": {},
   "source": [
    "***\n",
    "***"
   ]
  },
  {
   "cell_type": "markdown",
   "metadata": {},
   "source": [
    "## ○号数から日にちを算出する関数"
   ]
  },
  {
   "cell_type": "code",
   "execution_count": 1,
   "metadata": {},
   "outputs": [],
   "source": [
    "# 年（year）,号(gou),曜日(yobi)を指定すれば、日にちを返す関数。\n",
    "import datetime\n",
    "def detect_day(year, gou, yobi):\n",
    "    date_format = '%Y%m%d' # 出力データの形式\n",
    "    year0101 = str(year)+'0101' # その年の1月1日\n",
    "    d = datetime.datetime.strptime(year0101, date_format) # datatime型に変える。\n",
    "    d += datetime.timedelta(days = (gou-1) * 7) # この日を含む週が、求めたい号の週\n",
    "    # 曜日の調整\n",
    "    d -= datetime.timedelta(days = datetime.date(int(year), 1, 1).weekday())\n",
    "    d += datetime.timedelta(days = dict(月=0,火=1,水=2,木=3,金=4,土=5,日=6)[yobi])\n",
    "    date_string_output = d.strftime(date_format)\n",
    "    return date_string_output"
   ]
  },
  {
   "cell_type": "code",
   "execution_count": 2,
   "metadata": {},
   "outputs": [
    {
     "data": {
      "text/plain": [
       "'20161229'"
      ]
     },
     "execution_count": 2,
     "metadata": {},
     "output_type": "execute_result"
    }
   ],
   "source": [
    "# 2017年の第1号の木曜日って何月何日か？\n",
    "detect_day('2017', 1, '木')"
   ]
  },
  {
   "cell_type": "markdown",
   "metadata": {},
   "source": [
    "***"
   ]
  },
  {
   "cell_type": "code",
   "execution_count": 3,
   "metadata": {},
   "outputs": [],
   "source": [
    "# 呼び方の対応関係。\n",
    "tv_dict = dict(NHK='JOAK',\n",
    "               ETV='JOAB',\n",
    "               NTV='JOAX',\n",
    "               TBS='JORX',\n",
    "               CXT='JOCX',\n",
    "               EX='JOEX',\n",
    "               TX='JOTX',\n",
    "               OUJ='JOUD')"
   ]
  },
  {
   "cell_type": "code",
   "execution_count": 4,
   "metadata": {},
   "outputs": [],
   "source": [
    "#(20)17(年) (第)25(号) といった感じ。\n",
    "# 花王の、テレビ局ごとの指定している号。\n",
    "kao_dict = dict(NTV=1725,\n",
    "                TBS=1724,\n",
    "                CXT=1727,\n",
    "                EX=1724,\n",
    "                TX=1722)"
   ]
  },
  {
   "cell_type": "markdown",
   "metadata": {},
   "source": [
    "## ○平均値（号数）を算出する関数"
   ]
  },
  {
   "cell_type": "code",
   "execution_count": 5,
   "metadata": {},
   "outputs": [],
   "source": [
    "import sys\n",
    "sys.path.append('../..')\n",
    "from util import dao\n",
    "\n",
    "def add_other_gou(df, gou_dict, tv_dict, n_gou):\n",
    "    housoukyoku = df.loc[\"放送局\"].replace(' ','') # 空白をなくす。\n",
    "    start_time = str(df[\"開始\\r\\n時間\"]).replace(':', '')\n",
    "    end_time = str(df[\"終了\\r\\n時間\"]).replace(':', '')\n",
    "    yobi = df[\"曜\\r\\n日\"]\n",
    "    \n",
    "    year = '20'+str(gou_dict[housoukyoku])[:2]\n",
    "    gou = gou_dict[housoukyoku]%100 # 下２桁を出すことで、号の情報を求める。\n",
    "    \n",
    "    housoubi = ''\n",
    "    for i in range(n_gou):\n",
    "        housoubi += detect_day(year, gou-(i+1), yobi) + ','\n",
    "        \n",
    "    query=\"SELECT AVG(setai) AS 世帯視聴率の平均 \"+\\\n",
    "    \"FROM vr_minute WHERE time >= \"+ start_time +\\\n",
    "    \" AND time <= \" + end_time+\\\n",
    "    \" AND media_id = '\" +tv_dict[housoukyoku]+\\\n",
    "    \"' AND housou_day IN (\" + housoubi[:-1] + \")\"\n",
    "    \n",
    "    df = dao.read_sql_data(query, db_type='db_prod_kanto')\n",
    "    return round(df.iat[0,0], 1)"
   ]
  },
  {
   "cell_type": "markdown",
   "metadata": {},
   "source": [
    "***\n",
    "***"
   ]
  },
  {
   "cell_type": "markdown",
   "metadata": {},
   "source": [
    "## ○実験"
   ]
  },
  {
   "cell_type": "code",
   "execution_count": 6,
   "metadata": {},
   "outputs": [],
   "source": [
    "import time"
   ]
  },
  {
   "cell_type": "code",
   "execution_count": 7,
   "metadata": {},
   "outputs": [
    {
     "data": {
      "text/html": [
       "<div>\n",
       "<style scoped>\n",
       "    .dataframe tbody tr th:only-of-type {\n",
       "        vertical-align: middle;\n",
       "    }\n",
       "\n",
       "    .dataframe tbody tr th {\n",
       "        vertical-align: top;\n",
       "    }\n",
       "\n",
       "    .dataframe thead th {\n",
       "        text-align: right;\n",
       "    }\n",
       "</style>\n",
       "<table border=\"1\" class=\"dataframe\">\n",
       "  <thead>\n",
       "    <tr style=\"text-align: right;\">\n",
       "      <th></th>\n",
       "      <th>ブランド\r\n",
       "固定</th>\n",
       "      <th>視聴率\r\n",
       "固定</th>\n",
       "      <th>JOB No.\r\n",
       "提供No</th>\n",
       "      <th>区\r\n",
       "分</th>\n",
       "      <th>放送局</th>\n",
       "      <th>放送日</th>\n",
       "      <th>曜\r\n",
       "日</th>\n",
       "      <th>開始\r\n",
       "時間</th>\n",
       "      <th>終了\r\n",
       "時間</th>\n",
       "      <th>番組タイトル/提供名</th>\n",
       "      <th>...</th>\n",
       "      <th>タイム\r\n",
       "ランク</th>\n",
       "      <th>ブランド\r\n",
       "コード</th>\n",
       "      <th>ブランド名</th>\n",
       "      <th>PIB\r\n",
       "係数</th>\n",
       "      <th>世帯</th>\n",
       "      <th>◆ＡＬＬ</th>\n",
       "      <th>女 18～34才</th>\n",
       "      <th>女 25～39才</th>\n",
       "      <th>女 35～49才</th>\n",
       "      <th>主婦</th>\n",
       "    </tr>\n",
       "  </thead>\n",
       "  <tbody>\n",
       "    <tr>\n",
       "      <th>1</th>\n",
       "      <td>NaN</td>\n",
       "      <td>NaN</td>\n",
       "      <td>180801</td>\n",
       "      <td>S</td>\n",
       "      <td>NTV</td>\n",
       "      <td>2018/08/01</td>\n",
       "      <td>水</td>\n",
       "      <td>06:30</td>\n",
       "      <td>08:00</td>\n",
       "      <td>ＺＩＰ！</td>\n",
       "      <td>...</td>\n",
       "      <td>B</td>\n",
       "      <td>NaN</td>\n",
       "      <td>NaN</td>\n",
       "      <td>NaN</td>\n",
       "      <td>10.4</td>\n",
       "      <td>5.5</td>\n",
       "      <td>5.7</td>\n",
       "      <td>6.1</td>\n",
       "      <td>9.1</td>\n",
       "      <td>8.1</td>\n",
       "    </tr>\n",
       "    <tr>\n",
       "      <th>2</th>\n",
       "      <td>NaN</td>\n",
       "      <td>NaN</td>\n",
       "      <td>180801</td>\n",
       "      <td>S</td>\n",
       "      <td>NTV</td>\n",
       "      <td>2018/08/01</td>\n",
       "      <td>水</td>\n",
       "      <td>08:00</td>\n",
       "      <td>09:30</td>\n",
       "      <td>スッキリ（１部）</td>\n",
       "      <td>...</td>\n",
       "      <td>B</td>\n",
       "      <td>NaN</td>\n",
       "      <td>NaN</td>\n",
       "      <td>NaN</td>\n",
       "      <td>6.1</td>\n",
       "      <td>3.1</td>\n",
       "      <td>4.1</td>\n",
       "      <td>4.5</td>\n",
       "      <td>5.3</td>\n",
       "      <td>5.4</td>\n",
       "    </tr>\n",
       "    <tr>\n",
       "      <th>3</th>\n",
       "      <td>NaN</td>\n",
       "      <td>NaN</td>\n",
       "      <td>180801</td>\n",
       "      <td>S</td>\n",
       "      <td>NTV</td>\n",
       "      <td>2018/08/01</td>\n",
       "      <td>水</td>\n",
       "      <td>08:00</td>\n",
       "      <td>09:30</td>\n",
       "      <td>スッキリ（１部）</td>\n",
       "      <td>...</td>\n",
       "      <td>B</td>\n",
       "      <td>NaN</td>\n",
       "      <td>NaN</td>\n",
       "      <td>NaN</td>\n",
       "      <td>6.1</td>\n",
       "      <td>3.1</td>\n",
       "      <td>4.1</td>\n",
       "      <td>4.5</td>\n",
       "      <td>5.3</td>\n",
       "      <td>5.4</td>\n",
       "    </tr>\n",
       "  </tbody>\n",
       "</table>\n",
       "<p>3 rows × 22 columns</p>\n",
       "</div>"
      ],
      "text/plain": [
       "   ブランド\\r\\n固定  視聴率\\r\\n固定  JOB No.\\r\\n提供No 区\\r\\n分  放送局         放送日 曜\\r\\n日  \\\n",
       "1         NaN        NaN           180801      S  NTV  2018/08/01      水   \n",
       "2         NaN        NaN           180801      S  NTV  2018/08/01      水   \n",
       "3         NaN        NaN           180801      S  NTV  2018/08/01      水   \n",
       "\n",
       "  開始\\r\\n時間 終了\\r\\n時間 番組タイトル/提供名 ...  タイム\\r\\nランク  ブランド\\r\\nコード ブランド名  PIB\\r\\n係数  \\\n",
       "1    06:30    08:00       ＺＩＰ！ ...           B          NaN   NaN        NaN   \n",
       "2    08:00    09:30   スッキリ（１部） ...           B          NaN   NaN        NaN   \n",
       "3    08:00    09:30   スッキリ（１部） ...           B          NaN   NaN        NaN   \n",
       "\n",
       "     世帯  ◆ＡＬＬ  女 18～34才  女 25～39才  女 35～49才   主婦  \n",
       "1  10.4   5.5       5.7       6.1       9.1  8.1  \n",
       "2   6.1   3.1       4.1       4.5       5.3  5.4  \n",
       "3   6.1   3.1       4.1       4.5       5.3  5.4  \n",
       "\n",
       "[3 rows x 22 columns]"
      ]
     },
     "execution_count": 7,
     "metadata": {},
     "output_type": "execute_result"
    }
   ],
   "source": [
    "import pandas as pd\n",
    "df_kao = pd.read_excel('input/花王_201808.xlsx')\n",
    "df_kao.head(3)"
   ]
  },
  {
   "cell_type": "code",
   "execution_count": 8,
   "metadata": {},
   "outputs": [],
   "source": [
    "# 最初の3行で実験する。\n",
    "df_sample = df_kao.head(3)"
   ]
  },
  {
   "cell_type": "code",
   "execution_count": 9,
   "metadata": {},
   "outputs": [],
   "source": [
    "n_gou = 4 # 号数を4で指定する。"
   ]
  },
  {
   "cell_type": "code",
   "execution_count": 10,
   "metadata": {
    "scrolled": true
   },
   "outputs": [
    {
     "name": "stdout",
     "output_type": "stream",
     "text": [
      "処理時間: 21.028334617614746 [s]\n"
     ]
    },
    {
     "name": "stderr",
     "output_type": "stream",
     "text": [
      "/home/dataartist/.pyenv/versions/anaconda3-5.1.0/lib/python3.6/site-packages/ipykernel_launcher.py:2: SettingWithCopyWarning: \n",
      "A value is trying to be set on a copy of a slice from a DataFrame.\n",
      "Try using .loc[row_indexer,col_indexer] = value instead\n",
      "\n",
      "See the caveats in the documentation: http://pandas.pydata.org/pandas-docs/stable/indexing.html#indexing-view-versus-copy\n",
      "  \n"
     ]
    }
   ],
   "source": [
    "start = time.time() # \n",
    "df_sample['4_gou'] = df_sample.head().apply(lambda x:add_other_gou(x, kao_dict, tv_dict, n_gou), axis=1)\n",
    "end = time.time()\n",
    "print('処理時間:', end-start, '[s]')"
   ]
  },
  {
   "cell_type": "code",
   "execution_count": 11,
   "metadata": {},
   "outputs": [
    {
     "data": {
      "text/html": [
       "<div>\n",
       "<style scoped>\n",
       "    .dataframe tbody tr th:only-of-type {\n",
       "        vertical-align: middle;\n",
       "    }\n",
       "\n",
       "    .dataframe tbody tr th {\n",
       "        vertical-align: top;\n",
       "    }\n",
       "\n",
       "    .dataframe thead th {\n",
       "        text-align: right;\n",
       "    }\n",
       "</style>\n",
       "<table border=\"1\" class=\"dataframe\">\n",
       "  <thead>\n",
       "    <tr style=\"text-align: right;\">\n",
       "      <th></th>\n",
       "      <th>ブランド\r\n",
       "固定</th>\n",
       "      <th>視聴率\r\n",
       "固定</th>\n",
       "      <th>JOB No.\r\n",
       "提供No</th>\n",
       "      <th>区\r\n",
       "分</th>\n",
       "      <th>放送局</th>\n",
       "      <th>放送日</th>\n",
       "      <th>曜\r\n",
       "日</th>\n",
       "      <th>開始\r\n",
       "時間</th>\n",
       "      <th>終了\r\n",
       "時間</th>\n",
       "      <th>番組タイトル/提供名</th>\n",
       "      <th>...</th>\n",
       "      <th>ブランド\r\n",
       "コード</th>\n",
       "      <th>ブランド名</th>\n",
       "      <th>PIB\r\n",
       "係数</th>\n",
       "      <th>世帯</th>\n",
       "      <th>◆ＡＬＬ</th>\n",
       "      <th>女 18～34才</th>\n",
       "      <th>女 25～39才</th>\n",
       "      <th>女 35～49才</th>\n",
       "      <th>主婦</th>\n",
       "      <th>4_gou</th>\n",
       "    </tr>\n",
       "  </thead>\n",
       "  <tbody>\n",
       "    <tr>\n",
       "      <th>1</th>\n",
       "      <td>NaN</td>\n",
       "      <td>NaN</td>\n",
       "      <td>180801</td>\n",
       "      <td>S</td>\n",
       "      <td>NTV</td>\n",
       "      <td>2018/08/01</td>\n",
       "      <td>水</td>\n",
       "      <td>06:30</td>\n",
       "      <td>08:00</td>\n",
       "      <td>ＺＩＰ！</td>\n",
       "      <td>...</td>\n",
       "      <td>NaN</td>\n",
       "      <td>NaN</td>\n",
       "      <td>NaN</td>\n",
       "      <td>10.4</td>\n",
       "      <td>5.5</td>\n",
       "      <td>5.7</td>\n",
       "      <td>6.1</td>\n",
       "      <td>9.1</td>\n",
       "      <td>8.1</td>\n",
       "      <td>10.4</td>\n",
       "    </tr>\n",
       "    <tr>\n",
       "      <th>2</th>\n",
       "      <td>NaN</td>\n",
       "      <td>NaN</td>\n",
       "      <td>180801</td>\n",
       "      <td>S</td>\n",
       "      <td>NTV</td>\n",
       "      <td>2018/08/01</td>\n",
       "      <td>水</td>\n",
       "      <td>08:00</td>\n",
       "      <td>09:30</td>\n",
       "      <td>スッキリ（１部）</td>\n",
       "      <td>...</td>\n",
       "      <td>NaN</td>\n",
       "      <td>NaN</td>\n",
       "      <td>NaN</td>\n",
       "      <td>6.1</td>\n",
       "      <td>3.1</td>\n",
       "      <td>4.1</td>\n",
       "      <td>4.5</td>\n",
       "      <td>5.3</td>\n",
       "      <td>5.4</td>\n",
       "      <td>6.1</td>\n",
       "    </tr>\n",
       "    <tr>\n",
       "      <th>3</th>\n",
       "      <td>NaN</td>\n",
       "      <td>NaN</td>\n",
       "      <td>180801</td>\n",
       "      <td>S</td>\n",
       "      <td>NTV</td>\n",
       "      <td>2018/08/01</td>\n",
       "      <td>水</td>\n",
       "      <td>08:00</td>\n",
       "      <td>09:30</td>\n",
       "      <td>スッキリ（１部）</td>\n",
       "      <td>...</td>\n",
       "      <td>NaN</td>\n",
       "      <td>NaN</td>\n",
       "      <td>NaN</td>\n",
       "      <td>6.1</td>\n",
       "      <td>3.1</td>\n",
       "      <td>4.1</td>\n",
       "      <td>4.5</td>\n",
       "      <td>5.3</td>\n",
       "      <td>5.4</td>\n",
       "      <td>6.1</td>\n",
       "    </tr>\n",
       "  </tbody>\n",
       "</table>\n",
       "<p>3 rows × 23 columns</p>\n",
       "</div>"
      ],
      "text/plain": [
       "   ブランド\\r\\n固定  視聴率\\r\\n固定  JOB No.\\r\\n提供No 区\\r\\n分  放送局         放送日 曜\\r\\n日  \\\n",
       "1         NaN        NaN           180801      S  NTV  2018/08/01      水   \n",
       "2         NaN        NaN           180801      S  NTV  2018/08/01      水   \n",
       "3         NaN        NaN           180801      S  NTV  2018/08/01      水   \n",
       "\n",
       "  開始\\r\\n時間 終了\\r\\n時間 番組タイトル/提供名  ...   ブランド\\r\\nコード  ブランド名 PIB\\r\\n係数    世帯  \\\n",
       "1    06:30    08:00       ＺＩＰ！  ...           NaN    NaN       NaN  10.4   \n",
       "2    08:00    09:30   スッキリ（１部）  ...           NaN    NaN       NaN   6.1   \n",
       "3    08:00    09:30   スッキリ（１部）  ...           NaN    NaN       NaN   6.1   \n",
       "\n",
       "   ◆ＡＬＬ  女 18～34才  女 25～39才  女 35～49才   主婦  4_gou  \n",
       "1   5.5       5.7       6.1       9.1  8.1   10.4  \n",
       "2   3.1       4.1       4.5       5.3  5.4    6.1  \n",
       "3   3.1       4.1       4.5       5.3  5.4    6.1  \n",
       "\n",
       "[3 rows x 23 columns]"
      ]
     },
     "execution_count": 11,
     "metadata": {},
     "output_type": "execute_result"
    }
   ],
   "source": [
    "df_sample"
   ]
  },
  {
   "cell_type": "markdown",
   "metadata": {},
   "source": [
    "### 一致したので、正しそう！"
   ]
  },
  {
   "cell_type": "markdown",
   "metadata": {},
   "source": [
    "***"
   ]
  },
  {
   "cell_type": "markdown",
   "metadata": {},
   "source": [
    "### 【SQL文の書き方】\n",
    "```\n",
    "SELECT AVG(setai) AS '世帯視聴率の平均'\n",
    "FROM vr_minute\n",
    "WHERE time >= start_time AND time <= end_time\n",
    "    AND media_id = housoukyoku\n",
    "    AND housou_day IN housoubi\n",
    "# GROUP BY housou_day 結局全部1分ずつの視聴率が出てるのなら必要ない。\n",
    "# 入れるのなら、SELECT文の中にもhousou_dayが必要になる。\n",
    "```"
   ]
  }
 ],
 "metadata": {
  "kernelspec": {
   "display_name": "Python 3",
   "language": "python",
   "name": "python3"
  },
  "language_info": {
   "codemirror_mode": {
    "name": "ipython",
    "version": 3
   },
   "file_extension": ".py",
   "mimetype": "text/x-python",
   "name": "python",
   "nbconvert_exporter": "python",
   "pygments_lexer": "ipython3",
   "version": "3.6.4"
  }
 },
 "nbformat": 4,
 "nbformat_minor": 2
}

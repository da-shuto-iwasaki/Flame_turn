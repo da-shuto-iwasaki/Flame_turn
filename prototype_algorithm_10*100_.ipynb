{
 "cells": [
  {
   "cell_type": "code",
   "execution_count": 1,
   "metadata": {},
   "outputs": [],
   "source": [
    "import time\n",
    "import cvxpy\n",
    "import random\n",
    "import numpy as np\n",
    "import pandas as pd"
   ]
  },
  {
   "cell_type": "code",
   "execution_count": 7,
   "metadata": {},
   "outputs": [],
   "source": [
    "# サンプルデータの読み込み\n",
    "sample = pd.read_csv('sample_10*100.csv', sep='\\t')"
   ]
  },
  {
   "cell_type": "code",
   "execution_count": 8,
   "metadata": {
    "scrolled": true
   },
   "outputs": [
    {
     "data": {
      "text/html": [
       "<div>\n",
       "<style scoped>\n",
       "    .dataframe tbody tr th:only-of-type {\n",
       "        vertical-align: middle;\n",
       "    }\n",
       "\n",
       "    .dataframe tbody tr th {\n",
       "        vertical-align: top;\n",
       "    }\n",
       "\n",
       "    .dataframe thead th {\n",
       "        text-align: right;\n",
       "    }\n",
       "</style>\n",
       "<table border=\"1\" class=\"dataframe\">\n",
       "  <thead>\n",
       "    <tr style=\"text-align: right;\">\n",
       "      <th></th>\n",
       "      <th>id</th>\n",
       "      <th>price_A</th>\n",
       "      <th>price_B</th>\n",
       "      <th>price_C</th>\n",
       "      <th>price_D</th>\n",
       "      <th>price_E</th>\n",
       "      <th>price_F</th>\n",
       "      <th>price_G</th>\n",
       "      <th>price_H</th>\n",
       "      <th>price_I</th>\n",
       "      <th>...</th>\n",
       "      <th>rating_A</th>\n",
       "      <th>rating_B</th>\n",
       "      <th>rating_C</th>\n",
       "      <th>rating_D</th>\n",
       "      <th>rating_E</th>\n",
       "      <th>rating_F</th>\n",
       "      <th>rating_G</th>\n",
       "      <th>rating_H</th>\n",
       "      <th>rating_I</th>\n",
       "      <th>rating_J</th>\n",
       "    </tr>\n",
       "  </thead>\n",
       "  <tbody>\n",
       "    <tr>\n",
       "      <th>0</th>\n",
       "      <td>1</td>\n",
       "      <td>380</td>\n",
       "      <td>385</td>\n",
       "      <td>389</td>\n",
       "      <td>375</td>\n",
       "      <td>387</td>\n",
       "      <td>385</td>\n",
       "      <td>382</td>\n",
       "      <td>378</td>\n",
       "      <td>385</td>\n",
       "      <td>...</td>\n",
       "      <td>4.1</td>\n",
       "      <td>3.3</td>\n",
       "      <td>4.0</td>\n",
       "      <td>3.5</td>\n",
       "      <td>3.8</td>\n",
       "      <td>4.5</td>\n",
       "      <td>4.1</td>\n",
       "      <td>3.8</td>\n",
       "      <td>3.8</td>\n",
       "      <td>3.8</td>\n",
       "    </tr>\n",
       "    <tr>\n",
       "      <th>1</th>\n",
       "      <td>2</td>\n",
       "      <td>943</td>\n",
       "      <td>947</td>\n",
       "      <td>961</td>\n",
       "      <td>960</td>\n",
       "      <td>960</td>\n",
       "      <td>947</td>\n",
       "      <td>950</td>\n",
       "      <td>940</td>\n",
       "      <td>944</td>\n",
       "      <td>...</td>\n",
       "      <td>10.1</td>\n",
       "      <td>8.9</td>\n",
       "      <td>9.3</td>\n",
       "      <td>10.3</td>\n",
       "      <td>9.4</td>\n",
       "      <td>9.5</td>\n",
       "      <td>9.9</td>\n",
       "      <td>9.4</td>\n",
       "      <td>8.4</td>\n",
       "      <td>9.1</td>\n",
       "    </tr>\n",
       "    <tr>\n",
       "      <th>2</th>\n",
       "      <td>3</td>\n",
       "      <td>980</td>\n",
       "      <td>980</td>\n",
       "      <td>987</td>\n",
       "      <td>982</td>\n",
       "      <td>974</td>\n",
       "      <td>982</td>\n",
       "      <td>981</td>\n",
       "      <td>982</td>\n",
       "      <td>975</td>\n",
       "      <td>...</td>\n",
       "      <td>10.4</td>\n",
       "      <td>8.7</td>\n",
       "      <td>10.3</td>\n",
       "      <td>9.8</td>\n",
       "      <td>9.3</td>\n",
       "      <td>9.0</td>\n",
       "      <td>9.8</td>\n",
       "      <td>9.8</td>\n",
       "      <td>9.8</td>\n",
       "      <td>9.8</td>\n",
       "    </tr>\n",
       "  </tbody>\n",
       "</table>\n",
       "<p>3 rows × 21 columns</p>\n",
       "</div>"
      ],
      "text/plain": [
       "   id  price_A  price_B  price_C  price_D  price_E  price_F  price_G  price_H  \\\n",
       "0   1      380      385      389      375      387      385      382      378   \n",
       "1   2      943      947      961      960      960      947      950      940   \n",
       "2   3      980      980      987      982      974      982      981      982   \n",
       "\n",
       "   price_I    ...     rating_A  rating_B  rating_C  rating_D  rating_E  \\\n",
       "0      385    ...          4.1       3.3       4.0       3.5       3.8   \n",
       "1      944    ...         10.1       8.9       9.3      10.3       9.4   \n",
       "2      975    ...         10.4       8.7      10.3       9.8       9.3   \n",
       "\n",
       "   rating_F  rating_G  rating_H  rating_I  rating_J  \n",
       "0       4.5       4.1       3.8       3.8       3.8  \n",
       "1       9.5       9.9       9.4       8.4       9.1  \n",
       "2       9.0       9.8       9.8       9.8       9.8  \n",
       "\n",
       "[3 rows x 21 columns]"
      ]
     },
     "execution_count": 8,
     "metadata": {},
     "output_type": "execute_result"
    }
   ],
   "source": [
    "sample.head(3)"
   ]
  },
  {
   "cell_type": "code",
   "execution_count": 14,
   "metadata": {},
   "outputs": [],
   "source": [
    "# クライアトa, b, cの元々持っていた枠をランダムに決める。\n",
    "length = len(sample) #dfの長さ。\n",
    "ids = list(range(length)) #「0~length-1」の数字の列。\n",
    "\n",
    "# idは1からなので、1を足す。\n",
    "random_ids = [id+1 for id in ids]\n",
    "\n",
    "# Break point.\n",
    "bp1 = length//10 \n",
    "bp2 = length//10 + bp1\n",
    "bp3 = length//10 + bp2\n",
    "bp4 = length//10 + bp3\n",
    "bp5 = length//10 + bp4\n",
    "bp6 = length//10 + bp5\n",
    "bp7 = length//10 + bp6\n",
    "bp8 = length//10 + bp7\n",
    "bp9 = length//10 + bp8\n",
    "\n",
    "# 順番シャッフルして、Break pointで切り分ける。\n",
    "random.shuffle(random_ids)\n",
    "\n",
    "id_A = random_ids[:bp1]\n",
    "id_B = random_ids[bp1:bp2]\n",
    "id_C = random_ids[bp2:bp3]\n",
    "id_D = random_ids[bp3:bp4]\n",
    "id_E = random_ids[bp4:bp5]\n",
    "id_F = random_ids[bp5:bp6]\n",
    "id_G = random_ids[bp6:bp7]\n",
    "id_H = random_ids[bp7:bp8]\n",
    "id_I = random_ids[bp8:bp9]\n",
    "id_J = random_ids[bp9:]"
   ]
  },
  {
   "cell_type": "code",
   "execution_count": 15,
   "metadata": {},
   "outputs": [
    {
     "name": "stdout",
     "output_type": "stream",
     "text": [
      "[98, 11, 37, 16, 85, 52, 83, 78, 24, 29]\n",
      "[60, 90, 58, 18, 35, 63, 57, 49, 64, 4]\n",
      "[28, 23, 44, 51, 50, 26, 15, 14, 46, 12]\n",
      "[82, 17, 95, 79, 8, 86, 42, 21, 94, 62]\n",
      "[19, 56, 48, 34, 1, 36, 76, 70, 71, 72]\n",
      "[59, 53, 25, 89, 47, 87, 30, 43, 41, 10]\n",
      "[32, 55, 22, 84, 38, 69, 5, 81, 91, 67]\n",
      "[31, 77, 9, 93, 88, 97, 92, 66, 80, 33]\n",
      "[68, 74, 73, 99, 3, 27, 20, 96, 13, 54]\n",
      "[40, 75, 61, 6, 7, 65, 100, 39, 2, 45]\n"
     ]
    }
   ],
   "source": [
    "# それぞれのidを表示。 ランダムにシャッフルされていることがわかる。\n",
    "print(id_A)\n",
    "print(id_B)\n",
    "print(id_C)\n",
    "print(id_D)\n",
    "print(id_E)\n",
    "print(id_F)\n",
    "print(id_G)\n",
    "print(id_H)\n",
    "print(id_I)\n",
    "print(id_J)"
   ]
  },
  {
   "cell_type": "code",
   "execution_count": 16,
   "metadata": {},
   "outputs": [],
   "source": [
    "# それぞれのidのデータのみを取り出すための判別用カラム。\n",
    "sample['judge_A'] = sample['id'].apply(lambda x:x in id_A)\n",
    "sample['judge_B'] = sample['id'].apply(lambda x:x in id_B)\n",
    "sample['judge_C'] = sample['id'].apply(lambda x:x in id_C)\n",
    "sample['judge_D'] = sample['id'].apply(lambda x:x in id_D)\n",
    "sample['judge_E'] = sample['id'].apply(lambda x:x in id_E)\n",
    "sample['judge_F'] = sample['id'].apply(lambda x:x in id_F)\n",
    "sample['judge_G'] = sample['id'].apply(lambda x:x in id_G)\n",
    "sample['judge_H'] = sample['id'].apply(lambda x:x in id_H)\n",
    "sample['judge_I'] = sample['id'].apply(lambda x:x in id_I)\n",
    "sample['judge_J'] = sample['id'].apply(lambda x:x in id_J)"
   ]
  },
  {
   "cell_type": "code",
   "execution_count": 17,
   "metadata": {},
   "outputs": [],
   "source": [
    "# それぞれのidのデータを取得。\n",
    "df_A = sample[sample['judge_A']].loc[:, ['id','price_A', 'rating_A']]\n",
    "df_B = sample[sample['judge_B']].loc[:, ['id','price_B', 'rating_B']]\n",
    "df_C = sample[sample['judge_C']].loc[:, ['id','price_C', 'rating_C']]\n",
    "df_D = sample[sample['judge_D']].loc[:, ['id','price_D', 'rating_D']]\n",
    "df_E = sample[sample['judge_E']].loc[:, ['id','price_E', 'rating_E']]\n",
    "df_F = sample[sample['judge_F']].loc[:, ['id','price_F', 'rating_F']]\n",
    "df_G = sample[sample['judge_G']].loc[:, ['id','price_G', 'rating_G']]\n",
    "df_H = sample[sample['judge_H']].loc[:, ['id','price_H', 'rating_H']]\n",
    "df_I = sample[sample['judge_I']].loc[:, ['id','price_I', 'rating_I']]\n",
    "df_J = sample[sample['judge_J']].loc[:, ['id','price_J', 'rating_J']]"
   ]
  },
  {
   "cell_type": "code",
   "execution_count": 18,
   "metadata": {},
   "outputs": [],
   "source": [
    "# 判別用カラムを削除。\n",
    "del sample['judge_A']\n",
    "del sample['judge_B']\n",
    "del sample['judge_C']\n",
    "del sample['judge_D']\n",
    "del sample['judge_E']\n",
    "del sample['judge_F']\n",
    "del sample['judge_G']\n",
    "del sample['judge_H']\n",
    "del sample['judge_I']\n",
    "del sample['judge_J']"
   ]
  },
  {
   "cell_type": "code",
   "execution_count": 19,
   "metadata": {},
   "outputs": [],
   "source": [
    "# 元々の値段の総和、元々の視聴率の和を計算する。\n",
    "# Original price, Original point\n",
    "original_price_A, original_point_A = sum(df_A['price_A']), sum(df_A['rating_A'])\n",
    "original_price_B, original_point_B = sum(df_B['price_B']), sum(df_B['rating_B'])\n",
    "original_price_C, original_point_C = sum(df_C['price_C']), sum(df_C['rating_C'])\n",
    "original_price_D, original_point_D = sum(df_D['price_D']), sum(df_D['rating_D'])\n",
    "original_price_E, original_point_E = sum(df_E['price_E']), sum(df_E['rating_E'])\n",
    "original_price_F, original_point_F = sum(df_F['price_F']), sum(df_F['rating_F'])\n",
    "original_price_G, original_point_G = sum(df_G['price_G']), sum(df_G['rating_G'])\n",
    "original_price_H, original_point_H = sum(df_H['price_H']), sum(df_H['rating_H'])\n",
    "original_price_I, original_point_I = sum(df_I['price_I']), sum(df_I['rating_I'])\n",
    "original_price_J, original_point_J = sum(df_J['price_J']), sum(df_J['rating_J'])"
   ]
  },
  {
   "cell_type": "code",
   "execution_count": 20,
   "metadata": {},
   "outputs": [],
   "source": [
    "# 各クライアントの考える価値（指定視聴率/値段）を数値化し、表に加える。\n",
    "# 指定した視聴率/そのクライアントの号数価格\n",
    "sample['value_A'] = round((sample['rating_A']/sample['price_A'])*1000, 2)\n",
    "sample['value_B'] = round((sample['rating_B']/sample['price_B'])*1000, 2)\n",
    "sample['value_C'] = round((sample['rating_C']/sample['price_C'])*1000, 2)\n",
    "sample['value_D'] = round((sample['rating_D']/sample['price_D'])*1000, 2)\n",
    "sample['value_E'] = round((sample['rating_E']/sample['price_E'])*1000, 2)\n",
    "sample['value_F'] = round((sample['rating_F']/sample['price_F'])*1000, 2)\n",
    "sample['value_G'] = round((sample['rating_G']/sample['price_G'])*1000, 2)\n",
    "sample['value_H'] = round((sample['rating_H']/sample['price_H'])*1000, 2)\n",
    "sample['value_I'] = round((sample['rating_I']/sample['price_I'])*1000, 2)\n",
    "sample['value_J'] = round((sample['rating_J']/sample['price_J'])*1000, 2)"
   ]
  },
  {
   "cell_type": "code",
   "execution_count": 21,
   "metadata": {
    "scrolled": false
   },
   "outputs": [
    {
     "name": "stdout",
     "output_type": "stream",
     "text": [
      "client_Aの交換前の合計価格: 9146 client_Aの交換前の合計視聴率 89.0\n",
      "client_Bの交換前の合計価格: 6526 client_Bの交換前の合計視聴率 66.60000000000001\n",
      "client_Cの交換前の合計価格: 7672 client_Cの交換前の合計視聴率 76.8\n",
      "client_Dの交換前の合計価格: 9592 client_Dの交換前の合計視聴率 96.49999999999999\n",
      "client_Eの交換前の合計価格: 8022 client_Eの交換前の合計視聴率 80.69999999999999\n",
      "client_Fの交換前の合計価格: 7905 client_Fの交換前の合計視聴率 78.7\n",
      "client_Gの交換前の合計価格: 5969 client_Gの交換前の合計視聴率 57.300000000000004\n",
      "client_Hの交換前の合計価格: 10487 client_Hの交換前の合計視聴率 107.00000000000001\n",
      "client_Iの交換前の合計価格: 8146 client_Iの交換前の合計視聴率 80.7\n",
      "client_Jの交換前の合計価格: 7361 client_Jの交換前の合計視聴率 74.6\n"
     ]
    },
    {
     "data": {
      "text/html": [
       "<div>\n",
       "<style scoped>\n",
       "    .dataframe tbody tr th:only-of-type {\n",
       "        vertical-align: middle;\n",
       "    }\n",
       "\n",
       "    .dataframe tbody tr th {\n",
       "        vertical-align: top;\n",
       "    }\n",
       "\n",
       "    .dataframe thead th {\n",
       "        text-align: right;\n",
       "    }\n",
       "</style>\n",
       "<table border=\"1\" class=\"dataframe\">\n",
       "  <thead>\n",
       "    <tr style=\"text-align: right;\">\n",
       "      <th></th>\n",
       "      <th>id</th>\n",
       "      <th>price_A</th>\n",
       "      <th>price_B</th>\n",
       "      <th>price_C</th>\n",
       "      <th>price_D</th>\n",
       "      <th>price_E</th>\n",
       "      <th>price_F</th>\n",
       "      <th>price_G</th>\n",
       "      <th>price_H</th>\n",
       "      <th>price_I</th>\n",
       "      <th>...</th>\n",
       "      <th>value_A</th>\n",
       "      <th>value_B</th>\n",
       "      <th>value_C</th>\n",
       "      <th>value_D</th>\n",
       "      <th>value_E</th>\n",
       "      <th>value_F</th>\n",
       "      <th>value_G</th>\n",
       "      <th>value_H</th>\n",
       "      <th>value_I</th>\n",
       "      <th>value_J</th>\n",
       "    </tr>\n",
       "  </thead>\n",
       "  <tbody>\n",
       "    <tr>\n",
       "      <th>0</th>\n",
       "      <td>1</td>\n",
       "      <td>380</td>\n",
       "      <td>385</td>\n",
       "      <td>389</td>\n",
       "      <td>375</td>\n",
       "      <td>387</td>\n",
       "      <td>385</td>\n",
       "      <td>382</td>\n",
       "      <td>378</td>\n",
       "      <td>385</td>\n",
       "      <td>...</td>\n",
       "      <td>10.79</td>\n",
       "      <td>8.57</td>\n",
       "      <td>10.28</td>\n",
       "      <td>9.33</td>\n",
       "      <td>9.82</td>\n",
       "      <td>11.69</td>\n",
       "      <td>10.73</td>\n",
       "      <td>10.05</td>\n",
       "      <td>9.87</td>\n",
       "      <td>9.95</td>\n",
       "    </tr>\n",
       "    <tr>\n",
       "      <th>1</th>\n",
       "      <td>2</td>\n",
       "      <td>943</td>\n",
       "      <td>947</td>\n",
       "      <td>961</td>\n",
       "      <td>960</td>\n",
       "      <td>960</td>\n",
       "      <td>947</td>\n",
       "      <td>950</td>\n",
       "      <td>940</td>\n",
       "      <td>944</td>\n",
       "      <td>...</td>\n",
       "      <td>10.71</td>\n",
       "      <td>9.40</td>\n",
       "      <td>9.68</td>\n",
       "      <td>10.73</td>\n",
       "      <td>9.79</td>\n",
       "      <td>10.03</td>\n",
       "      <td>10.42</td>\n",
       "      <td>10.00</td>\n",
       "      <td>8.90</td>\n",
       "      <td>9.50</td>\n",
       "    </tr>\n",
       "    <tr>\n",
       "      <th>2</th>\n",
       "      <td>3</td>\n",
       "      <td>980</td>\n",
       "      <td>980</td>\n",
       "      <td>987</td>\n",
       "      <td>982</td>\n",
       "      <td>974</td>\n",
       "      <td>982</td>\n",
       "      <td>981</td>\n",
       "      <td>982</td>\n",
       "      <td>975</td>\n",
       "      <td>...</td>\n",
       "      <td>10.61</td>\n",
       "      <td>8.88</td>\n",
       "      <td>10.44</td>\n",
       "      <td>9.98</td>\n",
       "      <td>9.55</td>\n",
       "      <td>9.16</td>\n",
       "      <td>9.99</td>\n",
       "      <td>9.98</td>\n",
       "      <td>10.05</td>\n",
       "      <td>9.99</td>\n",
       "    </tr>\n",
       "  </tbody>\n",
       "</table>\n",
       "<p>3 rows × 31 columns</p>\n",
       "</div>"
      ],
      "text/plain": [
       "   id  price_A  price_B  price_C  price_D  price_E  price_F  price_G  price_H  \\\n",
       "0   1      380      385      389      375      387      385      382      378   \n",
       "1   2      943      947      961      960      960      947      950      940   \n",
       "2   3      980      980      987      982      974      982      981      982   \n",
       "\n",
       "   price_I   ...     value_A  value_B  value_C  value_D  value_E  value_F  \\\n",
       "0      385   ...       10.79     8.57    10.28     9.33     9.82    11.69   \n",
       "1      944   ...       10.71     9.40     9.68    10.73     9.79    10.03   \n",
       "2      975   ...       10.61     8.88    10.44     9.98     9.55     9.16   \n",
       "\n",
       "   value_G  value_H  value_I  value_J  \n",
       "0    10.73    10.05     9.87     9.95  \n",
       "1    10.42    10.00     8.90     9.50  \n",
       "2     9.99     9.98    10.05     9.99  \n",
       "\n",
       "[3 rows x 31 columns]"
      ]
     },
     "execution_count": 21,
     "metadata": {},
     "output_type": "execute_result"
    }
   ],
   "source": [
    "print('client_Aの交換前の合計価格:', original_price_A, 'client_Aの交換前の合計視聴率', original_point_A)\n",
    "print('client_Bの交換前の合計価格:', original_price_B, 'client_Bの交換前の合計視聴率', original_point_B)\n",
    "print('client_Cの交換前の合計価格:', original_price_C, 'client_Cの交換前の合計視聴率', original_point_C)\n",
    "print('client_Dの交換前の合計価格:', original_price_D, 'client_Dの交換前の合計視聴率', original_point_D)\n",
    "print('client_Eの交換前の合計価格:', original_price_E, 'client_Eの交換前の合計視聴率', original_point_E)\n",
    "print('client_Fの交換前の合計価格:', original_price_F, 'client_Fの交換前の合計視聴率', original_point_F)\n",
    "print('client_Gの交換前の合計価格:', original_price_G, 'client_Gの交換前の合計視聴率', original_point_G)\n",
    "print('client_Hの交換前の合計価格:', original_price_H, 'client_Hの交換前の合計視聴率', original_point_H)\n",
    "print('client_Iの交換前の合計価格:', original_price_I, 'client_Iの交換前の合計視聴率', original_point_I)\n",
    "print('client_Jの交換前の合計価格:', original_price_J, 'client_Jの交換前の合計視聴率', original_point_J)\n",
    "\n",
    "sample.head(3)"
   ]
  },
  {
   "cell_type": "code",
   "execution_count": 22,
   "metadata": {},
   "outputs": [],
   "source": [
    "# 交換前のデータをまとめる。\n",
    "original_prices = [original_price_A, original_price_B, original_price_C, original_price_D, original_price_E,\n",
    "                   original_price_F, original_price_G, original_price_H, original_price_I, original_price_J]\n",
    "original_points = [original_point_A, original_point_B, original_point_C, original_point_D, original_point_E,\n",
    "                   original_point_F, original_point_G, original_point_H, original_point_I, original_point_J]"
   ]
  },
  {
   "cell_type": "code",
   "execution_count": 23,
   "metadata": {},
   "outputs": [
    {
     "name": "stdout",
     "output_type": "stream",
     "text": [
      "[9146, 6526, 7672, 9592, 8022, 7905, 5969, 10487, 8146, 7361]\n",
      "[89.0, 66.60000000000001, 76.8, 96.49999999999999, 80.69999999999999, 78.7, 57.300000000000004, 107.00000000000001, 80.7, 74.6]\n"
     ]
    }
   ],
   "source": [
    "print(original_prices)\n",
    "print(original_points)"
   ]
  },
  {
   "cell_type": "markdown",
   "metadata": {},
   "source": [
    "<b><font color='Red'><font size=4>※valueは、正の数じゃないと、選ばなくなってしまうことに注意。<br>（０の方が大きいから。）</font></font></b>"
   ]
  },
  {
   "cell_type": "markdown",
   "metadata": {},
   "source": [
    "***\n",
    "***"
   ]
  },
  {
   "cell_type": "markdown",
   "metadata": {},
   "source": [
    "### 〜ここからアルゴリズム〜"
   ]
  },
  {
   "cell_type": "code",
   "execution_count": 24,
   "metadata": {
    "scrolled": true
   },
   "outputs": [],
   "source": [
    "# ナップザック問題。\n",
    "\n",
    "# size = 値段のデータ。\n",
    "# weight = 価値のデータ。\n",
    "# capacity = 元々の値段×1.05倍の値段。\n",
    "# ids = 取得すべきだと考えられた枠のid    \n",
    "\n",
    "def Knapsack(size, weight, capacity, obtained=0, rate=0.05):\n",
    "    # 価格が元の価格の1.05%を超えても、終わり。\n",
    "    if capacity*(1 + rate) - obtained > 0:        \n",
    "        x = cvxpy.Variable(size.shape[0], boolean=True)\n",
    "        # 要素の個数(これを加えて平均を最大化しないと、価格の小さいものばかりをとってしまう。)\n",
    "        count = sum(np.ones(len(size)) * x)\n",
    "        # 目的\n",
    "        objective = cvxpy.Maximize(weight * x / count)\n",
    "        # 制限。ここでは、capacity(価格)の上下5%を取っている。\n",
    "        constraints = [capacity*(1 + rate) -  obtained >= size * x]\n",
    "        constraints += [capacity*(1 - rate) - obtained <= size * x]\n",
    "\n",
    "        prob = cvxpy.Problem(objective, constraints)\n",
    "        prob.solve(solver=cvxpy.ECOS_BB)\n",
    "        result = [round(ix, 0) for ix in x.value]\n",
    "\n",
    "        return result\n",
    "    else:\n",
    "        return []\n",
    "    \n",
    "# 2重のリストをフラットにする関数(重複は残る！)\n",
    "def Flatten_dual(nested_list):\n",
    "    return [e for inner_list in nested_list for e in inner_list]"
   ]
  },
  {
   "cell_type": "code",
   "execution_count": 33,
   "metadata": {},
   "outputs": [],
   "source": [
    "# dfは、上記のsampleのような、カラム名がprice_A, rating_A, value_A, price_B, ...となっているDataFrame。\n",
    "# namesには、'A', 'B', 'C', ... を入れるイメージ。\n",
    "\n",
    "def Loop(df, original_prices, original_points, *names):\n",
    "    result = dict() #結果を格納する。\n",
    "    num = len(names) #クライアントの数。\n",
    "\n",
    "    obtained_prices = [0 for i in range(num)] #獲得した枠の値段をそれぞれ格納する。\n",
    "    obtained_points = [0 for i in range(num)] #獲得した枠の視聴率をそれぞれ格納する。\n",
    "    obtained_idses = [[] for i in range(num)] #獲得した枠のidをそれぞれ格納する。\n",
    "    idses = [[] for i in range(num)] # 各ナップザック問題でそれぞれが指定した枠のidを格納する。\n",
    "    add_idses = [[] for i in range(num)] # 各ナップザック問題の結果、獲得した枠のidを格納する。\n",
    "    check_point = 0\n",
    "    \n",
    "    while check_point==0:\n",
    "        for i in range(num): #それぞれのクライアントごと。\n",
    "            original_price = original_prices[i] # 交換前の価格合計。\n",
    "            original_point = original_points[i] # 交換前の視聴率合計。\n",
    "\n",
    "            name = names[i] # クライアントの名前。\n",
    "            size = np.array(df['price_' + name]) # dfのカラム名は、こうなるように指定。全ての枠の値段を取得。\n",
    "            weight = np.array(df['value_' + name]) # dfのカラム名は、こうなるように指定。全ての枠の価値を取得。\n",
    "            capacity = original_price \n",
    "\n",
    "            if obtained_points[i] < original_point: # 獲得した視聴率和が元々の視聴率和より低かったら\n",
    "                idses[i] = Knapsack(size, weight, capacity,  obtained_prices[i], rate=0.1)\n",
    "            else:\n",
    "                idses[i] = [0 for i in range(len(size))] # 視聴率和が元々の視聴率和を超えていた場合、どのidも選択しない。\n",
    "\n",
    "        if sum(Flatten_dual(idses)) == 0: #もし、どのクライアントも選んでいなかったら\n",
    "            idses[0][0] = 1 # 始めのクライアントがdfの一番上の行を選んだことにする。（暫定的なエラー処理。）\n",
    "            \n",
    "        ids = np.array(df['id'].index) + 1\n",
    "\n",
    "        # それぞれの枠を選択したクライアントの中から１つをランダムに選択する。\n",
    "        ids_dict = dict()\n",
    "        for key in ids-1: # それぞれのidごとに、\n",
    "            values = [] # そのidの枠を指定したクライアントを格納するリスト。\n",
    "            for i in range(num): # それぞれのクライアントごとに、\n",
    "                if key in idses[i] * ids -1: # そのid（のindex）があれば、\n",
    "                    values.append(names[i]) # valuesにクライアントの名前が格納される。\n",
    "            if values: # そのidを指定したクライアントがいれば、\n",
    "                value = random.choice(values) # その中からクライアントをランダムに選ぶ。\n",
    "                ids_dict[key] = value # idと合わせて格納される。\n",
    "\n",
    "        for i in range(num):\n",
    "            add_idses[i] = [ids for ids, client in ids_dict.items() if client == names[i]] # クライアントごとに、獲得したid\n",
    "            # obtained_idses[i] += add_idses[i]\n",
    "            obtained_idses[i] += df.query('index in ' + str(add_idses[i]))['id'].values.tolist()\n",
    "            obtained_prices[i] += sum(df.query('index in ' + str(add_idses[i]))['price_' + name])\n",
    "            obtained_points[i] += sum(df.query('index in ' + str(add_idses[i]))['rating_' + name])\n",
    "\n",
    "        extraction_ids = Flatten_dual(add_idses) # 今回獲得されたidの集合を、取り除く。\n",
    "        df = df.query('index not in ' + str(extraction_ids)).reset_index(drop=True)\n",
    "        \n",
    "        if len(df) == 1 and df['id'][0] != 0: #dfの長さが１だとうまく機能しないため、長さが１の場合は加える。\n",
    "            add_df = pd.DataFrame(np.zeros(df.shape[1])).T # np.zeros()の中の数字は、列の数。\n",
    "            add_df.columns = df.columns # カラム名を揃える。\n",
    "            df = pd.concat([df, add_df]).reset_index(drop=True)\n",
    "\n",
    "        # 上のプログラムの後にデータフレームの長さが1(=add_dfしか残っていない)なら、終了！！\n",
    "        if len(df) <= 1:\n",
    "            check_point += 1\n",
    "    \n",
    "    if obtained_points > original_points:\n",
    "        sum_point = round(sum(obtained_points), 2) # 合計値を小数第二位までで表示。\n",
    "        result[sum_point] = obtained_prices, obtained_idses\n",
    "                                  \n",
    "    return result"
   ]
  },
  {
   "cell_type": "code",
   "execution_count": 58,
   "metadata": {
    "scrolled": true
   },
   "outputs": [
    {
     "name": "stdout",
     "output_type": "stream",
     "text": [
      "処理時間は: 6.188 [sec]\n"
     ]
    },
    {
     "data": {
      "text/plain": [
       "{809.1: ([11681, 6179.0, 6946, 8684, 7237, 7432, 6161, 11338, 8439, 6656],\n",
       "  [[45, 72, 17, 47, 67, 71, 84, 83, 1, 4, 5, 10, 15, 16, 18, 20, 22, 23, 38],\n",
       "   [51, 79, 12, 33, 53, 69, 88, 46, 55.0],\n",
       "   [37, 42, 50, 90, 34, 36, 76],\n",
       "   [81, 77, 96, 2, 31, 21, 60, 85, 91],\n",
       "   [86, 89, 14, 70, 43, 8, 49, 6],\n",
       "   [54, 64, 3, 9, 99, 26, 27, 35, 87],\n",
       "   [52, 11, 62, 92, 39, 40, 57, 63, 94],\n",
       "   [82, 65, 98, 29, 66, 32, 56, 78, 58, 59, 61, 68, 73],\n",
       "   [80, 28, 41, 48, 93, 75, 19, 24, 95],\n",
       "   [97, 74, 7, 13, 25, 30, 44, 100]])}"
      ]
     },
     "execution_count": 58,
     "metadata": {},
     "output_type": "execute_result"
    }
   ],
   "source": [
    "# 1回のループの結果。\n",
    "# ちなみに、横に並べられるリストの要素数の上限は20なので、20を越えると縦に並び始める。\n",
    "start = time.time()\n",
    "result = Loop(sample, original_prices, original_points, 'A', 'B', 'C', 'D', 'E', 'F', 'G', 'H', 'I', 'J')\n",
    "end = time.time()\n",
    "print('処理時間は:', round(end-start, 3), '[sec]')\n",
    "result"
   ]
  },
  {
   "cell_type": "markdown",
   "metadata": {},
   "source": [
    "### これを何度も繰り返すことにより、resultに値を格納しまくる。"
   ]
  },
  {
   "cell_type": "code",
   "execution_count": 61,
   "metadata": {
    "scrolled": true
   },
   "outputs": [
    {
     "name": "stdout",
     "output_type": "stream",
     "text": [
      "処理時間は: 63.519 [sec]\n"
     ]
    }
   ],
   "source": [
    "start = time.time()\n",
    "\n",
    "results = {}\n",
    "for i in range(10):\n",
    "    results.update(Loop(sample, original_prices, original_points, 'A', 'B', 'C', 'D', 'E', 'F', 'G', 'H', 'I', 'J'))\n",
    "\n",
    "    end = time.time()\n",
    "print('処理時間は:', round(end-start, 3), '[sec]')"
   ]
  },
  {
   "cell_type": "markdown",
   "metadata": {},
   "source": [
    "<b>〜とりあえずループ処理10回、というやや適当（だが、結構収束している）な回数だが、処理時間はおよそ１分間〜</b>"
   ]
  },
  {
   "cell_type": "code",
   "execution_count": 62,
   "metadata": {
    "scrolled": false
   },
   "outputs": [
    {
     "data": {
      "text/plain": [
       "{809.1: ([11755, 5889, 7642.0, 9035, 7282, 8400, 5377, 11201, 7341, 6831],\n",
       "  [[97,\n",
       "    77,\n",
       "    17,\n",
       "    90,\n",
       "    21,\n",
       "    48,\n",
       "    75,\n",
       "    94,\n",
       "    1,\n",
       "    4,\n",
       "    5,\n",
       "    6,\n",
       "    10,\n",
       "    15,\n",
       "    16,\n",
       "    20,\n",
       "    23,\n",
       "    46,\n",
       "    55,\n",
       "    58],\n",
       "   [37, 28, 41, 60, 11, 38],\n",
       "   [86, 29, 3, 34, 78, 84, 87, 27, 69, 76.0],\n",
       "   [54, 65, 96, 2, 31, 32, 7, 62, 95],\n",
       "   [74, 71, 43, 93, 12, 8, 36, 53],\n",
       "   [80, 50, 79, 33, 85, 30, 88, 40, 57, 63, 100],\n",
       "   [81, 56, 70, 92, 35, 39, 22],\n",
       "   [45, 72, 82, 64, 67, 9, 13, 19, 24, 91, 59, 61, 68, 73, 83],\n",
       "   [52, 89, 98, 42, 66, 18],\n",
       "   [51, 47, 14, 99, 26, 49, 25, 44]])}"
      ]
     },
     "execution_count": 62,
     "metadata": {},
     "output_type": "execute_result"
    }
   ],
   "source": [
    "# それぞれのループごとの交換の結果。\n",
    "results"
   ]
  },
  {
   "cell_type": "code",
   "execution_count": 63,
   "metadata": {},
   "outputs": [
    {
     "name": "stdout",
     "output_type": "stream",
     "text": [
      "交換後の価格: [11755, 5889, 7642.0, 9035, 7282, 8400, 5377, 11201, 7341, 6831]\n",
      "交換後のそれぞれの枠\n",
      "A: [97, 77, 17, 90, 21, 48, 75, 94, 1, 4, 5, 6, 10, 15, 16, 20, 23, 46, 55, 58]\n",
      "B: [37, 28, 41, 60, 11, 38]\n",
      "C: [86, 29, 3, 34, 78, 84, 87, 27, 69, 76.0]\n",
      "D: [54, 65, 96, 2, 31, 32, 7, 62, 95]\n",
      "E: [74, 71, 43, 93, 12, 8, 36, 53]\n",
      "F: [80, 50, 79, 33, 85, 30, 88, 40, 57, 63, 100]\n",
      "G: [81, 56, 70, 92, 35, 39, 22]\n",
      "H: [45, 72, 82, 64, 67, 9, 13, 19, 24, 91, 59, 61, 68, 73, 83]\n",
      "I: [52, 89, 98, 42, 66, 18]\n",
      "J: [51, 47, 14, 99, 26, 49, 25, 44]\n"
     ]
    }
   ],
   "source": [
    "# 最も視聴率和を大きくした交換の仕方を求める。\n",
    "print('交換後の価格:',results[max(results.keys())][0])\n",
    "print('交換後のそれぞれの枠')\n",
    "print('A:', results[max(results.keys())][1][0])\n",
    "print('B:', results[max(results.keys())][1][1])\n",
    "print('C:', results[max(results.keys())][1][2])\n",
    "print('D:', results[max(results.keys())][1][3])\n",
    "print('E:', results[max(results.keys())][1][4])\n",
    "print('F:', results[max(results.keys())][1][5])\n",
    "print('G:', results[max(results.keys())][1][6])\n",
    "print('H:', results[max(results.keys())][1][7])\n",
    "print('I:', results[max(results.keys())][1][8])\n",
    "print('J:', results[max(results.keys())][1][9])"
   ]
  },
  {
   "cell_type": "markdown",
   "metadata": {},
   "source": [
    "<b><font size=4><font color='#113BC5'>この数（クライアントの数：１０ 枠の数：１００）でも、思いの外時間がかかる…。</font></font></b>"
   ]
  },
  {
   "cell_type": "code",
   "execution_count": null,
   "metadata": {},
   "outputs": [],
   "source": []
  }
 ],
 "metadata": {
  "kernelspec": {
   "display_name": "Python 3",
   "language": "python",
   "name": "python3"
  },
  "language_info": {
   "codemirror_mode": {
    "name": "ipython",
    "version": 3
   },
   "file_extension": ".py",
   "mimetype": "text/x-python",
   "name": "python",
   "nbconvert_exporter": "python",
   "pygments_lexer": "ipython3",
   "version": "3.6.4"
  }
 },
 "nbformat": 4,
 "nbformat_minor": 2
}

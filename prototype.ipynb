{
 "cells": [
  {
   "cell_type": "code",
   "execution_count": 253,
   "metadata": {},
   "outputs": [],
   "source": [
    "import cvxpy\n",
    "import random\n",
    "import numpy as np\n",
    "import pandas as pd"
   ]
  },
  {
   "cell_type": "code",
   "execution_count": 254,
   "metadata": {},
   "outputs": [],
   "source": [
    "# サンプルデータの読み込み\n",
    "sample = pd.read_csv('sample.csv')"
   ]
  },
  {
   "cell_type": "code",
   "execution_count": 255,
   "metadata": {
    "scrolled": true
   },
   "outputs": [
    {
     "data": {
      "text/html": [
       "<div>\n",
       "<style scoped>\n",
       "    .dataframe tbody tr th:only-of-type {\n",
       "        vertical-align: middle;\n",
       "    }\n",
       "\n",
       "    .dataframe tbody tr th {\n",
       "        vertical-align: top;\n",
       "    }\n",
       "\n",
       "    .dataframe thead th {\n",
       "        text-align: right;\n",
       "    }\n",
       "</style>\n",
       "<table border=\"1\" class=\"dataframe\">\n",
       "  <thead>\n",
       "    <tr style=\"text-align: right;\">\n",
       "      <th></th>\n",
       "      <th>id</th>\n",
       "      <th>price_A</th>\n",
       "      <th>price_B</th>\n",
       "      <th>price_C</th>\n",
       "      <th>rating_A</th>\n",
       "      <th>rating_B</th>\n",
       "      <th>rating_C</th>\n",
       "    </tr>\n",
       "  </thead>\n",
       "  <tbody>\n",
       "    <tr>\n",
       "      <th>0</th>\n",
       "      <td>1</td>\n",
       "      <td>380</td>\n",
       "      <td>385</td>\n",
       "      <td>389</td>\n",
       "      <td>4.1</td>\n",
       "      <td>3.3</td>\n",
       "      <td>4.0</td>\n",
       "    </tr>\n",
       "    <tr>\n",
       "      <th>1</th>\n",
       "      <td>2</td>\n",
       "      <td>943</td>\n",
       "      <td>947</td>\n",
       "      <td>961</td>\n",
       "      <td>10.1</td>\n",
       "      <td>8.9</td>\n",
       "      <td>9.3</td>\n",
       "    </tr>\n",
       "    <tr>\n",
       "      <th>2</th>\n",
       "      <td>3</td>\n",
       "      <td>980</td>\n",
       "      <td>980</td>\n",
       "      <td>987</td>\n",
       "      <td>10.4</td>\n",
       "      <td>8.7</td>\n",
       "      <td>10.3</td>\n",
       "    </tr>\n",
       "  </tbody>\n",
       "</table>\n",
       "</div>"
      ],
      "text/plain": [
       "   id  price_A  price_B  price_C  rating_A  rating_B  rating_C\n",
       "0   1      380      385      389       4.1       3.3       4.0\n",
       "1   2      943      947      961      10.1       8.9       9.3\n",
       "2   3      980      980      987      10.4       8.7      10.3"
      ]
     },
     "execution_count": 255,
     "metadata": {},
     "output_type": "execute_result"
    }
   ],
   "source": [
    "sample.head(3)"
   ]
  },
  {
   "cell_type": "code",
   "execution_count": 256,
   "metadata": {},
   "outputs": [],
   "source": [
    "# クライアトa, b, cの元々持っていた枠をランダムに決める。\n",
    "length = len(sample)\n",
    "ids = list(range(length))\n",
    "# idは1からなので、1を足す。\n",
    "random_ids = [id+1 for id in ids]\n",
    "\n",
    "# Break Point 1の略。\n",
    "bp1 = length//3 \n",
    "bp2 = length//3 + bp1\n",
    "\n",
    "random.shuffle(random_ids)\n",
    "a, b, c = random_ids[:bp1], random_ids[bp1:bp2], random_ids[bp2:]"
   ]
  },
  {
   "cell_type": "code",
   "execution_count": 257,
   "metadata": {},
   "outputs": [
    {
     "name": "stdout",
     "output_type": "stream",
     "text": [
      "[14, 8, 22, 27, 24, 10, 12, 1, 18, 7]\n",
      "[13, 30, 26, 29, 15, 19, 5, 16, 20, 2]\n",
      "[17, 25, 28, 3, 4, 6, 23, 11, 9, 21]\n"
     ]
    }
   ],
   "source": [
    "# それぞれのidを表示\n",
    "print(a)\n",
    "print(b)\n",
    "print(c)"
   ]
  },
  {
   "cell_type": "code",
   "execution_count": 258,
   "metadata": {},
   "outputs": [],
   "source": [
    "# それぞれのidのデータのみを取り出すための判別用カラム。\n",
    "sample['judge_a'] = sample['id'].apply(lambda x:x in a)\n",
    "sample['judge_b'] = sample['id'].apply(lambda x:x in b)\n",
    "sample['judge_c'] = sample['id'].apply(lambda x:x in c)"
   ]
  },
  {
   "cell_type": "code",
   "execution_count": 259,
   "metadata": {},
   "outputs": [],
   "source": [
    "# それぞれのidのデータを取得。\n",
    "df_a = sample[sample['judge_a']].loc[:, ['id','price_A', 'rating_A']]\n",
    "df_b = sample[sample['judge_b']].loc[:, ['id','price_B', 'rating_B']]\n",
    "df_c = sample[sample['judge_c']].loc[:, ['id','price_C', 'rating_C']]"
   ]
  },
  {
   "cell_type": "code",
   "execution_count": 260,
   "metadata": {},
   "outputs": [],
   "source": [
    "# 判別用カラムを削除。\n",
    "del sample['judge_a']\n",
    "del sample['judge_b']\n",
    "del sample['judge_c']"
   ]
  },
  {
   "cell_type": "code",
   "execution_count": 261,
   "metadata": {},
   "outputs": [],
   "source": [
    "# 元々の値段の総和、元々の視聴率の和を計算する。\n",
    "# Original price, Original point\n",
    "o_price_a, o_point_a = sum(df_a['price_A']), sum(df_a['rating_A'])\n",
    "o_price_b, o_point_b = sum(df_b['price_B']), sum(df_b['rating_B'])\n",
    "o_price_c, o_point_c = sum(df_c['price_C']), sum(df_c['rating_C'])"
   ]
  },
  {
   "cell_type": "code",
   "execution_count": 262,
   "metadata": {},
   "outputs": [],
   "source": [
    "# 獲得した枠の価格を貯めていく。\n",
    "obtained_price_A = 0\n",
    "obtained_price_B = 0\n",
    "obtained_price_C = 0"
   ]
  },
  {
   "cell_type": "code",
   "execution_count": 263,
   "metadata": {},
   "outputs": [],
   "source": [
    "# 獲得した枠の視聴率を貯めていく。\n",
    "obtained_point_A = 0\n",
    "obtained_point_B = 0\n",
    "obtained_point_C = 0"
   ]
  },
  {
   "cell_type": "code",
   "execution_count": 264,
   "metadata": {},
   "outputs": [],
   "source": [
    "# 各クライアントの考える価値を数値化し、表に加える。\n",
    "# 指定した視聴率/そのクライアントの号数価格\n",
    "sample['value_A'] = round((sample['rating_A']/sample['price_A'])*100, 2)\n",
    "sample['value_B'] = round((sample['rating_B']/sample['price_B'])*100, 2)\n",
    "sample['value_C'] = round((sample['rating_C']/sample['price_C'])*100, 2)"
   ]
  },
  {
   "cell_type": "code",
   "execution_count": 296,
   "metadata": {
    "scrolled": true
   },
   "outputs": [
    {
     "name": "stdout",
     "output_type": "stream",
     "text": [
      "client_Aの交換前の合計価格: 6034 client_Aの交換前の合計視聴率 59.20000000000001\n",
      "client_Bの交換前の合計価格: 5821 client_Bの交換前の合計視聴率 60.8\n",
      "client_Cの交換前の合計価格: 7137 client_Cの交換前の合計視聴率 74.19999999999999\n"
     ]
    },
    {
     "data": {
      "text/html": [
       "<div>\n",
       "<style scoped>\n",
       "    .dataframe tbody tr th:only-of-type {\n",
       "        vertical-align: middle;\n",
       "    }\n",
       "\n",
       "    .dataframe tbody tr th {\n",
       "        vertical-align: top;\n",
       "    }\n",
       "\n",
       "    .dataframe thead th {\n",
       "        text-align: right;\n",
       "    }\n",
       "</style>\n",
       "<table border=\"1\" class=\"dataframe\">\n",
       "  <thead>\n",
       "    <tr style=\"text-align: right;\">\n",
       "      <th></th>\n",
       "      <th>id</th>\n",
       "      <th>price_A</th>\n",
       "      <th>price_B</th>\n",
       "      <th>price_C</th>\n",
       "      <th>rating_A</th>\n",
       "      <th>rating_B</th>\n",
       "      <th>rating_C</th>\n",
       "      <th>value_A</th>\n",
       "      <th>value_B</th>\n",
       "      <th>value_C</th>\n",
       "    </tr>\n",
       "  </thead>\n",
       "  <tbody>\n",
       "    <tr>\n",
       "      <th>0</th>\n",
       "      <td>10</td>\n",
       "      <td>357</td>\n",
       "      <td>372</td>\n",
       "      <td>362</td>\n",
       "      <td>3.7</td>\n",
       "      <td>3.3</td>\n",
       "      <td>3.7</td>\n",
       "      <td>1.04</td>\n",
       "      <td>0.89</td>\n",
       "      <td>1.02</td>\n",
       "    </tr>\n",
       "    <tr>\n",
       "      <th>1</th>\n",
       "      <td>13</td>\n",
       "      <td>607</td>\n",
       "      <td>627</td>\n",
       "      <td>608</td>\n",
       "      <td>6.1</td>\n",
       "      <td>7.0</td>\n",
       "      <td>5.1</td>\n",
       "      <td>1.00</td>\n",
       "      <td>1.12</td>\n",
       "      <td>0.84</td>\n",
       "    </tr>\n",
       "    <tr>\n",
       "      <th>2</th>\n",
       "      <td>15</td>\n",
       "      <td>230</td>\n",
       "      <td>212</td>\n",
       "      <td>218</td>\n",
       "      <td>2.4</td>\n",
       "      <td>2.0</td>\n",
       "      <td>2.5</td>\n",
       "      <td>1.04</td>\n",
       "      <td>0.94</td>\n",
       "      <td>1.15</td>\n",
       "    </tr>\n",
       "  </tbody>\n",
       "</table>\n",
       "</div>"
      ],
      "text/plain": [
       "   id  price_A  price_B  price_C  rating_A  rating_B  rating_C  value_A  \\\n",
       "0  10      357      372      362       3.7       3.3       3.7     1.04   \n",
       "1  13      607      627      608       6.1       7.0       5.1     1.00   \n",
       "2  15      230      212      218       2.4       2.0       2.5     1.04   \n",
       "\n",
       "   value_B  value_C  \n",
       "0     0.89     1.02  \n",
       "1     1.12     0.84  \n",
       "2     0.94     1.15  "
      ]
     },
     "execution_count": 296,
     "metadata": {},
     "output_type": "execute_result"
    }
   ],
   "source": [
    "print('client_Aの交換前の合計価格:', o_price_a, 'client_Aの交換前の合計視聴率', o_point_a)\n",
    "print('client_Bの交換前の合計価格:', o_price_b, 'client_Bの交換前の合計視聴率', o_point_b)\n",
    "print('client_Cの交換前の合計価格:', o_price_c, 'client_Cの交換前の合計視聴率', o_point_c)\n",
    "sample.head(3)"
   ]
  },
  {
   "cell_type": "markdown",
   "metadata": {},
   "source": [
    "***\n",
    "***"
   ]
  },
  {
   "cell_type": "markdown",
   "metadata": {},
   "source": [
    "### ここからアルゴリズム。"
   ]
  },
  {
   "cell_type": "code",
   "execution_count": 330,
   "metadata": {
    "scrolled": true
   },
   "outputs": [],
   "source": [
    "# ナップザック問題。\n",
    "\n",
    "# size = 値段のデータ。\n",
    "# weight = 価値のデータ。\n",
    "# capacity = 元々の値段×1.05倍の値段。\n",
    "# ids = 取得すべきだと考えられた枠のid    \n",
    "\n",
    "def Knapsack(size, weight, capacity, obtained=0, rate=0.05):\n",
    "    if capacity*(1 + rate) -  obtained > 0:        \n",
    "        x = cvxpy.Variable(size.shape[0], boolean=True)\n",
    "        # 要素の個数(これを加えて平均を最大化しないと、価格の小さいものばかりをとってしまう。)\n",
    "        count = sum(np.ones(len(size)) * x)\n",
    "        # 目的\n",
    "        objective = cvxpy.Maximize(weight * x / count)\n",
    "        # 制限。ここでは、capacity(価格)の上下5%を取っている。\n",
    "        constraints = [capacity*(1 + rate) -  obtained >= size*x]\n",
    "        constraints += [capacity*(1 - rate) - obtained <= size * x]\n",
    "\n",
    "        prob = cvxpy.Problem(objective, constraints)\n",
    "        prob.solve(solver=cvxpy.ECOS_BB)\n",
    "        result = [round(ix, 0) for ix in x.value]\n",
    "\n",
    "        return result\n",
    "    else:\n",
    "        return []"
   ]
  },
  {
   "cell_type": "code",
   "execution_count": 267,
   "metadata": {},
   "outputs": [],
   "source": [
    "size_A = np.array(sample['price_A'])\n",
    "weight_A = np.array(sample['value_A'])\n",
    "capacity_A = o_price_a\n",
    "\n",
    "ids_a = Knapsack(size_A, weight_A, capacity_A,  obtained_price_A)"
   ]
  },
  {
   "cell_type": "code",
   "execution_count": 268,
   "metadata": {},
   "outputs": [],
   "source": [
    "size_B = np.array(sample['price_B'])\n",
    "weight_B = np.array(sample['value_B'])\n",
    "capacity_B = o_price_b\n",
    "\n",
    "ids_b = Knapsack(size_B, weight_B, capacity_B,  obtained_price_B)"
   ]
  },
  {
   "cell_type": "code",
   "execution_count": 269,
   "metadata": {},
   "outputs": [],
   "source": [
    "size_C = np.array(sample['price_C'])\n",
    "weight_C = np.array(sample['value_C'])\n",
    "capacity_C = o_price_c\n",
    "\n",
    "# 今回のCのように、capacityの値を制約しすぎると、その値の枠に収まらなくなる可能性がある。\n",
    "# その場合は、±の幅を大きくすれば良い。\n",
    "ids_c = Knapsack(size_C, weight_C, capacity_C,  obtained_price_C, rate=0.1)"
   ]
  },
  {
   "cell_type": "code",
   "execution_count": 270,
   "metadata": {},
   "outputs": [],
   "source": [
    "# 視聴率データのインデックス。\n",
    "ids = np.array(sample['id'].index)"
   ]
  },
  {
   "cell_type": "code",
   "execution_count": 271,
   "metadata": {},
   "outputs": [
    {
     "name": "stdout",
     "output_type": "stream",
     "text": [
      "6.0 個の枠: [-0. -0.  2. -0. -0.  5. -0. -0. -0. -0. -0. -0. -0. 13. -0. -0. 16. -0.\n",
      " -0. -0. -0. -0. -0. -0. -0. -0. -0. 27. 28. -0.]\n",
      "5.0 個の枠: [ 0.  0.  2.  0.  0.  0.  0.  0.  0.  0.  0.  0.  0. 13.  0.  0. 16.  0.\n",
      "  0.  0.  0.  0.  0.  0.  0.  0.  0. 27. 28.  0.]\n",
      "7.0 個の枠: [ 0.  1.  2.  0.  0.  0. -0. -0. -0.  0. -0. -0. -0. 13.  0.  0. 16. -0.\n",
      " -0. -0. 20.  0.  0. -0. -0. -0. -0. 27. 28. -0.]\n"
     ]
    }
   ],
   "source": [
    "# それぞれが選んだ枠のid『のindex』が選択されている。\n",
    "print(sum(ids_a),'個の枠:', ids_a * ids)\n",
    "print(sum(ids_b),'個の枠:', ids_b * ids)\n",
    "print(sum(ids_c),'個の枠:', ids_c * ids)"
   ]
  },
  {
   "cell_type": "code",
   "execution_count": 272,
   "metadata": {},
   "outputs": [],
   "source": [
    "# それぞれの枠を選択したクライアントの中から１つをランダムに選択する。\n",
    "ids_dict = dict()\n",
    "for i in ids:\n",
    "    values = []\n",
    "    if i in ids_a * ids:\n",
    "        values.append('a')\n",
    "    if i in ids_b * ids:\n",
    "        values.append('b')\n",
    "    if i in ids_c * ids:\n",
    "        values.append('c')\n",
    "    if values:\n",
    "        value = random.choice(values)\n",
    "        ids_dict[i] = value"
   ]
  },
  {
   "cell_type": "code",
   "execution_count": 273,
   "metadata": {},
   "outputs": [],
   "source": [
    "# クライアントごとに、取得することのできた枠のid『のindex』をリスト化する。\n",
    "a_add_ids = [ids for ids, client in ids_dict.items() if client == 'a']\n",
    "b_add_ids = [ids for ids, client in ids_dict.items() if client == 'b']\n",
    "c_add_ids = [ids for ids, client in ids_dict.items() if client == 'c']\n",
    "\n",
    "# それらの和集合（＝抜き出すもの）\n",
    "extraction_ids = a_add_ids + b_add_ids + c_add_ids"
   ]
  },
  {
   "cell_type": "code",
   "execution_count": 274,
   "metadata": {},
   "outputs": [
    {
     "name": "stdout",
     "output_type": "stream",
     "text": [
      "client_a: [2, 5, 16, 27, 28]\n",
      "client_b: []\n",
      "client_c: [0, 1, 13, 20]\n"
     ]
    }
   ],
   "source": [
    "# 取得することのできた枠のid\n",
    "print(\"client_a:\", a_add_ids)\n",
    "print(\"client_b:\", b_add_ids)\n",
    "print(\"client_c:\", c_add_ids)"
   ]
  },
  {
   "cell_type": "code",
   "execution_count": 275,
   "metadata": {},
   "outputs": [],
   "source": [
    "# 取得した枠の値段を足す。\n",
    "obtained_price_A += sum(sample.query('index in ' + str(a_add_ids))['price_A'])\n",
    "obtained_price_B += sum(sample.query('index in ' + str(b_add_ids))['price_B'])\n",
    "obtained_price_C += sum(sample.query('index in ' + str(c_add_ids))['price_C'])"
   ]
  },
  {
   "cell_type": "code",
   "execution_count": 276,
   "metadata": {},
   "outputs": [],
   "source": [
    "# 取得した枠の視聴率を足す。\n",
    "obtained_point_A += sum(sample.query('index in ' + str(a_add_ids))['rating_A'])\n",
    "obtained_point_B += sum(sample.query('index in ' + str(b_add_ids))['rating_B'])\n",
    "obtained_point_C += sum(sample.query('index in ' + str(c_add_ids))['rating_C'])"
   ]
  },
  {
   "cell_type": "code",
   "execution_count": 277,
   "metadata": {},
   "outputs": [],
   "source": [
    "# 取得された枠を削除する。\n",
    "sample = sample.query('index not in ' + str(extraction_ids)).reset_index(drop=True)"
   ]
  },
  {
   "cell_type": "code",
   "execution_count": 278,
   "metadata": {
    "scrolled": true
   },
   "outputs": [
    {
     "name": "stdout",
     "output_type": "stream",
     "text": [
      "残りの枠: 21\n"
     ]
    },
    {
     "data": {
      "text/html": [
       "<div>\n",
       "<style scoped>\n",
       "    .dataframe tbody tr th:only-of-type {\n",
       "        vertical-align: middle;\n",
       "    }\n",
       "\n",
       "    .dataframe tbody tr th {\n",
       "        vertical-align: top;\n",
       "    }\n",
       "\n",
       "    .dataframe thead th {\n",
       "        text-align: right;\n",
       "    }\n",
       "</style>\n",
       "<table border=\"1\" class=\"dataframe\">\n",
       "  <thead>\n",
       "    <tr style=\"text-align: right;\">\n",
       "      <th></th>\n",
       "      <th>id</th>\n",
       "      <th>price_A</th>\n",
       "      <th>price_B</th>\n",
       "      <th>price_C</th>\n",
       "      <th>rating_A</th>\n",
       "      <th>rating_B</th>\n",
       "      <th>rating_C</th>\n",
       "      <th>value_A</th>\n",
       "      <th>value_B</th>\n",
       "      <th>value_C</th>\n",
       "    </tr>\n",
       "  </thead>\n",
       "  <tbody>\n",
       "    <tr>\n",
       "      <th>0</th>\n",
       "      <td>4</td>\n",
       "      <td>217</td>\n",
       "      <td>237</td>\n",
       "      <td>227</td>\n",
       "      <td>2.3</td>\n",
       "      <td>1.9</td>\n",
       "      <td>2.3</td>\n",
       "      <td>1.06</td>\n",
       "      <td>0.80</td>\n",
       "      <td>1.01</td>\n",
       "    </tr>\n",
       "    <tr>\n",
       "      <th>1</th>\n",
       "      <td>5</td>\n",
       "      <td>167</td>\n",
       "      <td>149</td>\n",
       "      <td>178</td>\n",
       "      <td>1.5</td>\n",
       "      <td>1.5</td>\n",
       "      <td>2.0</td>\n",
       "      <td>0.90</td>\n",
       "      <td>1.01</td>\n",
       "      <td>1.12</td>\n",
       "    </tr>\n",
       "    <tr>\n",
       "      <th>2</th>\n",
       "      <td>7</td>\n",
       "      <td>757</td>\n",
       "      <td>743</td>\n",
       "      <td>769</td>\n",
       "      <td>7.9</td>\n",
       "      <td>7.6</td>\n",
       "      <td>7.2</td>\n",
       "      <td>1.04</td>\n",
       "      <td>1.02</td>\n",
       "      <td>0.94</td>\n",
       "    </tr>\n",
       "  </tbody>\n",
       "</table>\n",
       "</div>"
      ],
      "text/plain": [
       "   id  price_A  price_B  price_C  rating_A  rating_B  rating_C  value_A  \\\n",
       "0   4      217      237      227       2.3       1.9       2.3     1.06   \n",
       "1   5      167      149      178       1.5       1.5       2.0     0.90   \n",
       "2   7      757      743      769       7.9       7.6       7.2     1.04   \n",
       "\n",
       "   value_B  value_C  \n",
       "0     0.80     1.01  \n",
       "1     1.01     1.12  \n",
       "2     1.02     0.94  "
      ]
     },
     "execution_count": 278,
     "metadata": {},
     "output_type": "execute_result"
    }
   ],
   "source": [
    "print('残りの枠:', len(sample))\n",
    "print('client_Aの合計価格:', obtained_price_A, 'client_Aの合計視聴率', obtained_point_A)\n",
    "print('client_Bの合計価格:', obtained_price_B, 'client_Bの合計視聴率', obtained_point_B)\n",
    "print('client_Cの合計価格:', obtained_price_C, 'client_Cの合計視聴率', obtained_point_C)\n",
    "sample.head(3)"
   ]
  },
  {
   "cell_type": "markdown",
   "metadata": {},
   "source": [
    "***\n",
    "***"
   ]
  },
  {
   "cell_type": "markdown",
   "metadata": {},
   "source": [
    "### アルゴリズム２回目"
   ]
  },
  {
   "cell_type": "code",
   "execution_count": 280,
   "metadata": {},
   "outputs": [],
   "source": [
    "size_A = np.array(sample['price_A'])\n",
    "weight_A = np.array(sample['value_A'])\n",
    "capacity_A = o_price_a\n",
    "\n",
    "ids_a = Knapsack(size_A, weight_A, capacity_A,  obtained_price_A)"
   ]
  },
  {
   "cell_type": "code",
   "execution_count": 281,
   "metadata": {},
   "outputs": [],
   "source": [
    "size_B = np.array(sample['price_B'])\n",
    "weight_B = np.array(sample['value_B'])\n",
    "capacity_B = o_price_b\n",
    "\n",
    "ids_b = Knapsack(size_B, weight_B, capacity_B,  obtained_price_B)"
   ]
  },
  {
   "cell_type": "code",
   "execution_count": 283,
   "metadata": {},
   "outputs": [],
   "source": [
    "size_C = np.array(sample['price_C'])\n",
    "weight_C = np.array(sample['value_C'])\n",
    "capacity_C = o_price_c\n",
    "\n",
    "ids_c = Knapsack(size_C, weight_C, capacity_C,  obtained_price_C)"
   ]
  },
  {
   "cell_type": "code",
   "execution_count": 284,
   "metadata": {},
   "outputs": [],
   "source": [
    "# 視聴率データのインデックス。\n",
    "ids = np.array(sample['id'].index)"
   ]
  },
  {
   "cell_type": "code",
   "execution_count": 285,
   "metadata": {},
   "outputs": [
    {
     "name": "stdout",
     "output_type": "stream",
     "text": [
      "2.0 個の枠: [-0.  1. -0. -0. -0. -0. -0.  7. -0. -0. -0. -0. -0. -0. -0. -0. -0. -0.\n",
      " -0. -0. -0.]\n",
      "8.0 個の枠: [-0. -0.  2.  3.  4.  0.  6.  7.  0. -0. -0.  0. 12.  0. -0.  0. 16.  0.\n",
      " 18.  0.  0.]\n",
      "5.0 個の枠: [ 0.  0.  2.  3.  4.  0.  6.  7.  0.  0.  0.  0.  0.  0.  0.  0.  0.  0.\n",
      " -0.  0.  0.]\n"
     ]
    }
   ],
   "source": [
    "# それぞれが選んだ枠のid『のindex』が選択されている。\n",
    "print(sum(ids_a),'個の枠:', ids_a * ids)\n",
    "print(sum(ids_b),'個の枠:', ids_b * ids)\n",
    "print(sum(ids_c),'個の枠:', ids_c * ids)"
   ]
  },
  {
   "cell_type": "code",
   "execution_count": 286,
   "metadata": {},
   "outputs": [],
   "source": [
    "# それぞれの枠を選択したクライアントの中から１つをランダムに選択する。\n",
    "ids_dict = dict()\n",
    "for i in ids:\n",
    "    values = []\n",
    "    if i in ids_a * ids:\n",
    "        values.append('a')\n",
    "    if i in ids_b * ids:\n",
    "        values.append('b')\n",
    "    if i in ids_c * ids:\n",
    "        values.append('c')\n",
    "    if values:\n",
    "        value = random.choice(values)\n",
    "        ids_dict[i] = value"
   ]
  },
  {
   "cell_type": "code",
   "execution_count": 287,
   "metadata": {},
   "outputs": [],
   "source": [
    "# クライアントごとに、取得することのできた枠のid『のindex』をリスト化する。\n",
    "a_add_ids = [ids for ids, client in ids_dict.items() if client == 'a']\n",
    "b_add_ids = [ids for ids, client in ids_dict.items() if client == 'b']\n",
    "c_add_ids = [ids for ids, client in ids_dict.items() if client == 'c']\n",
    "\n",
    "# それらの和集合（＝抜き出すもの）\n",
    "extraction_ids = a_add_ids + b_add_ids + c_add_ids"
   ]
  },
  {
   "cell_type": "code",
   "execution_count": 288,
   "metadata": {},
   "outputs": [
    {
     "name": "stdout",
     "output_type": "stream",
     "text": [
      "client_a: [1]\n",
      "client_b: [0, 2, 4, 6, 12, 16, 18]\n",
      "client_c: [3, 7]\n"
     ]
    }
   ],
   "source": [
    "# 取得することのできた枠のid\n",
    "print(\"client_a:\", a_add_ids)\n",
    "print(\"client_b:\", b_add_ids)\n",
    "print(\"client_c:\", c_add_ids)"
   ]
  },
  {
   "cell_type": "code",
   "execution_count": 289,
   "metadata": {},
   "outputs": [],
   "source": [
    "# 取得した枠の値段を足す。\n",
    "obtained_price_A += sum(sample.query('index in ' + str(a_add_ids))['price_A'])\n",
    "obtained_price_B += sum(sample.query('index in ' + str(b_add_ids))['price_B'])\n",
    "obtained_price_C += sum(sample.query('index in ' + str(c_add_ids))['price_C'])"
   ]
  },
  {
   "cell_type": "code",
   "execution_count": 290,
   "metadata": {},
   "outputs": [],
   "source": [
    "# 取得した枠の視聴率を足す。\n",
    "obtained_point_A += sum(sample.query('index in ' + str(a_add_ids))['rating_A'])\n",
    "obtained_point_B += sum(sample.query('index in ' + str(b_add_ids))['rating_B'])\n",
    "obtained_point_C += sum(sample.query('index in ' + str(c_add_ids))['rating_C'])"
   ]
  },
  {
   "cell_type": "code",
   "execution_count": 291,
   "metadata": {},
   "outputs": [],
   "source": [
    "# 取得された枠を削除する。\n",
    "sample = sample.query('index not in ' + str(extraction_ids)).reset_index(drop=True)"
   ]
  },
  {
   "cell_type": "code",
   "execution_count": 295,
   "metadata": {
    "scrolled": false
   },
   "outputs": [
    {
     "name": "stdout",
     "output_type": "stream",
     "text": [
      "残りの枠: 11\n",
      "client_Aの合計価格: 4914 client_Aの合計視聴率 49.800000000000004\n",
      "client_Bの合計価格: 4407 client_Bの合計視聴率 44.4\n",
      "client_Cの合計価格: 4926 client_Cの合計視聴率 49.6\n"
     ]
    },
    {
     "data": {
      "text/html": [
       "<div>\n",
       "<style scoped>\n",
       "    .dataframe tbody tr th:only-of-type {\n",
       "        vertical-align: middle;\n",
       "    }\n",
       "\n",
       "    .dataframe tbody tr th {\n",
       "        vertical-align: top;\n",
       "    }\n",
       "\n",
       "    .dataframe thead th {\n",
       "        text-align: right;\n",
       "    }\n",
       "</style>\n",
       "<table border=\"1\" class=\"dataframe\">\n",
       "  <thead>\n",
       "    <tr style=\"text-align: right;\">\n",
       "      <th></th>\n",
       "      <th>id</th>\n",
       "      <th>price_A</th>\n",
       "      <th>price_B</th>\n",
       "      <th>price_C</th>\n",
       "      <th>rating_A</th>\n",
       "      <th>rating_B</th>\n",
       "      <th>rating_C</th>\n",
       "      <th>value_A</th>\n",
       "      <th>value_B</th>\n",
       "      <th>value_C</th>\n",
       "    </tr>\n",
       "  </thead>\n",
       "  <tbody>\n",
       "    <tr>\n",
       "      <th>0</th>\n",
       "      <td>10</td>\n",
       "      <td>357</td>\n",
       "      <td>372</td>\n",
       "      <td>362</td>\n",
       "      <td>3.7</td>\n",
       "      <td>3.3</td>\n",
       "      <td>3.7</td>\n",
       "      <td>1.04</td>\n",
       "      <td>0.89</td>\n",
       "      <td>1.02</td>\n",
       "    </tr>\n",
       "    <tr>\n",
       "      <th>1</th>\n",
       "      <td>13</td>\n",
       "      <td>607</td>\n",
       "      <td>627</td>\n",
       "      <td>608</td>\n",
       "      <td>6.1</td>\n",
       "      <td>7.0</td>\n",
       "      <td>5.1</td>\n",
       "      <td>1.00</td>\n",
       "      <td>1.12</td>\n",
       "      <td>0.84</td>\n",
       "    </tr>\n",
       "    <tr>\n",
       "      <th>2</th>\n",
       "      <td>15</td>\n",
       "      <td>230</td>\n",
       "      <td>212</td>\n",
       "      <td>218</td>\n",
       "      <td>2.4</td>\n",
       "      <td>2.0</td>\n",
       "      <td>2.5</td>\n",
       "      <td>1.04</td>\n",
       "      <td>0.94</td>\n",
       "      <td>1.15</td>\n",
       "    </tr>\n",
       "  </tbody>\n",
       "</table>\n",
       "</div>"
      ],
      "text/plain": [
       "   id  price_A  price_B  price_C  rating_A  rating_B  rating_C  value_A  \\\n",
       "0  10      357      372      362       3.7       3.3       3.7     1.04   \n",
       "1  13      607      627      608       6.1       7.0       5.1     1.00   \n",
       "2  15      230      212      218       2.4       2.0       2.5     1.04   \n",
       "\n",
       "   value_B  value_C  \n",
       "0     0.89     1.02  \n",
       "1     1.12     0.84  \n",
       "2     0.94     1.15  "
      ]
     },
     "execution_count": 295,
     "metadata": {},
     "output_type": "execute_result"
    }
   ],
   "source": [
    "print('残りの枠:', len(sample))\n",
    "print('client_Aの合計価格:', obtained_price_A, 'client_Aの合計視聴率', obtained_point_A)\n",
    "print('client_Bの合計価格:', obtained_price_B, 'client_Bの合計視聴率', obtained_point_B)\n",
    "print('client_Cの合計価格:', obtained_price_C, 'client_Cの合計視聴率', obtained_point_C)\n",
    "sample.head(3)"
   ]
  },
  {
   "cell_type": "markdown",
   "metadata": {},
   "source": [
    "***\n",
    "***"
   ]
  },
  {
   "cell_type": "markdown",
   "metadata": {},
   "source": [
    "### アルゴリズム３回目"
   ]
  },
  {
   "cell_type": "code",
   "execution_count": 297,
   "metadata": {},
   "outputs": [],
   "source": [
    "size_A = np.array(sample['price_A'])\n",
    "weight_A = np.array(sample['value_A'])\n",
    "capacity_A = o_price_a\n",
    "\n",
    "ids_a = Knapsack(size_A, weight_A, capacity_A,  obtained_price_A)"
   ]
  },
  {
   "cell_type": "code",
   "execution_count": 298,
   "metadata": {},
   "outputs": [],
   "source": [
    "size_B = np.array(sample['price_B'])\n",
    "weight_B = np.array(sample['value_B'])\n",
    "capacity_B = o_price_b\n",
    "\n",
    "ids_b = Knapsack(size_B, weight_B, capacity_B,  obtained_price_B)"
   ]
  },
  {
   "cell_type": "code",
   "execution_count": 299,
   "metadata": {},
   "outputs": [],
   "source": [
    "size_C = np.array(sample['price_C'])\n",
    "weight_C = np.array(sample['value_C'])\n",
    "capacity_C = o_price_c\n",
    "\n",
    "ids_c = Knapsack(size_C, weight_C, capacity_C,  obtained_price_C)"
   ]
  },
  {
   "cell_type": "code",
   "execution_count": 300,
   "metadata": {},
   "outputs": [],
   "source": [
    "# 視聴率データのインデックス。\n",
    "ids = np.array(sample['id'].index)"
   ]
  },
  {
   "cell_type": "code",
   "execution_count": 301,
   "metadata": {},
   "outputs": [
    {
     "name": "stdout",
     "output_type": "stream",
     "text": [
      "2.0 個の枠: [ 0. -0.  0.  0.  0.  0.  0.  0.  8.  0. 10.]\n",
      "2.0 個の枠: [ 0.  1. -0.  0.  0.  0.  0.  0.  0.  0. 10.]\n",
      "4.0 個の枠: [ 0.  1.  0.  0.  0.  0.  0.  0.  8.  9. 10.]\n"
     ]
    }
   ],
   "source": [
    "# それぞれが選んだ枠のid『のindex』が選択されている。\n",
    "print(sum(ids_a),'個の枠:', ids_a * ids)\n",
    "print(sum(ids_b),'個の枠:', ids_b * ids)\n",
    "print(sum(ids_c),'個の枠:', ids_c * ids)"
   ]
  },
  {
   "cell_type": "code",
   "execution_count": 302,
   "metadata": {},
   "outputs": [],
   "source": [
    "# それぞれの枠を選択したクライアントの中から１つをランダムに選択する。\n",
    "ids_dict = dict()\n",
    "for i in ids:\n",
    "    values = []\n",
    "    if i in ids_a * ids:\n",
    "        values.append('a')\n",
    "    if i in ids_b * ids:\n",
    "        values.append('b')\n",
    "    if i in ids_c * ids:\n",
    "        values.append('c')\n",
    "    if values:\n",
    "        value = random.choice(values)\n",
    "        ids_dict[i] = value"
   ]
  },
  {
   "cell_type": "code",
   "execution_count": 303,
   "metadata": {},
   "outputs": [],
   "source": [
    "# クライアントごとに、取得することのできた枠のid『のindex』をリスト化する。\n",
    "a_add_ids = [ids for ids, client in ids_dict.items() if client == 'a']\n",
    "b_add_ids = [ids for ids, client in ids_dict.items() if client == 'b']\n",
    "c_add_ids = [ids for ids, client in ids_dict.items() if client == 'c']\n",
    "\n",
    "# それらの和集合（＝抜き出すもの）\n",
    "extraction_ids = a_add_ids + b_add_ids + c_add_ids"
   ]
  },
  {
   "cell_type": "code",
   "execution_count": 304,
   "metadata": {},
   "outputs": [
    {
     "name": "stdout",
     "output_type": "stream",
     "text": [
      "client_a: [8]\n",
      "client_b: []\n",
      "client_c: [0, 1, 9, 10]\n"
     ]
    }
   ],
   "source": [
    "# 取得することのできた枠のid\n",
    "print(\"client_a:\", a_add_ids)\n",
    "print(\"client_b:\", b_add_ids)\n",
    "print(\"client_c:\", c_add_ids)"
   ]
  },
  {
   "cell_type": "code",
   "execution_count": 305,
   "metadata": {},
   "outputs": [],
   "source": [
    "# 取得した枠の値段を足す。\n",
    "obtained_price_A += sum(sample.query('index in ' + str(a_add_ids))['price_A'])\n",
    "obtained_price_B += sum(sample.query('index in ' + str(b_add_ids))['price_B'])\n",
    "obtained_price_C += sum(sample.query('index in ' + str(c_add_ids))['price_C'])"
   ]
  },
  {
   "cell_type": "code",
   "execution_count": 306,
   "metadata": {},
   "outputs": [],
   "source": [
    "# 取得した枠の視聴率を足す。\n",
    "obtained_point_A += sum(sample.query('index in ' + str(a_add_ids))['rating_A'])\n",
    "obtained_point_B += sum(sample.query('index in ' + str(b_add_ids))['rating_B'])\n",
    "obtained_point_C += sum(sample.query('index in ' + str(c_add_ids))['rating_C'])"
   ]
  },
  {
   "cell_type": "code",
   "execution_count": 307,
   "metadata": {},
   "outputs": [],
   "source": [
    "# 取得された枠を削除する。\n",
    "sample = sample.query('index not in ' + str(extraction_ids)).reset_index(drop=True)"
   ]
  },
  {
   "cell_type": "code",
   "execution_count": 312,
   "metadata": {
    "scrolled": true
   },
   "outputs": [
    {
     "name": "stdout",
     "output_type": "stream",
     "text": [
      "残りの枠: 6\n",
      "client_Aの合計価格: 5521 client_Aの合計視聴率 55.400000000000006\n",
      "client_Bの合計価格: 4407 client_Bの合計視聴率 44.4\n",
      "client_Cの合計価格: 7068 client_Cの合計視聴率 68.80000000000001\n"
     ]
    },
    {
     "data": {
      "text/html": [
       "<div>\n",
       "<style scoped>\n",
       "    .dataframe tbody tr th:only-of-type {\n",
       "        vertical-align: middle;\n",
       "    }\n",
       "\n",
       "    .dataframe tbody tr th {\n",
       "        vertical-align: top;\n",
       "    }\n",
       "\n",
       "    .dataframe thead th {\n",
       "        text-align: right;\n",
       "    }\n",
       "</style>\n",
       "<table border=\"1\" class=\"dataframe\">\n",
       "  <thead>\n",
       "    <tr style=\"text-align: right;\">\n",
       "      <th></th>\n",
       "      <th>id</th>\n",
       "      <th>price_A</th>\n",
       "      <th>price_B</th>\n",
       "      <th>price_C</th>\n",
       "      <th>rating_A</th>\n",
       "      <th>rating_B</th>\n",
       "      <th>rating_C</th>\n",
       "      <th>value_A</th>\n",
       "      <th>value_B</th>\n",
       "      <th>value_C</th>\n",
       "    </tr>\n",
       "  </thead>\n",
       "  <tbody>\n",
       "    <tr>\n",
       "      <th>0</th>\n",
       "      <td>15</td>\n",
       "      <td>230</td>\n",
       "      <td>212</td>\n",
       "      <td>218</td>\n",
       "      <td>2.4</td>\n",
       "      <td>2.0</td>\n",
       "      <td>2.5</td>\n",
       "      <td>1.04</td>\n",
       "      <td>0.94</td>\n",
       "      <td>1.15</td>\n",
       "    </tr>\n",
       "    <tr>\n",
       "      <th>1</th>\n",
       "      <td>16</td>\n",
       "      <td>333</td>\n",
       "      <td>323</td>\n",
       "      <td>337</td>\n",
       "      <td>3.0</td>\n",
       "      <td>4.2</td>\n",
       "      <td>2.8</td>\n",
       "      <td>0.90</td>\n",
       "      <td>1.30</td>\n",
       "      <td>0.83</td>\n",
       "    </tr>\n",
       "    <tr>\n",
       "      <th>2</th>\n",
       "      <td>18</td>\n",
       "      <td>413</td>\n",
       "      <td>401</td>\n",
       "      <td>429</td>\n",
       "      <td>4.0</td>\n",
       "      <td>4.0</td>\n",
       "      <td>4.4</td>\n",
       "      <td>0.97</td>\n",
       "      <td>1.00</td>\n",
       "      <td>1.03</td>\n",
       "    </tr>\n",
       "  </tbody>\n",
       "</table>\n",
       "</div>"
      ],
      "text/plain": [
       "   id  price_A  price_B  price_C  rating_A  rating_B  rating_C  value_A  \\\n",
       "0  15      230      212      218       2.4       2.0       2.5     1.04   \n",
       "1  16      333      323      337       3.0       4.2       2.8     0.90   \n",
       "2  18      413      401      429       4.0       4.0       4.4     0.97   \n",
       "\n",
       "   value_B  value_C  \n",
       "0     0.94     1.15  \n",
       "1     1.30     0.83  \n",
       "2     1.00     1.03  "
      ]
     },
     "metadata": {},
     "output_type": "display_data"
    }
   ],
   "source": [
    "print('残りの枠:', len(sample))\n",
    "print('client_Aの合計価格:', obtained_price_A, 'client_Aの合計視聴率', obtained_point_A)\n",
    "print('client_Bの合計価格:', obtained_price_B, 'client_Bの合計視聴率', obtained_point_B)\n",
    "print('client_Cの合計価格:', obtained_price_C, 'client_Cの合計視聴率', obtained_point_C)\n",
    "display(sample.head(3))"
   ]
  },
  {
   "cell_type": "markdown",
   "metadata": {},
   "source": [
    "***\n",
    "***"
   ]
  },
  {
   "cell_type": "markdown",
   "metadata": {},
   "source": [
    "### アルゴリズム４回目"
   ]
  },
  {
   "cell_type": "code",
   "execution_count": 313,
   "metadata": {},
   "outputs": [],
   "source": [
    "size_A = np.array(sample['price_A'])\n",
    "weight_A = np.array(sample['value_A'])\n",
    "capacity_A = o_price_a\n",
    "\n",
    "ids_a = Knapsack(size_A, weight_A, capacity_A,  obtained_price_A)"
   ]
  },
  {
   "cell_type": "code",
   "execution_count": 314,
   "metadata": {},
   "outputs": [],
   "source": [
    "size_B = np.array(sample['price_B'])\n",
    "weight_B = np.array(sample['value_B'])\n",
    "capacity_B = o_price_b\n",
    "\n",
    "ids_b = Knapsack(size_B, weight_B, capacity_B,  obtained_price_B)"
   ]
  },
  {
   "cell_type": "code",
   "execution_count": 315,
   "metadata": {},
   "outputs": [],
   "source": [
    "size_C = np.array(sample['price_C'])\n",
    "weight_C = np.array(sample['value_C'])\n",
    "capacity_C = o_price_c\n",
    "\n",
    "ids_c = Knapsack(size_C, weight_C, capacity_C,  obtained_price_C)"
   ]
  },
  {
   "cell_type": "code",
   "execution_count": 316,
   "metadata": {},
   "outputs": [],
   "source": [
    "# 視聴率データのインデックス。\n",
    "ids = np.array(sample['id'].index)"
   ]
  },
  {
   "cell_type": "code",
   "execution_count": 317,
   "metadata": {},
   "outputs": [
    {
     "name": "stdout",
     "output_type": "stream",
     "text": [
      "1.0 個の枠: [ 0.  0. -0. -0.  0.  0.]\n",
      "4.0 個の枠: [0. 1. 2. 3. 0. 5.]\n",
      "0.0 個の枠: [-0. -0. -0. -0. -0. -0.]\n"
     ]
    }
   ],
   "source": [
    "# それぞれが選んだ枠のid『のindex』が選択されている。\n",
    "print(sum(ids_a),'個の枠:', ids_a * ids)\n",
    "print(sum(ids_b),'個の枠:', ids_b * ids)\n",
    "print(sum(ids_c),'個の枠:', ids_c * ids)"
   ]
  },
  {
   "cell_type": "code",
   "execution_count": 318,
   "metadata": {},
   "outputs": [],
   "source": [
    "# それぞれの枠を選択したクライアントの中から１つをランダムに選択する。\n",
    "ids_dict = dict()\n",
    "for i in ids:\n",
    "    values = []\n",
    "    if i in ids_a * ids:\n",
    "        values.append('a')\n",
    "    if i in ids_b * ids:\n",
    "        values.append('b')\n",
    "    if i in ids_c * ids:\n",
    "        values.append('c')\n",
    "    if values:\n",
    "        value = random.choice(values)\n",
    "        ids_dict[i] = value"
   ]
  },
  {
   "cell_type": "code",
   "execution_count": 319,
   "metadata": {},
   "outputs": [],
   "source": [
    "# クライアントごとに、取得することのできた枠のid『のindex』をリスト化する。\n",
    "a_add_ids = [ids for ids, client in ids_dict.items() if client == 'a']\n",
    "b_add_ids = [ids for ids, client in ids_dict.items() if client == 'b']\n",
    "c_add_ids = [ids for ids, client in ids_dict.items() if client == 'c']\n",
    "\n",
    "# それらの和集合（＝抜き出すもの）\n",
    "extraction_ids = a_add_ids + b_add_ids + c_add_ids"
   ]
  },
  {
   "cell_type": "code",
   "execution_count": 320,
   "metadata": {},
   "outputs": [
    {
     "name": "stdout",
     "output_type": "stream",
     "text": [
      "client_a: [0]\n",
      "client_b: [1, 2, 3, 5]\n",
      "client_c: []\n"
     ]
    }
   ],
   "source": [
    "# 取得することのできた枠のid\n",
    "print(\"client_a:\", a_add_ids)\n",
    "print(\"client_b:\", b_add_ids)\n",
    "print(\"client_c:\", c_add_ids)"
   ]
  },
  {
   "cell_type": "code",
   "execution_count": 321,
   "metadata": {},
   "outputs": [],
   "source": [
    "# 取得した枠の値段を足す。\n",
    "obtained_price_A += sum(sample.query('index in ' + str(a_add_ids))['price_A'])\n",
    "obtained_price_B += sum(sample.query('index in ' + str(b_add_ids))['price_B'])\n",
    "obtained_price_C += sum(sample.query('index in ' + str(c_add_ids))['price_C'])"
   ]
  },
  {
   "cell_type": "code",
   "execution_count": 322,
   "metadata": {},
   "outputs": [],
   "source": [
    "# 取得した枠の視聴率を足す。\n",
    "obtained_point_A += sum(sample.query('index in ' + str(a_add_ids))['rating_A'])\n",
    "obtained_point_B += sum(sample.query('index in ' + str(b_add_ids))['rating_B'])\n",
    "obtained_point_C += sum(sample.query('index in ' + str(c_add_ids))['rating_C'])"
   ]
  },
  {
   "cell_type": "code",
   "execution_count": 323,
   "metadata": {},
   "outputs": [],
   "source": [
    "# 取得された枠を削除する。\n",
    "sample = sample.query('index not in ' + str(extraction_ids)).reset_index(drop=True)"
   ]
  },
  {
   "cell_type": "code",
   "execution_count": 324,
   "metadata": {
    "scrolled": true
   },
   "outputs": [
    {
     "name": "stdout",
     "output_type": "stream",
     "text": [
      "残りの枠: 1\n",
      "client_Aの合計価格: 5751 client_Aの合計視聴率 57.800000000000004\n",
      "client_Bの合計価格: 5906 client_Bの合計視聴率 61.9\n",
      "client_Cの合計価格: 7068 client_Cの合計視聴率 68.80000000000001\n"
     ]
    },
    {
     "data": {
      "text/html": [
       "<div>\n",
       "<style scoped>\n",
       "    .dataframe tbody tr th:only-of-type {\n",
       "        vertical-align: middle;\n",
       "    }\n",
       "\n",
       "    .dataframe tbody tr th {\n",
       "        vertical-align: top;\n",
       "    }\n",
       "\n",
       "    .dataframe thead th {\n",
       "        text-align: right;\n",
       "    }\n",
       "</style>\n",
       "<table border=\"1\" class=\"dataframe\">\n",
       "  <thead>\n",
       "    <tr style=\"text-align: right;\">\n",
       "      <th></th>\n",
       "      <th>id</th>\n",
       "      <th>price_A</th>\n",
       "      <th>price_B</th>\n",
       "      <th>price_C</th>\n",
       "      <th>rating_A</th>\n",
       "      <th>rating_B</th>\n",
       "      <th>rating_C</th>\n",
       "      <th>value_A</th>\n",
       "      <th>value_B</th>\n",
       "      <th>value_C</th>\n",
       "    </tr>\n",
       "  </thead>\n",
       "  <tbody>\n",
       "    <tr>\n",
       "      <th>0</th>\n",
       "      <td>22</td>\n",
       "      <td>287</td>\n",
       "      <td>273</td>\n",
       "      <td>269</td>\n",
       "      <td>2.6</td>\n",
       "      <td>2.5</td>\n",
       "      <td>3.5</td>\n",
       "      <td>0.91</td>\n",
       "      <td>0.92</td>\n",
       "      <td>1.3</td>\n",
       "    </tr>\n",
       "  </tbody>\n",
       "</table>\n",
       "</div>"
      ],
      "text/plain": [
       "   id  price_A  price_B  price_C  rating_A  rating_B  rating_C  value_A  \\\n",
       "0  22      287      273      269       2.6       2.5       3.5     0.91   \n",
       "\n",
       "   value_B  value_C  \n",
       "0     0.92      1.3  "
      ]
     },
     "metadata": {},
     "output_type": "display_data"
    }
   ],
   "source": [
    "print('残りの枠:', len(sample))\n",
    "print('client_Aの合計価格:', obtained_price_A, 'client_Aの合計視聴率', obtained_point_A)\n",
    "print('client_Bの合計価格:', obtained_price_B, 'client_Bの合計視聴率', obtained_point_B)\n",
    "print('client_Cの合計価格:', obtained_price_C, 'client_Cの合計視聴率', obtained_point_C)\n",
    "display(sample.head(3))"
   ]
  },
  {
   "cell_type": "code",
   "execution_count": 328,
   "metadata": {
    "scrolled": true
   },
   "outputs": [
    {
     "name": "stdout",
     "output_type": "stream",
     "text": [
      "client_Aの交換前の合計価格: 6034 client_Aの交換前の合計視聴率 59.20000000000001\n",
      "client_Bの交換前の合計価格: 5821 client_Bの交換前の合計視聴率 60.8\n",
      "client_Cの交換前の合計価格: 7137 client_Cの交換前の合計視聴率 74.19999999999999\n"
     ]
    }
   ],
   "source": [
    "print('client_Aの交換前の合計価格:', o_price_a, 'client_Aの交換前の合計視聴率', o_point_a)\n",
    "print('client_Bの交換前の合計価格:', o_price_b, 'client_Bの交換前の合計視聴率', o_point_b)\n",
    "print('client_Cの交換前の合計価格:', o_price_c, 'client_Cの交換前の合計視聴率', o_point_c)"
   ]
  },
  {
   "cell_type": "markdown",
   "metadata": {},
   "source": [
    "***\n",
    "***"
   ]
  },
  {
   "cell_type": "code",
   "execution_count": 359,
   "metadata": {},
   "outputs": [
    {
     "data": {
      "text/html": [
       "<div>\n",
       "<style scoped>\n",
       "    .dataframe tbody tr th:only-of-type {\n",
       "        vertical-align: middle;\n",
       "    }\n",
       "\n",
       "    .dataframe tbody tr th {\n",
       "        vertical-align: top;\n",
       "    }\n",
       "\n",
       "    .dataframe thead th {\n",
       "        text-align: right;\n",
       "    }\n",
       "</style>\n",
       "<table border=\"1\" class=\"dataframe\">\n",
       "  <thead>\n",
       "    <tr style=\"text-align: right;\">\n",
       "      <th></th>\n",
       "      <th>id</th>\n",
       "      <th>price_A</th>\n",
       "      <th>price_B</th>\n",
       "      <th>price_C</th>\n",
       "      <th>rating_A</th>\n",
       "      <th>rating_B</th>\n",
       "      <th>rating_C</th>\n",
       "      <th>value_A</th>\n",
       "      <th>value_B</th>\n",
       "      <th>value_C</th>\n",
       "    </tr>\n",
       "  </thead>\n",
       "  <tbody>\n",
       "    <tr>\n",
       "      <th>0</th>\n",
       "      <td>0.0</td>\n",
       "      <td>0.0</td>\n",
       "      <td>0.0</td>\n",
       "      <td>0.0</td>\n",
       "      <td>0.0</td>\n",
       "      <td>0.0</td>\n",
       "      <td>0.0</td>\n",
       "      <td>0.0</td>\n",
       "      <td>0.0</td>\n",
       "      <td>0.0</td>\n",
       "    </tr>\n",
       "  </tbody>\n",
       "</table>\n",
       "</div>"
      ],
      "text/plain": [
       "    id  price_A  price_B  price_C  rating_A  rating_B  rating_C  value_A  \\\n",
       "0  0.0      0.0      0.0      0.0       0.0       0.0       0.0      0.0   \n",
       "\n",
       "   value_B  value_C  \n",
       "0      0.0      0.0  "
      ]
     },
     "execution_count": 359,
     "metadata": {},
     "output_type": "execute_result"
    }
   ],
   "source": [
    "# データフレームの長さが１だとうまく動作しないので、全て０のカラムを足す。\n",
    "add_df = pd.DataFrame(np.zeros(10)).T\n",
    "add_df.columns = sample.columns\n",
    "add_df"
   ]
  },
  {
   "cell_type": "code",
   "execution_count": 360,
   "metadata": {},
   "outputs": [],
   "source": [
    "sample = pd.concat([sample, add_df]).reset_index(drop=True)"
   ]
  },
  {
   "cell_type": "code",
   "execution_count": 361,
   "metadata": {},
   "outputs": [
    {
     "data": {
      "text/html": [
       "<div>\n",
       "<style scoped>\n",
       "    .dataframe tbody tr th:only-of-type {\n",
       "        vertical-align: middle;\n",
       "    }\n",
       "\n",
       "    .dataframe tbody tr th {\n",
       "        vertical-align: top;\n",
       "    }\n",
       "\n",
       "    .dataframe thead th {\n",
       "        text-align: right;\n",
       "    }\n",
       "</style>\n",
       "<table border=\"1\" class=\"dataframe\">\n",
       "  <thead>\n",
       "    <tr style=\"text-align: right;\">\n",
       "      <th></th>\n",
       "      <th>id</th>\n",
       "      <th>price_A</th>\n",
       "      <th>price_B</th>\n",
       "      <th>price_C</th>\n",
       "      <th>rating_A</th>\n",
       "      <th>rating_B</th>\n",
       "      <th>rating_C</th>\n",
       "      <th>value_A</th>\n",
       "      <th>value_B</th>\n",
       "      <th>value_C</th>\n",
       "    </tr>\n",
       "  </thead>\n",
       "  <tbody>\n",
       "    <tr>\n",
       "      <th>0</th>\n",
       "      <td>22.0</td>\n",
       "      <td>287.0</td>\n",
       "      <td>273.0</td>\n",
       "      <td>269.0</td>\n",
       "      <td>2.6</td>\n",
       "      <td>2.5</td>\n",
       "      <td>3.5</td>\n",
       "      <td>0.91</td>\n",
       "      <td>0.92</td>\n",
       "      <td>1.3</td>\n",
       "    </tr>\n",
       "    <tr>\n",
       "      <th>1</th>\n",
       "      <td>0.0</td>\n",
       "      <td>0.0</td>\n",
       "      <td>0.0</td>\n",
       "      <td>0.0</td>\n",
       "      <td>0.0</td>\n",
       "      <td>0.0</td>\n",
       "      <td>0.0</td>\n",
       "      <td>0.00</td>\n",
       "      <td>0.00</td>\n",
       "      <td>0.0</td>\n",
       "    </tr>\n",
       "  </tbody>\n",
       "</table>\n",
       "</div>"
      ],
      "text/plain": [
       "     id  price_A  price_B  price_C  rating_A  rating_B  rating_C  value_A  \\\n",
       "0  22.0    287.0    273.0    269.0       2.6       2.5       3.5     0.91   \n",
       "1   0.0      0.0      0.0      0.0       0.0       0.0       0.0     0.00   \n",
       "\n",
       "   value_B  value_C  \n",
       "0     0.92      1.3  \n",
       "1     0.00      0.0  "
      ]
     },
     "execution_count": 361,
     "metadata": {},
     "output_type": "execute_result"
    }
   ],
   "source": [
    "sample.head(3)"
   ]
  },
  {
   "cell_type": "markdown",
   "metadata": {},
   "source": [
    "***\n",
    "***"
   ]
  },
  {
   "cell_type": "markdown",
   "metadata": {},
   "source": [
    "### アルゴリズム５回目"
   ]
  },
  {
   "cell_type": "code",
   "execution_count": 362,
   "metadata": {},
   "outputs": [],
   "source": [
    "size_A = np.array(sample['price_A'])\n",
    "weight_A = np.array(sample['value_A'])\n",
    "capacity_A = o_price_a\n",
    "\n",
    "ids_a = Knapsack(size_A, weight_A, capacity_A,  obtained_price_A, )"
   ]
  },
  {
   "cell_type": "code",
   "execution_count": 363,
   "metadata": {},
   "outputs": [],
   "source": [
    "size_B = np.array(sample['price_B'])\n",
    "weight_B = np.array(sample['value_B'])\n",
    "capacity_B = o_price_b\n",
    "\n",
    "ids_b = Knapsack(size_B, weight_B, capacity_B,  obtained_price_B)"
   ]
  },
  {
   "cell_type": "code",
   "execution_count": 364,
   "metadata": {},
   "outputs": [],
   "source": [
    "size_C = np.array(sample['price_C'])\n",
    "weight_C = np.array(sample['value_C'])\n",
    "capacity_C = o_price_c\n",
    "\n",
    "ids_c = Knapsack(size_C, weight_C, capacity_C,  obtained_price_C)"
   ]
  },
  {
   "cell_type": "code",
   "execution_count": 365,
   "metadata": {},
   "outputs": [],
   "source": [
    "# 視聴率データのインデックス。\n",
    "ids = np.array(sample['id'].index)"
   ]
  },
  {
   "cell_type": "code",
   "execution_count": 366,
   "metadata": {},
   "outputs": [
    {
     "name": "stdout",
     "output_type": "stream",
     "text": [
      "1.0 個の枠: [0. 0.]\n",
      "0.0 個の枠: [-0.  0.]\n",
      "0.0 個の枠: [0. 0.]\n"
     ]
    }
   ],
   "source": [
    "# それぞれが選んだ枠のid『のindex』が選択されている。\n",
    "print(sum(ids_a),'個の枠:', ids_a * ids)\n",
    "print(sum(ids_b),'個の枠:', ids_b * ids)\n",
    "print(sum(ids_c),'個の枠:', ids_c * ids)"
   ]
  },
  {
   "cell_type": "code",
   "execution_count": 367,
   "metadata": {},
   "outputs": [],
   "source": [
    "# それぞれの枠を選択したクライアントの中から１つをランダムに選択する。\n",
    "ids_dict = dict()\n",
    "for i in ids:\n",
    "    values = []\n",
    "    if i in ids_a * ids:\n",
    "        values.append('a')\n",
    "    if i in ids_b * ids:\n",
    "        values.append('b')\n",
    "    if i in ids_c * ids:\n",
    "        values.append('c')\n",
    "    if values:\n",
    "        value = random.choice(values)\n",
    "        ids_dict[i] = value"
   ]
  },
  {
   "cell_type": "code",
   "execution_count": 368,
   "metadata": {},
   "outputs": [],
   "source": [
    "# クライアントごとに、取得することのできた枠のid『のindex』をリスト化する。\n",
    "a_add_ids = [ids for ids, client in ids_dict.items() if client == 'a']\n",
    "b_add_ids = [ids for ids, client in ids_dict.items() if client == 'b']\n",
    "c_add_ids = [ids for ids, client in ids_dict.items() if client == 'c']\n",
    "\n",
    "# それらの和集合（＝抜き出すもの）\n",
    "extraction_ids = a_add_ids + b_add_ids + c_add_ids"
   ]
  },
  {
   "cell_type": "code",
   "execution_count": 369,
   "metadata": {},
   "outputs": [
    {
     "name": "stdout",
     "output_type": "stream",
     "text": [
      "client_a: [0]\n",
      "client_b: []\n",
      "client_c: []\n"
     ]
    }
   ],
   "source": [
    "# 取得することのできた枠のid\n",
    "print(\"client_a:\", a_add_ids)\n",
    "print(\"client_b:\", b_add_ids)\n",
    "print(\"client_c:\", c_add_ids)"
   ]
  },
  {
   "cell_type": "code",
   "execution_count": 370,
   "metadata": {},
   "outputs": [],
   "source": [
    "# 取得した枠の値段を足す。\n",
    "obtained_price_A += sum(sample.query('index in ' + str(a_add_ids))['price_A'])\n",
    "obtained_price_B += sum(sample.query('index in ' + str(b_add_ids))['price_B'])\n",
    "obtained_price_C += sum(sample.query('index in ' + str(c_add_ids))['price_C'])"
   ]
  },
  {
   "cell_type": "code",
   "execution_count": 371,
   "metadata": {},
   "outputs": [],
   "source": [
    "# 取得した枠の視聴率を足す。\n",
    "obtained_point_A += sum(sample.query('index in ' + str(a_add_ids))['rating_A'])\n",
    "obtained_point_B += sum(sample.query('index in ' + str(b_add_ids))['rating_B'])\n",
    "obtained_point_C += sum(sample.query('index in ' + str(c_add_ids))['rating_C'])"
   ]
  },
  {
   "cell_type": "code",
   "execution_count": 372,
   "metadata": {},
   "outputs": [],
   "source": [
    "# 取得された枠を削除する。\n",
    "sample = sample.query('index not in ' + str(extraction_ids)).reset_index(drop=True)"
   ]
  },
  {
   "cell_type": "code",
   "execution_count": 373,
   "metadata": {
    "scrolled": true
   },
   "outputs": [
    {
     "name": "stdout",
     "output_type": "stream",
     "text": [
      "残りの枠: 1\n",
      "client_Aの合計価格: 6038.0 client_Aの合計視聴率 60.400000000000006\n",
      "client_Bの合計価格: 5906 client_Bの合計視聴率 61.9\n",
      "client_Cの合計価格: 7068 client_Cの合計視聴率 68.80000000000001\n"
     ]
    },
    {
     "data": {
      "text/html": [
       "<div>\n",
       "<style scoped>\n",
       "    .dataframe tbody tr th:only-of-type {\n",
       "        vertical-align: middle;\n",
       "    }\n",
       "\n",
       "    .dataframe tbody tr th {\n",
       "        vertical-align: top;\n",
       "    }\n",
       "\n",
       "    .dataframe thead th {\n",
       "        text-align: right;\n",
       "    }\n",
       "</style>\n",
       "<table border=\"1\" class=\"dataframe\">\n",
       "  <thead>\n",
       "    <tr style=\"text-align: right;\">\n",
       "      <th></th>\n",
       "      <th>id</th>\n",
       "      <th>price_A</th>\n",
       "      <th>price_B</th>\n",
       "      <th>price_C</th>\n",
       "      <th>rating_A</th>\n",
       "      <th>rating_B</th>\n",
       "      <th>rating_C</th>\n",
       "      <th>value_A</th>\n",
       "      <th>value_B</th>\n",
       "      <th>value_C</th>\n",
       "    </tr>\n",
       "  </thead>\n",
       "  <tbody>\n",
       "    <tr>\n",
       "      <th>0</th>\n",
       "      <td>0.0</td>\n",
       "      <td>0.0</td>\n",
       "      <td>0.0</td>\n",
       "      <td>0.0</td>\n",
       "      <td>0.0</td>\n",
       "      <td>0.0</td>\n",
       "      <td>0.0</td>\n",
       "      <td>0.0</td>\n",
       "      <td>0.0</td>\n",
       "      <td>0.0</td>\n",
       "    </tr>\n",
       "  </tbody>\n",
       "</table>\n",
       "</div>"
      ],
      "text/plain": [
       "    id  price_A  price_B  price_C  rating_A  rating_B  rating_C  value_A  \\\n",
       "0  0.0      0.0      0.0      0.0       0.0       0.0       0.0      0.0   \n",
       "\n",
       "   value_B  value_C  \n",
       "0      0.0      0.0  "
      ]
     },
     "metadata": {},
     "output_type": "display_data"
    }
   ],
   "source": [
    "print('残りの枠:', len(sample))\n",
    "print('client_Aの合計価格:', obtained_price_A, 'client_Aの合計視聴率', obtained_point_A)\n",
    "print('client_Bの合計価格:', obtained_price_B, 'client_Bの合計視聴率', obtained_point_B)\n",
    "print('client_Cの合計価格:', obtained_price_C, 'client_Cの合計視聴率', obtained_point_C)\n",
    "display(sample.head(3))"
   ]
  },
  {
   "cell_type": "markdown",
   "metadata": {},
   "source": [
    "***\n",
    "***"
   ]
  },
  {
   "cell_type": "code",
   "execution_count": 374,
   "metadata": {},
   "outputs": [
    {
     "data": {
      "text/html": [
       "<div>\n",
       "<style scoped>\n",
       "    .dataframe tbody tr th:only-of-type {\n",
       "        vertical-align: middle;\n",
       "    }\n",
       "\n",
       "    .dataframe tbody tr th {\n",
       "        vertical-align: top;\n",
       "    }\n",
       "\n",
       "    .dataframe thead th {\n",
       "        text-align: right;\n",
       "    }\n",
       "</style>\n",
       "<table border=\"1\" class=\"dataframe\">\n",
       "  <thead>\n",
       "    <tr style=\"text-align: right;\">\n",
       "      <th></th>\n",
       "      <th>id</th>\n",
       "      <th>price_A</th>\n",
       "      <th>price_B</th>\n",
       "      <th>price_C</th>\n",
       "      <th>rating_A</th>\n",
       "      <th>rating_B</th>\n",
       "      <th>rating_C</th>\n",
       "      <th>value_A</th>\n",
       "      <th>value_B</th>\n",
       "      <th>value_C</th>\n",
       "    </tr>\n",
       "  </thead>\n",
       "  <tbody>\n",
       "    <tr>\n",
       "      <th>0</th>\n",
       "      <td>True</td>\n",
       "      <td>True</td>\n",
       "      <td>True</td>\n",
       "      <td>True</td>\n",
       "      <td>True</td>\n",
       "      <td>True</td>\n",
       "      <td>True</td>\n",
       "      <td>True</td>\n",
       "      <td>True</td>\n",
       "      <td>True</td>\n",
       "    </tr>\n",
       "  </tbody>\n",
       "</table>\n",
       "</div>"
      ],
      "text/plain": [
       "     id  price_A  price_B  price_C  rating_A  rating_B  rating_C  value_A  \\\n",
       "0  True     True     True     True      True      True      True     True   \n",
       "\n",
       "   value_B  value_C  \n",
       "0     True     True  "
      ]
     },
     "execution_count": 374,
     "metadata": {},
     "output_type": "execute_result"
    }
   ],
   "source": [
    "# データフレーム先ほど足したものだけになったので、ここで終了にする。\n",
    "sample == add_df"
   ]
  },
  {
   "cell_type": "markdown",
   "metadata": {},
   "source": [
    "### ○問題点\n",
    "1. 合計の視聴率を最大にすることを目標にしていないこと。\n",
    "2. indexを利用した結果、0番目を選択していなくても値が同じになるため、選択したものと考えられてしまう。\n",
    "3. 視聴率和が元々の視聴率和を超えた段階でSTOPして良いと考えられる。"
   ]
  },
  {
   "cell_type": "code",
   "execution_count": null,
   "metadata": {},
   "outputs": [],
   "source": []
  }
 ],
 "metadata": {
  "kernelspec": {
   "display_name": "Python 3",
   "language": "python",
   "name": "python3"
  },
  "language_info": {
   "codemirror_mode": {
    "name": "ipython",
    "version": 3
   },
   "file_extension": ".py",
   "mimetype": "text/x-python",
   "name": "python",
   "nbconvert_exporter": "python",
   "pygments_lexer": "ipython3",
   "version": "3.6.4"
  }
 },
 "nbformat": 4,
 "nbformat_minor": 2
}

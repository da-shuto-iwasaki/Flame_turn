{
 "cells": [
  {
   "cell_type": "code",
   "execution_count": 1,
   "metadata": {},
   "outputs": [],
   "source": [
    "import cvxpy\n",
    "import random\n",
    "import numpy as np\n",
    "import pandas as pd"
   ]
  },
  {
   "cell_type": "code",
   "execution_count": 2,
   "metadata": {},
   "outputs": [],
   "source": [
    "# サンプルデータの読み込み\n",
    "sample = pd.read_csv('sample.csv')"
   ]
  },
  {
   "cell_type": "code",
   "execution_count": 3,
   "metadata": {
    "scrolled": true
   },
   "outputs": [
    {
     "data": {
      "text/html": [
       "<div>\n",
       "<style scoped>\n",
       "    .dataframe tbody tr th:only-of-type {\n",
       "        vertical-align: middle;\n",
       "    }\n",
       "\n",
       "    .dataframe tbody tr th {\n",
       "        vertical-align: top;\n",
       "    }\n",
       "\n",
       "    .dataframe thead th {\n",
       "        text-align: right;\n",
       "    }\n",
       "</style>\n",
       "<table border=\"1\" class=\"dataframe\">\n",
       "  <thead>\n",
       "    <tr style=\"text-align: right;\">\n",
       "      <th></th>\n",
       "      <th>id</th>\n",
       "      <th>price_A</th>\n",
       "      <th>price_B</th>\n",
       "      <th>price_C</th>\n",
       "      <th>rating_A</th>\n",
       "      <th>rating_B</th>\n",
       "      <th>rating_C</th>\n",
       "    </tr>\n",
       "  </thead>\n",
       "  <tbody>\n",
       "    <tr>\n",
       "      <th>0</th>\n",
       "      <td>1</td>\n",
       "      <td>380</td>\n",
       "      <td>385</td>\n",
       "      <td>389</td>\n",
       "      <td>4.1</td>\n",
       "      <td>3.3</td>\n",
       "      <td>4.0</td>\n",
       "    </tr>\n",
       "    <tr>\n",
       "      <th>1</th>\n",
       "      <td>2</td>\n",
       "      <td>943</td>\n",
       "      <td>947</td>\n",
       "      <td>961</td>\n",
       "      <td>10.1</td>\n",
       "      <td>8.9</td>\n",
       "      <td>9.3</td>\n",
       "    </tr>\n",
       "    <tr>\n",
       "      <th>2</th>\n",
       "      <td>3</td>\n",
       "      <td>980</td>\n",
       "      <td>980</td>\n",
       "      <td>987</td>\n",
       "      <td>10.4</td>\n",
       "      <td>8.7</td>\n",
       "      <td>10.3</td>\n",
       "    </tr>\n",
       "  </tbody>\n",
       "</table>\n",
       "</div>"
      ],
      "text/plain": [
       "   id  price_A  price_B  price_C  rating_A  rating_B  rating_C\n",
       "0   1      380      385      389       4.1       3.3       4.0\n",
       "1   2      943      947      961      10.1       8.9       9.3\n",
       "2   3      980      980      987      10.4       8.7      10.3"
      ]
     },
     "execution_count": 3,
     "metadata": {},
     "output_type": "execute_result"
    }
   ],
   "source": [
    "sample.head(3)"
   ]
  },
  {
   "cell_type": "code",
   "execution_count": 4,
   "metadata": {},
   "outputs": [],
   "source": [
    "# クライアトa, b, cの元々持っていた枠をランダムに決める。\n",
    "length = len(sample)\n",
    "ids = list(range(length))\n",
    "# idは1からなので、1を足す。\n",
    "random_ids = [id+1 for id in ids]\n",
    "\n",
    "# Break Point 1の略。\n",
    "bp1 = length//3 \n",
    "bp2 = length//3 + bp1\n",
    "\n",
    "random.shuffle(random_ids)\n",
    "a, b, c = random_ids[:bp1], random_ids[bp1:bp2], random_ids[bp2:]"
   ]
  },
  {
   "cell_type": "code",
   "execution_count": 5,
   "metadata": {},
   "outputs": [
    {
     "name": "stdout",
     "output_type": "stream",
     "text": [
      "[11, 16, 30, 1, 8, 15, 29, 23, 12, 17]\n",
      "[2, 22, 19, 13, 18, 10, 5, 24, 28, 7]\n",
      "[25, 3, 20, 27, 9, 6, 26, 21, 14, 4]\n"
     ]
    }
   ],
   "source": [
    "# それぞれのidを表示\n",
    "print(a)\n",
    "print(b)\n",
    "print(c)"
   ]
  },
  {
   "cell_type": "code",
   "execution_count": 6,
   "metadata": {},
   "outputs": [],
   "source": [
    "# それぞれのidのデータのみを取り出すための判別用カラム。\n",
    "sample['judge_a'] = sample['id'].apply(lambda x:x in a)\n",
    "sample['judge_b'] = sample['id'].apply(lambda x:x in b)\n",
    "sample['judge_c'] = sample['id'].apply(lambda x:x in c)"
   ]
  },
  {
   "cell_type": "code",
   "execution_count": 7,
   "metadata": {},
   "outputs": [],
   "source": [
    "# それぞれのidのデータを取得。\n",
    "df_a = sample[sample['judge_a']].loc[:, ['id','price_A', 'rating_A']]\n",
    "df_b = sample[sample['judge_b']].loc[:, ['id','price_B', 'rating_B']]\n",
    "df_c = sample[sample['judge_c']].loc[:, ['id','price_C', 'rating_C']]"
   ]
  },
  {
   "cell_type": "code",
   "execution_count": 8,
   "metadata": {},
   "outputs": [],
   "source": [
    "# 判別用カラムを削除。\n",
    "del sample['judge_a']\n",
    "del sample['judge_b']\n",
    "del sample['judge_c']"
   ]
  },
  {
   "cell_type": "code",
   "execution_count": 9,
   "metadata": {},
   "outputs": [],
   "source": [
    "# 元々の値段の総和、元々の視聴率の和を計算する。\n",
    "# Original price, Original point\n",
    "o_price_a, o_point_a = sum(df_a['price_A']), sum(df_a['rating_A'])\n",
    "o_price_b, o_point_b = sum(df_b['price_B']), sum(df_b['rating_B'])\n",
    "o_price_c, o_point_c = sum(df_c['price_C']), sum(df_c['rating_C'])"
   ]
  },
  {
   "cell_type": "code",
   "execution_count": 10,
   "metadata": {},
   "outputs": [],
   "source": [
    "# 獲得した枠のidを貯めておく。\n",
    "obtained_id_A = []\n",
    "obtained_id_B = []\n",
    "obtained_id_C = []"
   ]
  },
  {
   "cell_type": "code",
   "execution_count": 11,
   "metadata": {},
   "outputs": [],
   "source": [
    "# 獲得した枠の価格を貯めていく。\n",
    "obtained_price_A = 0\n",
    "obtained_price_B = 0\n",
    "obtained_price_C = 0"
   ]
  },
  {
   "cell_type": "code",
   "execution_count": 12,
   "metadata": {},
   "outputs": [],
   "source": [
    "# 獲得した枠の視聴率を貯めていく。\n",
    "obtained_point_A = 0\n",
    "obtained_point_B = 0\n",
    "obtained_point_C = 0"
   ]
  },
  {
   "cell_type": "code",
   "execution_count": 108,
   "metadata": {},
   "outputs": [],
   "source": [
    "# ここに結果を格納していき、何度も繰り返す。（視聴率和の合計値が'key'で、その時のidが'value'）\n",
    "result = dict()"
   ]
  },
  {
   "cell_type": "code",
   "execution_count": 13,
   "metadata": {},
   "outputs": [],
   "source": [
    "# 各クライアントの考える価値を数値化し、表に加える。\n",
    "# 指定した視聴率/そのクライアントの号数価格\n",
    "sample['value_A'] = round((sample['rating_A']/sample['price_A'])*1000, 2)\n",
    "sample['value_B'] = round((sample['rating_B']/sample['price_B'])*1000, 2)\n",
    "sample['value_C'] = round((sample['rating_C']/sample['price_C'])*1000, 2)"
   ]
  },
  {
   "cell_type": "code",
   "execution_count": 14,
   "metadata": {
    "scrolled": false
   },
   "outputs": [
    {
     "name": "stdout",
     "output_type": "stream",
     "text": [
      "client_Aの交換前の合計価格: 6520 client_Aの交換前の合計視聴率 65.0\n",
      "client_Bの交換前の合計価格: 6073 client_Bの交換前の合計視聴率 59.8\n",
      "client_Cの交換前の合計価格: 6417 client_Cの交換前の合計視聴率 64.39999999999999\n"
     ]
    },
    {
     "data": {
      "text/html": [
       "<div>\n",
       "<style scoped>\n",
       "    .dataframe tbody tr th:only-of-type {\n",
       "        vertical-align: middle;\n",
       "    }\n",
       "\n",
       "    .dataframe tbody tr th {\n",
       "        vertical-align: top;\n",
       "    }\n",
       "\n",
       "    .dataframe thead th {\n",
       "        text-align: right;\n",
       "    }\n",
       "</style>\n",
       "<table border=\"1\" class=\"dataframe\">\n",
       "  <thead>\n",
       "    <tr style=\"text-align: right;\">\n",
       "      <th></th>\n",
       "      <th>id</th>\n",
       "      <th>price_A</th>\n",
       "      <th>price_B</th>\n",
       "      <th>price_C</th>\n",
       "      <th>rating_A</th>\n",
       "      <th>rating_B</th>\n",
       "      <th>rating_C</th>\n",
       "      <th>value_A</th>\n",
       "      <th>value_B</th>\n",
       "      <th>value_C</th>\n",
       "    </tr>\n",
       "  </thead>\n",
       "  <tbody>\n",
       "    <tr>\n",
       "      <th>0</th>\n",
       "      <td>1</td>\n",
       "      <td>380</td>\n",
       "      <td>385</td>\n",
       "      <td>389</td>\n",
       "      <td>4.1</td>\n",
       "      <td>3.3</td>\n",
       "      <td>4.0</td>\n",
       "      <td>10.79</td>\n",
       "      <td>8.57</td>\n",
       "      <td>10.28</td>\n",
       "    </tr>\n",
       "    <tr>\n",
       "      <th>1</th>\n",
       "      <td>2</td>\n",
       "      <td>943</td>\n",
       "      <td>947</td>\n",
       "      <td>961</td>\n",
       "      <td>10.1</td>\n",
       "      <td>8.9</td>\n",
       "      <td>9.3</td>\n",
       "      <td>10.71</td>\n",
       "      <td>9.40</td>\n",
       "      <td>9.68</td>\n",
       "    </tr>\n",
       "    <tr>\n",
       "      <th>2</th>\n",
       "      <td>3</td>\n",
       "      <td>980</td>\n",
       "      <td>980</td>\n",
       "      <td>987</td>\n",
       "      <td>10.4</td>\n",
       "      <td>8.7</td>\n",
       "      <td>10.3</td>\n",
       "      <td>10.61</td>\n",
       "      <td>8.88</td>\n",
       "      <td>10.44</td>\n",
       "    </tr>\n",
       "  </tbody>\n",
       "</table>\n",
       "</div>"
      ],
      "text/plain": [
       "   id  price_A  price_B  price_C  rating_A  rating_B  rating_C  value_A  \\\n",
       "0   1      380      385      389       4.1       3.3       4.0    10.79   \n",
       "1   2      943      947      961      10.1       8.9       9.3    10.71   \n",
       "2   3      980      980      987      10.4       8.7      10.3    10.61   \n",
       "\n",
       "   value_B  value_C  \n",
       "0     8.57    10.28  \n",
       "1     9.40     9.68  \n",
       "2     8.88    10.44  "
      ]
     },
     "execution_count": 14,
     "metadata": {},
     "output_type": "execute_result"
    }
   ],
   "source": [
    "print('client_Aの交換前の合計価格:', o_price_a, 'client_Aの交換前の合計視聴率', o_point_a)\n",
    "print('client_Bの交換前の合計価格:', o_price_b, 'client_Bの交換前の合計視聴率', o_point_b)\n",
    "print('client_Cの交換前の合計価格:', o_price_c, 'client_Cの交換前の合計視聴率', o_point_c)\n",
    "sample.head(3)"
   ]
  },
  {
   "cell_type": "markdown",
   "metadata": {},
   "source": [
    "<b><font color='Red'>※valueは、基本的に正の数じゃないと、選ばなくなってしまう（０の方が大きいから。）</font></b>"
   ]
  },
  {
   "cell_type": "markdown",
   "metadata": {},
   "source": [
    "***\n",
    "***"
   ]
  },
  {
   "cell_type": "markdown",
   "metadata": {},
   "source": [
    "### 〜ここからアルゴリズム〜"
   ]
  },
  {
   "cell_type": "code",
   "execution_count": 15,
   "metadata": {
    "scrolled": true
   },
   "outputs": [],
   "source": [
    "# ナップザック問題。\n",
    "\n",
    "# size = 値段のデータ。\n",
    "# weight = 価値のデータ。\n",
    "# capacity = 元々の値段×1.05倍の値段。\n",
    "# ids = 取得すべきだと考えられた枠のid    \n",
    "\n",
    "def Knapsack(size, weight, capacity, obtained=0, rate=0.05):\n",
    "    # 価格が元の価格の1.05%を超えても、終わり。\n",
    "    if capacity*(1 + rate) - obtained > 0:        \n",
    "        x = cvxpy.Variable(size.shape[0], boolean=True)\n",
    "        # 要素の個数(これを加えて平均を最大化しないと、価格の小さいものばかりをとってしまう。)\n",
    "        count = sum(np.ones(len(size)) * x)\n",
    "        # 目的\n",
    "        objective = cvxpy.Maximize(weight * x / count)\n",
    "        # 制限。ここでは、capacity(価格)の上下5%を取っている。\n",
    "        constraints = [capacity*(1 + rate) -  obtained >= size * x]\n",
    "        constraints += [capacity*(1 - rate) - obtained <= size * x]\n",
    "\n",
    "        prob = cvxpy.Problem(objective, constraints)\n",
    "        prob.solve(solver=cvxpy.ECOS_BB)\n",
    "        result = [round(ix, 0) for ix in x.value]\n",
    "\n",
    "        return result\n",
    "    else:\n",
    "        return []"
   ]
  },
  {
   "cell_type": "code",
   "execution_count": 16,
   "metadata": {},
   "outputs": [],
   "source": [
    "size_A = np.array(sample['price_A'])\n",
    "weight_A = np.array(sample['value_A'])\n",
    "capacity_A = o_price_a\n",
    "\n",
    "if obtained_point_A < o_point_a:\n",
    "    # capacityの値を制約しすぎると、その値の枠に収まらなくなる可能性がある。\n",
    "    # その場合は、±の幅(rate)を大きくすれば良い。\n",
    "    ids_a = Knapsack(size_A, weight_A, capacity_A,  obtained_price_A, rate=0.1)\n",
    "else:\n",
    "    ids_a = [0 for i in range(len(size_A))]"
   ]
  },
  {
   "cell_type": "code",
   "execution_count": 17,
   "metadata": {},
   "outputs": [],
   "source": [
    "size_B = np.array(sample['price_B'])\n",
    "weight_B = np.array(sample['value_B'])\n",
    "capacity_B = o_price_b\n",
    "\n",
    "if obtained_point_B < o_point_b:\n",
    "    ids_b = Knapsack(size_B, weight_B, capacity_B,  obtained_price_B)\n",
    "else:\n",
    "    ids_b = [0 for i in range(len(size_B))]"
   ]
  },
  {
   "cell_type": "code",
   "execution_count": 18,
   "metadata": {},
   "outputs": [],
   "source": [
    "size_C = np.array(sample['price_C'])\n",
    "weight_C = np.array(sample['value_C'])\n",
    "capacity_C = o_price_c\n",
    "\n",
    "if obtained_point_C < o_point_c:\n",
    "    ids_c = Knapsack(size_C, weight_C, capacity_C,  obtained_price_C)\n",
    "else:\n",
    "    ids_c = [0 for i in range(len(size_C))]"
   ]
  },
  {
   "cell_type": "code",
   "execution_count": 19,
   "metadata": {},
   "outputs": [],
   "source": [
    "# 視聴率データのインデックス。\n",
    "# +1するのは、0だと選択しようがしまいが±0で値としては等しくなってしまうから。\n",
    "ids = np.array(sample['id'].index) + 1"
   ]
  },
  {
   "cell_type": "code",
   "execution_count": 20,
   "metadata": {},
   "outputs": [
    {
     "name": "stdout",
     "output_type": "stream",
     "text": [
      "6.0 個の枠: [-1.  1.  2. -1. -1. -1. -1. -1. -1. -1. -1. -1. -1. 13. -1. -1. 16. -1.\n",
      " -1. -1. -1. -1. -1. -1. -1. -1. -1. 27. 28. -1.]\n",
      "6.0 個の枠: [-1. -1.  2. -1.  4. -1. -1. -1. -1. -1. -1. -1. -1. 13. -1. -1. 16. -1.\n",
      " -1. -1. -1. -1. -1. -1. -1. -1. -1. 27. 28. -1.]\n",
      "6.0 個の枠: [-1.  1.  2. -1. -1. -1. -1. -1. -1. -1. -1. -1. -1. 13. -1. -1. 16. -1.\n",
      " -1. -1. -1. -1. -1. -1. -1. -1. -1. 27. 28. -1.]\n"
     ]
    }
   ],
   "source": [
    "# それぞれが選んだ枠のid『のindex(+1)』が選択されている。\n",
    "print(sum(ids_a),'個の枠:', ids_a * ids -1)\n",
    "print(sum(ids_b),'個の枠:', ids_b * ids -1)\n",
    "print(sum(ids_c),'個の枠:', ids_c * ids -1)"
   ]
  },
  {
   "cell_type": "code",
   "execution_count": 21,
   "metadata": {},
   "outputs": [],
   "source": [
    "# それぞれの枠を選択したクライアントの中から１つをランダムに選択する。\n",
    "ids_dict = dict()\n",
    "for i in ids-1:\n",
    "    values = []\n",
    "    if i in ids_a * ids -1:\n",
    "        values.append('a')\n",
    "    if i in ids_b * ids -1:\n",
    "        values.append('b')\n",
    "    if i in ids_c * ids -1:\n",
    "        values.append('c')\n",
    "    if values:\n",
    "        value = random.choice(values)\n",
    "        ids_dict[i] = value"
   ]
  },
  {
   "cell_type": "code",
   "execution_count": 22,
   "metadata": {},
   "outputs": [],
   "source": [
    "# クライアントごとに、取得することのできた枠のid『のindex』をリスト化する。\n",
    "a_add_ids = [ids for ids, client in ids_dict.items() if client == 'a']\n",
    "b_add_ids = [ids for ids, client in ids_dict.items() if client == 'b']\n",
    "c_add_ids = [ids for ids, client in ids_dict.items() if client == 'c']\n",
    "\n",
    "# それらの和集合（＝抜き出すもの）\n",
    "extraction_ids = a_add_ids + b_add_ids + c_add_ids"
   ]
  },
  {
   "cell_type": "code",
   "execution_count": 23,
   "metadata": {},
   "outputs": [
    {
     "name": "stdout",
     "output_type": "stream",
     "text": [
      "client_a: [1, 2, 16, 28]\n",
      "client_b: [4]\n",
      "client_c: [13, 27]\n"
     ]
    }
   ],
   "source": [
    "# 取得することのできた枠のid\n",
    "print(\"client_a:\", a_add_ids)\n",
    "print(\"client_b:\", b_add_ids)\n",
    "print(\"client_c:\", c_add_ids)"
   ]
  },
  {
   "cell_type": "code",
   "execution_count": 24,
   "metadata": {},
   "outputs": [],
   "source": [
    "# 取得した枠のidを足す。\n",
    "obtained_id_A += a_add_ids\n",
    "obtained_id_B += b_add_ids\n",
    "obtained_id_C += c_add_ids"
   ]
  },
  {
   "cell_type": "code",
   "execution_count": 25,
   "metadata": {},
   "outputs": [],
   "source": [
    "# 取得した枠の値段を足す。\n",
    "obtained_price_A += sum(sample.query('index in ' + str(a_add_ids))['price_A'])\n",
    "obtained_price_B += sum(sample.query('index in ' + str(b_add_ids))['price_B'])\n",
    "obtained_price_C += sum(sample.query('index in ' + str(c_add_ids))['price_C'])"
   ]
  },
  {
   "cell_type": "code",
   "execution_count": 26,
   "metadata": {},
   "outputs": [],
   "source": [
    "# 取得した枠の視聴率を足す。\n",
    "obtained_point_A += sum(sample.query('index in ' + str(a_add_ids))['rating_A'])\n",
    "obtained_point_B += sum(sample.query('index in ' + str(b_add_ids))['rating_B'])\n",
    "obtained_point_C += sum(sample.query('index in ' + str(c_add_ids))['rating_C'])"
   ]
  },
  {
   "cell_type": "code",
   "execution_count": 27,
   "metadata": {},
   "outputs": [],
   "source": [
    "# 取得された枠を削除する。\n",
    "sample = sample.query('index not in ' + str(extraction_ids)).reset_index(drop=True)"
   ]
  },
  {
   "cell_type": "code",
   "execution_count": 28,
   "metadata": {
    "scrolled": true
   },
   "outputs": [
    {
     "name": "stdout",
     "output_type": "stream",
     "text": [
      "残りの枠: 23\n",
      "client_Aの合計価格: 4253 client_Aの合計視聴率 44.1\n",
      "client_Bの合計価格: 149 client_Bの合計視聴率 1.5\n",
      "client_Cの合計価格: 2325 client_Cの合計視聴率 23.8\n"
     ]
    },
    {
     "data": {
      "text/html": [
       "<div>\n",
       "<style scoped>\n",
       "    .dataframe tbody tr th:only-of-type {\n",
       "        vertical-align: middle;\n",
       "    }\n",
       "\n",
       "    .dataframe tbody tr th {\n",
       "        vertical-align: top;\n",
       "    }\n",
       "\n",
       "    .dataframe thead th {\n",
       "        text-align: right;\n",
       "    }\n",
       "</style>\n",
       "<table border=\"1\" class=\"dataframe\">\n",
       "  <thead>\n",
       "    <tr style=\"text-align: right;\">\n",
       "      <th></th>\n",
       "      <th>id</th>\n",
       "      <th>price_A</th>\n",
       "      <th>price_B</th>\n",
       "      <th>price_C</th>\n",
       "      <th>rating_A</th>\n",
       "      <th>rating_B</th>\n",
       "      <th>rating_C</th>\n",
       "      <th>value_A</th>\n",
       "      <th>value_B</th>\n",
       "      <th>value_C</th>\n",
       "    </tr>\n",
       "  </thead>\n",
       "  <tbody>\n",
       "    <tr>\n",
       "      <th>0</th>\n",
       "      <td>1</td>\n",
       "      <td>380</td>\n",
       "      <td>385</td>\n",
       "      <td>389</td>\n",
       "      <td>4.1</td>\n",
       "      <td>3.3</td>\n",
       "      <td>4.0</td>\n",
       "      <td>10.79</td>\n",
       "      <td>8.57</td>\n",
       "      <td>10.28</td>\n",
       "    </tr>\n",
       "    <tr>\n",
       "      <th>1</th>\n",
       "      <td>4</td>\n",
       "      <td>217</td>\n",
       "      <td>237</td>\n",
       "      <td>227</td>\n",
       "      <td>2.3</td>\n",
       "      <td>1.9</td>\n",
       "      <td>2.3</td>\n",
       "      <td>10.60</td>\n",
       "      <td>8.02</td>\n",
       "      <td>10.13</td>\n",
       "    </tr>\n",
       "    <tr>\n",
       "      <th>2</th>\n",
       "      <td>6</td>\n",
       "      <td>137</td>\n",
       "      <td>155</td>\n",
       "      <td>152</td>\n",
       "      <td>1.4</td>\n",
       "      <td>1.4</td>\n",
       "      <td>1.3</td>\n",
       "      <td>10.22</td>\n",
       "      <td>9.03</td>\n",
       "      <td>8.55</td>\n",
       "    </tr>\n",
       "  </tbody>\n",
       "</table>\n",
       "</div>"
      ],
      "text/plain": [
       "   id  price_A  price_B  price_C  rating_A  rating_B  rating_C  value_A  \\\n",
       "0   1      380      385      389       4.1       3.3       4.0    10.79   \n",
       "1   4      217      237      227       2.3       1.9       2.3    10.60   \n",
       "2   6      137      155      152       1.4       1.4       1.3    10.22   \n",
       "\n",
       "   value_B  value_C  \n",
       "0     8.57    10.28  \n",
       "1     8.02    10.13  \n",
       "2     9.03     8.55  "
      ]
     },
     "metadata": {},
     "output_type": "display_data"
    },
    {
     "name": "stdout",
     "output_type": "stream",
     "text": [
      "client_Aの交換前の合計価格: 6520 client_Aの交換前の合計視聴率 65.0\n",
      "client_Bの交換前の合計価格: 6073 client_Bの交換前の合計視聴率 59.8\n",
      "client_Cの交換前の合計価格: 6417 client_Cの交換前の合計視聴率 64.39999999999999\n"
     ]
    }
   ],
   "source": [
    "print('残りの枠:', len(sample))\n",
    "print('client_Aの合計価格:', obtained_price_A, 'client_Aの合計視聴率', obtained_point_A)\n",
    "print('client_Bの合計価格:', obtained_price_B, 'client_Bの合計視聴率', obtained_point_B)\n",
    "print('client_Cの合計価格:', obtained_price_C, 'client_Cの合計視聴率', obtained_point_C)\n",
    "display(sample.head(3))\n",
    "print('client_Aの交換前の合計価格:', o_price_a, 'client_Aの交換前の合計視聴率', o_point_a)\n",
    "print('client_Bの交換前の合計価格:', o_price_b, 'client_Bの交換前の合計視聴率', o_point_b)\n",
    "print('client_Cの交換前の合計価格:', o_price_c, 'client_Cの交換前の合計視聴率', o_point_c)"
   ]
  },
  {
   "cell_type": "code",
   "execution_count": 29,
   "metadata": {},
   "outputs": [],
   "source": [
    "# データフレームの長さが1だとうまく動作しないので、追加する。\n",
    "if len(sample) == 1 and sample['id'][0] != 0:\n",
    "    add_df = pd.DataFrame(np.zeros(10)).T\n",
    "    add_df.columns = sample.columns\n",
    "    sample = pd.concat([sample, add_df]).reset_index(drop=True)\n",
    "\n",
    "# 上のプログラムの後にデータフレームの長さが1(=add_dfしか残っていない)なら、終了！！\n",
    "if len(sample) == 1:\n",
    "    print('finish!!!!')"
   ]
  },
  {
   "cell_type": "markdown",
   "metadata": {},
   "source": [
    "***\n",
    "***"
   ]
  },
  {
   "cell_type": "markdown",
   "metadata": {},
   "source": [
    "### アルゴリズム２回目"
   ]
  },
  {
   "cell_type": "code",
   "execution_count": 30,
   "metadata": {},
   "outputs": [],
   "source": [
    "size_A = np.array(sample['price_A'])\n",
    "weight_A = np.array(sample['value_A'])\n",
    "capacity_A = o_price_a\n",
    "\n",
    "if obtained_point_A < o_point_a:\n",
    "    ids_a = Knapsack(size_A, weight_A, capacity_A,  obtained_price_A)\n",
    "else:\n",
    "    ids_a = [0 for i in range(len(size_A))]"
   ]
  },
  {
   "cell_type": "code",
   "execution_count": 31,
   "metadata": {},
   "outputs": [],
   "source": [
    "size_B = np.array(sample['price_B'])\n",
    "weight_B = np.array(sample['value_B'])\n",
    "capacity_B = o_price_b\n",
    "\n",
    "if obtained_point_B < o_point_b:\n",
    "    ids_b = Knapsack(size_B, weight_B, capacity_B,  obtained_price_B, rate=0.1)\n",
    "else:\n",
    "    ids_b = [0 for i in range(len(size_B))]"
   ]
  },
  {
   "cell_type": "code",
   "execution_count": 32,
   "metadata": {},
   "outputs": [],
   "source": [
    "size_C = np.array(sample['price_C'])\n",
    "weight_C = np.array(sample['value_C'])\n",
    "capacity_C = o_price_c\n",
    "\n",
    "if obtained_point_C < o_point_c:\n",
    "    ids_c = Knapsack(size_C, weight_C, capacity_C,  obtained_price_C)\n",
    "else:\n",
    "    ids_c = [0 for i in range(len(size_C))]"
   ]
  },
  {
   "cell_type": "code",
   "execution_count": 33,
   "metadata": {},
   "outputs": [],
   "source": [
    "# 視聴率データのインデックス。\n",
    "# +1するのは、0だと選択しようがしまいが±0で値としては等しくなってしまうから。\n",
    "ids = np.array(sample['id'].index) + 1"
   ]
  },
  {
   "cell_type": "code",
   "execution_count": 34,
   "metadata": {},
   "outputs": [
    {
     "name": "stdout",
     "output_type": "stream",
     "text": [
      "3.0 個の枠: [-1. -1. -1. -1. -1.  5. -1. -1.  8. -1. -1. -1. -1. -1. -1. 15. -1. -1.\n",
      " -1. -1. -1. -1. -1.]\n",
      "8.0 個の枠: [-1. -1. -1.  3.  4.  5. -1.  7.  8. -1. -1. -1. -1. 13. -1. 15. -1. -1.\n",
      " -1. -1. 20. -1. -1.]\n",
      "5.0 個の枠: [-1. -1. -1.  3.  4.  5. -1. -1.  8. -1. -1. -1. -1. -1. -1. 15. -1. -1.\n",
      " -1. -1. -1. -1. -1.]\n"
     ]
    }
   ],
   "source": [
    "# それぞれが選んだ枠のid『のindex(+1)』が選択されている。\n",
    "print(sum(ids_a),'個の枠:', ids_a * ids -1)\n",
    "print(sum(ids_b),'個の枠:', ids_b * ids -1)\n",
    "print(sum(ids_c),'個の枠:', ids_c * ids -1)"
   ]
  },
  {
   "cell_type": "code",
   "execution_count": 35,
   "metadata": {},
   "outputs": [],
   "source": [
    "# それぞれの枠を選択したクライアントの中から１つをランダムに選択する。\n",
    "ids_dict = dict()\n",
    "for i in ids-1:\n",
    "    values = []\n",
    "    if i in ids_a * ids -1:\n",
    "        values.append('a')\n",
    "    if i in ids_b * ids -1:\n",
    "        values.append('b')\n",
    "    if i in ids_c * ids -1:\n",
    "        values.append('c')\n",
    "    if values:\n",
    "        value = random.choice(values)\n",
    "        ids_dict[i] = value"
   ]
  },
  {
   "cell_type": "code",
   "execution_count": 36,
   "metadata": {},
   "outputs": [],
   "source": [
    "# クライアントごとに、取得することのできた枠のid『のindex』をリスト化する。\n",
    "a_add_ids = [ids for ids, client in ids_dict.items() if client == 'a']\n",
    "b_add_ids = [ids for ids, client in ids_dict.items() if client == 'b']\n",
    "c_add_ids = [ids for ids, client in ids_dict.items() if client == 'c']\n",
    "\n",
    "# それらの和集合（＝抜き出すもの）\n",
    "extraction_ids = a_add_ids + b_add_ids + c_add_ids"
   ]
  },
  {
   "cell_type": "code",
   "execution_count": 37,
   "metadata": {},
   "outputs": [
    {
     "name": "stdout",
     "output_type": "stream",
     "text": [
      "client_a: []\n",
      "client_b: [3, 5, 7, 8, 13, 20]\n",
      "client_c: [4, 15]\n"
     ]
    }
   ],
   "source": [
    "# 取得することのできた枠のid\n",
    "print(\"client_a:\", a_add_ids)\n",
    "print(\"client_b:\", b_add_ids)\n",
    "print(\"client_c:\", c_add_ids)"
   ]
  },
  {
   "cell_type": "code",
   "execution_count": 38,
   "metadata": {},
   "outputs": [],
   "source": [
    "# 取得した枠のidを足す。\n",
    "obtained_id_A += a_add_ids\n",
    "obtained_id_B += b_add_ids\n",
    "obtained_id_C += c_add_ids"
   ]
  },
  {
   "cell_type": "code",
   "execution_count": 39,
   "metadata": {},
   "outputs": [],
   "source": [
    "# 取得した枠の値段を足す。\n",
    "obtained_price_A += sum(sample.query('index in ' + str(a_add_ids))['price_A'])\n",
    "obtained_price_B += sum(sample.query('index in ' + str(b_add_ids))['price_B'])\n",
    "obtained_price_C += sum(sample.query('index in ' + str(c_add_ids))['price_C'])"
   ]
  },
  {
   "cell_type": "code",
   "execution_count": 40,
   "metadata": {},
   "outputs": [],
   "source": [
    "# 取得した枠の視聴率を足す。\n",
    "obtained_point_A += sum(sample.query('index in ' + str(a_add_ids))['rating_A'])\n",
    "obtained_point_B += sum(sample.query('index in ' + str(b_add_ids))['rating_B'])\n",
    "obtained_point_C += sum(sample.query('index in ' + str(c_add_ids))['rating_C'])"
   ]
  },
  {
   "cell_type": "code",
   "execution_count": 41,
   "metadata": {},
   "outputs": [],
   "source": [
    "# 取得された枠を削除する。\n",
    "sample = sample.query('index not in ' + str(extraction_ids)).reset_index(drop=True)"
   ]
  },
  {
   "cell_type": "code",
   "execution_count": 42,
   "metadata": {
    "scrolled": false
   },
   "outputs": [
    {
     "name": "stdout",
     "output_type": "stream",
     "text": [
      "残りの枠: 15\n",
      "client_Aの合計価格: 4253 client_Aの合計視聴率 44.1\n",
      "client_Bの合計価格: 4548 client_Bの合計視聴率 46.800000000000004\n",
      "client_Cの合計価格: 4014 client_Cの合計視聴率 41.6\n"
     ]
    },
    {
     "data": {
      "text/html": [
       "<div>\n",
       "<style scoped>\n",
       "    .dataframe tbody tr th:only-of-type {\n",
       "        vertical-align: middle;\n",
       "    }\n",
       "\n",
       "    .dataframe tbody tr th {\n",
       "        vertical-align: top;\n",
       "    }\n",
       "\n",
       "    .dataframe thead th {\n",
       "        text-align: right;\n",
       "    }\n",
       "</style>\n",
       "<table border=\"1\" class=\"dataframe\">\n",
       "  <thead>\n",
       "    <tr style=\"text-align: right;\">\n",
       "      <th></th>\n",
       "      <th>id</th>\n",
       "      <th>price_A</th>\n",
       "      <th>price_B</th>\n",
       "      <th>price_C</th>\n",
       "      <th>rating_A</th>\n",
       "      <th>rating_B</th>\n",
       "      <th>rating_C</th>\n",
       "      <th>value_A</th>\n",
       "      <th>value_B</th>\n",
       "      <th>value_C</th>\n",
       "    </tr>\n",
       "  </thead>\n",
       "  <tbody>\n",
       "    <tr>\n",
       "      <th>0</th>\n",
       "      <td>1</td>\n",
       "      <td>380</td>\n",
       "      <td>385</td>\n",
       "      <td>389</td>\n",
       "      <td>4.1</td>\n",
       "      <td>3.3</td>\n",
       "      <td>4.0</td>\n",
       "      <td>10.79</td>\n",
       "      <td>8.57</td>\n",
       "      <td>10.28</td>\n",
       "    </tr>\n",
       "    <tr>\n",
       "      <th>1</th>\n",
       "      <td>4</td>\n",
       "      <td>217</td>\n",
       "      <td>237</td>\n",
       "      <td>227</td>\n",
       "      <td>2.3</td>\n",
       "      <td>1.9</td>\n",
       "      <td>2.3</td>\n",
       "      <td>10.60</td>\n",
       "      <td>8.02</td>\n",
       "      <td>10.13</td>\n",
       "    </tr>\n",
       "    <tr>\n",
       "      <th>2</th>\n",
       "      <td>6</td>\n",
       "      <td>137</td>\n",
       "      <td>155</td>\n",
       "      <td>152</td>\n",
       "      <td>1.4</td>\n",
       "      <td>1.4</td>\n",
       "      <td>1.3</td>\n",
       "      <td>10.22</td>\n",
       "      <td>9.03</td>\n",
       "      <td>8.55</td>\n",
       "    </tr>\n",
       "  </tbody>\n",
       "</table>\n",
       "</div>"
      ],
      "text/plain": [
       "   id  price_A  price_B  price_C  rating_A  rating_B  rating_C  value_A  \\\n",
       "0   1      380      385      389       4.1       3.3       4.0    10.79   \n",
       "1   4      217      237      227       2.3       1.9       2.3    10.60   \n",
       "2   6      137      155      152       1.4       1.4       1.3    10.22   \n",
       "\n",
       "   value_B  value_C  \n",
       "0     8.57    10.28  \n",
       "1     8.02    10.13  \n",
       "2     9.03     8.55  "
      ]
     },
     "metadata": {},
     "output_type": "display_data"
    },
    {
     "name": "stdout",
     "output_type": "stream",
     "text": [
      "client_Aの交換前の合計価格: 6520 client_Aの交換前の合計視聴率 65.0\n",
      "client_Bの交換前の合計価格: 6073 client_Bの交換前の合計視聴率 59.8\n",
      "client_Cの交換前の合計価格: 6417 client_Cの交換前の合計視聴率 64.39999999999999\n"
     ]
    }
   ],
   "source": [
    "print('残りの枠:', len(sample))\n",
    "print('client_Aの合計価格:', obtained_price_A, 'client_Aの合計視聴率', obtained_point_A)\n",
    "print('client_Bの合計価格:', obtained_price_B, 'client_Bの合計視聴率', obtained_point_B)\n",
    "print('client_Cの合計価格:', obtained_price_C, 'client_Cの合計視聴率', obtained_point_C)\n",
    "display(sample.head(3))\n",
    "print('client_Aの交換前の合計価格:', o_price_a, 'client_Aの交換前の合計視聴率', o_point_a)\n",
    "print('client_Bの交換前の合計価格:', o_price_b, 'client_Bの交換前の合計視聴率', o_point_b)\n",
    "print('client_Cの交換前の合計価格:', o_price_c, 'client_Cの交換前の合計視聴率', o_point_c)"
   ]
  },
  {
   "cell_type": "code",
   "execution_count": 43,
   "metadata": {},
   "outputs": [],
   "source": [
    "# データフレームの長さが1だとうまく動作しないので、追加する。\n",
    "if len(sample) == 1 and sample['id'][0] != 0:\n",
    "    add_df = pd.DataFrame(np.zeros(10)).T\n",
    "    add_df.columns = sample.columns\n",
    "    sample = pd.concat([sample, add_df]).reset_index(drop=True)\n",
    "\n",
    "# 上のプログラムの後にデータフレームの長さが1(=add_dfしか残っていない)なら、終了！！\n",
    "if len(sample) == 1:\n",
    "    print('finish!!!!')"
   ]
  },
  {
   "cell_type": "markdown",
   "metadata": {},
   "source": [
    "***\n",
    "***"
   ]
  },
  {
   "cell_type": "markdown",
   "metadata": {},
   "source": [
    "### アルゴリズム３回目"
   ]
  },
  {
   "cell_type": "code",
   "execution_count": 44,
   "metadata": {},
   "outputs": [],
   "source": [
    "size_A = np.array(sample['price_A'])\n",
    "weight_A = np.array(sample['value_A'])\n",
    "capacity_A = o_price_a\n",
    "\n",
    "if obtained_point_A < o_point_a:\n",
    "    ids_a = Knapsack(size_A, weight_A, capacity_A,  obtained_price_A)\n",
    "else:\n",
    "    ids_a = [0 for i in range(len(size_A))]"
   ]
  },
  {
   "cell_type": "code",
   "execution_count": 45,
   "metadata": {},
   "outputs": [],
   "source": [
    "size_B = np.array(sample['price_B'])\n",
    "weight_B = np.array(sample['value_B'])\n",
    "capacity_B = o_price_b\n",
    "\n",
    "if obtained_point_B < o_point_b:\n",
    "    ids_b = Knapsack(size_B, weight_B, capacity_B,  obtained_price_B)\n",
    "else:\n",
    "    ids_b = [0 for i in range(len(size_B))]"
   ]
  },
  {
   "cell_type": "code",
   "execution_count": 46,
   "metadata": {},
   "outputs": [],
   "source": [
    "size_C = np.array(sample['price_C'])\n",
    "weight_C = np.array(sample['value_C'])\n",
    "capacity_C = o_price_c\n",
    "\n",
    "if obtained_point_C < o_point_c:\n",
    "    ids_c = Knapsack(size_C, weight_C, capacity_C,  obtained_price_C)\n",
    "else:\n",
    "    ids_c = [0 for i in range(len(size_C))]"
   ]
  },
  {
   "cell_type": "code",
   "execution_count": 47,
   "metadata": {},
   "outputs": [],
   "source": [
    "# 視聴率データのインデックス。\n",
    "# +1するのは、0だと選択しようがしまいが±0で値としては等しくなってしまうから。\n",
    "ids = np.array(sample['id'].index) + 1"
   ]
  },
  {
   "cell_type": "code",
   "execution_count": 48,
   "metadata": {},
   "outputs": [
    {
     "name": "stdout",
     "output_type": "stream",
     "text": [
      "4.0 個の枠: [-1. -1. -1. -1.  4. -1. -1. -1. -1. -1. -1. 11. 12. -1. 14.]\n",
      "2.0 個の枠: [-1. -1. -1. -1.  4. -1. -1. -1. -1. -1. -1. 11. -1. -1. -1.]\n",
      "4.0 個の枠: [-1. -1. -1. -1.  4. -1. -1. -1. -1. -1. -1. 11. 12. -1. 14.]\n"
     ]
    }
   ],
   "source": [
    "# それぞれが選んだ枠のid『のindex(+1)』が選択されている。\n",
    "print(sum(ids_a),'個の枠:', ids_a * ids -1)\n",
    "print(sum(ids_b),'個の枠:', ids_b * ids -1)\n",
    "print(sum(ids_c),'個の枠:', ids_c * ids -1)"
   ]
  },
  {
   "cell_type": "code",
   "execution_count": 49,
   "metadata": {},
   "outputs": [],
   "source": [
    "# それぞれの枠を選択したクライアントの中から１つをランダムに選択する。\n",
    "ids_dict = dict()\n",
    "for i in ids-1:\n",
    "    values = []\n",
    "    if i in ids_a * ids -1:\n",
    "        values.append('a')\n",
    "    if i in ids_b * ids -1:\n",
    "        values.append('b')\n",
    "    if i in ids_c * ids -1:\n",
    "        values.append('c')\n",
    "    if values:\n",
    "        value = random.choice(values)\n",
    "        ids_dict[i] = value"
   ]
  },
  {
   "cell_type": "code",
   "execution_count": 50,
   "metadata": {},
   "outputs": [],
   "source": [
    "# クライアントごとに、取得することのできた枠のid『のindex』をリスト化する。\n",
    "a_add_ids = [ids for ids, client in ids_dict.items() if client == 'a']\n",
    "b_add_ids = [ids for ids, client in ids_dict.items() if client == 'b']\n",
    "c_add_ids = [ids for ids, client in ids_dict.items() if client == 'c']\n",
    "\n",
    "# それらの和集合（＝抜き出すもの）\n",
    "extraction_ids = a_add_ids + b_add_ids + c_add_ids"
   ]
  },
  {
   "cell_type": "code",
   "execution_count": 51,
   "metadata": {},
   "outputs": [
    {
     "name": "stdout",
     "output_type": "stream",
     "text": [
      "client_a: []\n",
      "client_b: [4, 11]\n",
      "client_c: [12, 14]\n"
     ]
    }
   ],
   "source": [
    "# 取得することのできた枠のid\n",
    "print(\"client_a:\", a_add_ids)\n",
    "print(\"client_b:\", b_add_ids)\n",
    "print(\"client_c:\", c_add_ids)"
   ]
  },
  {
   "cell_type": "code",
   "execution_count": 52,
   "metadata": {},
   "outputs": [],
   "source": [
    "# 取得した枠のidを足す。\n",
    "obtained_id_A += a_add_ids\n",
    "obtained_id_B += b_add_ids\n",
    "obtained_id_C += c_add_ids"
   ]
  },
  {
   "cell_type": "code",
   "execution_count": 53,
   "metadata": {},
   "outputs": [],
   "source": [
    "# 取得した枠の値段を足す。\n",
    "obtained_price_A += sum(sample.query('index in ' + str(a_add_ids))['price_A'])\n",
    "obtained_price_B += sum(sample.query('index in ' + str(b_add_ids))['price_B'])\n",
    "obtained_price_C += sum(sample.query('index in ' + str(c_add_ids))['price_C'])"
   ]
  },
  {
   "cell_type": "code",
   "execution_count": 54,
   "metadata": {},
   "outputs": [],
   "source": [
    "# 取得した枠の視聴率を足す。\n",
    "obtained_point_A += sum(sample.query('index in ' + str(a_add_ids))['rating_A'])\n",
    "obtained_point_B += sum(sample.query('index in ' + str(b_add_ids))['rating_B'])\n",
    "obtained_point_C += sum(sample.query('index in ' + str(c_add_ids))['rating_C'])"
   ]
  },
  {
   "cell_type": "code",
   "execution_count": 55,
   "metadata": {},
   "outputs": [],
   "source": [
    "# 取得された枠を削除する。\n",
    "sample = sample.query('index not in ' + str(extraction_ids)).reset_index(drop=True)"
   ]
  },
  {
   "cell_type": "code",
   "execution_count": 56,
   "metadata": {
    "scrolled": false
   },
   "outputs": [
    {
     "name": "stdout",
     "output_type": "stream",
     "text": [
      "残りの枠: 11\n",
      "client_Aの合計価格: 4253 client_Aの合計視聴率 44.1\n",
      "client_Bの合計価格: 5808 client_Bの合計視聴率 59.60000000000001\n",
      "client_Cの合計価格: 5212 client_Cの合計視聴率 53.2\n"
     ]
    },
    {
     "data": {
      "text/html": [
       "<div>\n",
       "<style scoped>\n",
       "    .dataframe tbody tr th:only-of-type {\n",
       "        vertical-align: middle;\n",
       "    }\n",
       "\n",
       "    .dataframe tbody tr th {\n",
       "        vertical-align: top;\n",
       "    }\n",
       "\n",
       "    .dataframe thead th {\n",
       "        text-align: right;\n",
       "    }\n",
       "</style>\n",
       "<table border=\"1\" class=\"dataframe\">\n",
       "  <thead>\n",
       "    <tr style=\"text-align: right;\">\n",
       "      <th></th>\n",
       "      <th>id</th>\n",
       "      <th>price_A</th>\n",
       "      <th>price_B</th>\n",
       "      <th>price_C</th>\n",
       "      <th>rating_A</th>\n",
       "      <th>rating_B</th>\n",
       "      <th>rating_C</th>\n",
       "      <th>value_A</th>\n",
       "      <th>value_B</th>\n",
       "      <th>value_C</th>\n",
       "    </tr>\n",
       "  </thead>\n",
       "  <tbody>\n",
       "    <tr>\n",
       "      <th>0</th>\n",
       "      <td>1</td>\n",
       "      <td>380</td>\n",
       "      <td>385</td>\n",
       "      <td>389</td>\n",
       "      <td>4.1</td>\n",
       "      <td>3.3</td>\n",
       "      <td>4.0</td>\n",
       "      <td>10.79</td>\n",
       "      <td>8.57</td>\n",
       "      <td>10.28</td>\n",
       "    </tr>\n",
       "    <tr>\n",
       "      <th>1</th>\n",
       "      <td>4</td>\n",
       "      <td>217</td>\n",
       "      <td>237</td>\n",
       "      <td>227</td>\n",
       "      <td>2.3</td>\n",
       "      <td>1.9</td>\n",
       "      <td>2.3</td>\n",
       "      <td>10.60</td>\n",
       "      <td>8.02</td>\n",
       "      <td>10.13</td>\n",
       "    </tr>\n",
       "    <tr>\n",
       "      <th>2</th>\n",
       "      <td>6</td>\n",
       "      <td>137</td>\n",
       "      <td>155</td>\n",
       "      <td>152</td>\n",
       "      <td>1.4</td>\n",
       "      <td>1.4</td>\n",
       "      <td>1.3</td>\n",
       "      <td>10.22</td>\n",
       "      <td>9.03</td>\n",
       "      <td>8.55</td>\n",
       "    </tr>\n",
       "  </tbody>\n",
       "</table>\n",
       "</div>"
      ],
      "text/plain": [
       "   id  price_A  price_B  price_C  rating_A  rating_B  rating_C  value_A  \\\n",
       "0   1      380      385      389       4.1       3.3       4.0    10.79   \n",
       "1   4      217      237      227       2.3       1.9       2.3    10.60   \n",
       "2   6      137      155      152       1.4       1.4       1.3    10.22   \n",
       "\n",
       "   value_B  value_C  \n",
       "0     8.57    10.28  \n",
       "1     8.02    10.13  \n",
       "2     9.03     8.55  "
      ]
     },
     "metadata": {},
     "output_type": "display_data"
    },
    {
     "name": "stdout",
     "output_type": "stream",
     "text": [
      "client_Aの交換前の合計価格: 6520 client_Aの交換前の合計視聴率 65.0\n",
      "client_Bの交換前の合計価格: 6073 client_Bの交換前の合計視聴率 59.8\n",
      "client_Cの交換前の合計価格: 6417 client_Cの交換前の合計視聴率 64.39999999999999\n"
     ]
    }
   ],
   "source": [
    "print('残りの枠:', len(sample))\n",
    "print('client_Aの合計価格:', obtained_price_A, 'client_Aの合計視聴率', obtained_point_A)\n",
    "print('client_Bの合計価格:', obtained_price_B, 'client_Bの合計視聴率', obtained_point_B)\n",
    "print('client_Cの合計価格:', obtained_price_C, 'client_Cの合計視聴率', obtained_point_C)\n",
    "display(sample.head(3))\n",
    "print('client_Aの交換前の合計価格:', o_price_a, 'client_Aの交換前の合計視聴率', o_point_a)\n",
    "print('client_Bの交換前の合計価格:', o_price_b, 'client_Bの交換前の合計視聴率', o_point_b)\n",
    "print('client_Cの交換前の合計価格:', o_price_c, 'client_Cの交換前の合計視聴率', o_point_c)"
   ]
  },
  {
   "cell_type": "code",
   "execution_count": 57,
   "metadata": {},
   "outputs": [],
   "source": [
    "# データフレームの長さが1だとうまく動作しないので、追加する。\n",
    "if len(sample) == 1 and sample['id'][0] != 0:\n",
    "    add_df = pd.DataFrame(np.zeros(10)).T\n",
    "    add_df.columns = sample.columns\n",
    "    sample = pd.concat([sample, add_df]).reset_index(drop=True)\n",
    "\n",
    "# 上のプログラムの後にデータフレームの長さが1(=add_dfしか残っていない)なら、終了！！\n",
    "if len(sample) == 1:\n",
    "    print('finish!!!!')"
   ]
  },
  {
   "cell_type": "markdown",
   "metadata": {},
   "source": [
    "***\n",
    "***"
   ]
  },
  {
   "cell_type": "markdown",
   "metadata": {},
   "source": [
    "### アルゴリズム４回目"
   ]
  },
  {
   "cell_type": "code",
   "execution_count": 58,
   "metadata": {},
   "outputs": [],
   "source": [
    "size_A = np.array(sample['price_A'])\n",
    "weight_A = np.array(sample['value_A'])\n",
    "capacity_A = o_price_a\n",
    "\n",
    "if obtained_point_A < o_point_a:\n",
    "    ids_a = Knapsack(size_A, weight_A, capacity_A,  obtained_price_A)\n",
    "else:\n",
    "    ids_a = [0 for i in range(len(size_A))]"
   ]
  },
  {
   "cell_type": "code",
   "execution_count": 59,
   "metadata": {},
   "outputs": [],
   "source": [
    "size_B = np.array(sample['price_B'])\n",
    "weight_B = np.array(sample['value_B'])\n",
    "capacity_B = o_price_b\n",
    "\n",
    "if obtained_point_B < o_point_b:\n",
    "    ids_b = Knapsack(size_B, weight_B, capacity_B,  obtained_price_B)\n",
    "else:\n",
    "    ids_b = [0 for i in range(len(size_B))]"
   ]
  },
  {
   "cell_type": "code",
   "execution_count": 60,
   "metadata": {},
   "outputs": [],
   "source": [
    "size_C = np.array(sample['price_C'])\n",
    "weight_C = np.array(sample['value_C'])\n",
    "capacity_C = o_price_c\n",
    "\n",
    "if obtained_point_C < o_point_c:\n",
    "    ids_c = Knapsack(size_C, weight_C, capacity_C,  obtained_price_C)\n",
    "else:\n",
    "    ids_c = [0 for i in range(len(size_C))]"
   ]
  },
  {
   "cell_type": "code",
   "execution_count": 61,
   "metadata": {},
   "outputs": [],
   "source": [
    "# 視聴率データのインデックス。\n",
    "# +1するのは、0だと選択しようがしまいが±0で値としては等しくなってしまうから。\n",
    "ids = np.array(sample['id'].index) + 1"
   ]
  },
  {
   "cell_type": "code",
   "execution_count": 62,
   "metadata": {},
   "outputs": [
    {
     "name": "stdout",
     "output_type": "stream",
     "text": [
      "6.0 個の枠: [ 0. -1. -1.  3. -1. -1.  6.  7. -1.  9. 10.]\n",
      "0.0 個の枠: [-1. -1. -1. -1. -1. -1. -1. -1. -1. -1. -1.]\n",
      "3.0 個の枠: [-1. -1. -1. -1. -1. -1.  6.  7. -1. -1. 10.]\n"
     ]
    }
   ],
   "source": [
    "# それぞれが選んだ枠のid『のindex(+1)』が選択されている。\n",
    "print(sum(ids_a),'個の枠:', ids_a * ids -1)\n",
    "print(sum(ids_b),'個の枠:', ids_b * ids -1)\n",
    "print(sum(ids_c),'個の枠:', ids_c * ids -1)"
   ]
  },
  {
   "cell_type": "code",
   "execution_count": 63,
   "metadata": {},
   "outputs": [],
   "source": [
    "# それぞれの枠を選択したクライアントの中から１つをランダムに選択する。\n",
    "ids_dict = dict()\n",
    "for i in ids-1:\n",
    "    values = []\n",
    "    if i in ids_a * ids -1:\n",
    "        values.append('a')\n",
    "    if i in ids_b * ids -1:\n",
    "        values.append('b')\n",
    "    if i in ids_c * ids -1:\n",
    "        values.append('c')\n",
    "    if values:\n",
    "        value = random.choice(values)\n",
    "        ids_dict[i] = value"
   ]
  },
  {
   "cell_type": "code",
   "execution_count": 64,
   "metadata": {},
   "outputs": [],
   "source": [
    "# クライアントごとに、取得することのできた枠のid『のindex』をリスト化する。\n",
    "a_add_ids = [ids for ids, client in ids_dict.items() if client == 'a']\n",
    "b_add_ids = [ids for ids, client in ids_dict.items() if client == 'b']\n",
    "c_add_ids = [ids for ids, client in ids_dict.items() if client == 'c']\n",
    "\n",
    "# それらの和集合（＝抜き出すもの）\n",
    "extraction_ids = a_add_ids + b_add_ids + c_add_ids"
   ]
  },
  {
   "cell_type": "code",
   "execution_count": 65,
   "metadata": {},
   "outputs": [
    {
     "name": "stdout",
     "output_type": "stream",
     "text": [
      "client_a: [0, 3, 9]\n",
      "client_b: []\n",
      "client_c: [6, 7, 10]\n"
     ]
    }
   ],
   "source": [
    "# 取得することのできた枠のid\n",
    "print(\"client_a:\", a_add_ids)\n",
    "print(\"client_b:\", b_add_ids)\n",
    "print(\"client_c:\", c_add_ids)"
   ]
  },
  {
   "cell_type": "code",
   "execution_count": 66,
   "metadata": {},
   "outputs": [],
   "source": [
    "# 取得した枠のidを足す。\n",
    "obtained_id_A += a_add_ids\n",
    "obtained_id_B += b_add_ids\n",
    "obtained_id_C += c_add_ids"
   ]
  },
  {
   "cell_type": "code",
   "execution_count": 67,
   "metadata": {},
   "outputs": [],
   "source": [
    "# 取得した枠の値段を足す。\n",
    "obtained_price_A += sum(sample.query('index in ' + str(a_add_ids))['price_A'])\n",
    "obtained_price_B += sum(sample.query('index in ' + str(b_add_ids))['price_B'])\n",
    "obtained_price_C += sum(sample.query('index in ' + str(c_add_ids))['price_C'])"
   ]
  },
  {
   "cell_type": "code",
   "execution_count": 68,
   "metadata": {},
   "outputs": [],
   "source": [
    "# 取得した枠の視聴率を足す。\n",
    "obtained_point_A += sum(sample.query('index in ' + str(a_add_ids))['rating_A'])\n",
    "obtained_point_B += sum(sample.query('index in ' + str(b_add_ids))['rating_B'])\n",
    "obtained_point_C += sum(sample.query('index in ' + str(c_add_ids))['rating_C'])"
   ]
  },
  {
   "cell_type": "code",
   "execution_count": 69,
   "metadata": {},
   "outputs": [],
   "source": [
    "# 取得された枠を削除する。\n",
    "sample = sample.query('index not in ' + str(extraction_ids)).reset_index(drop=True)"
   ]
  },
  {
   "cell_type": "code",
   "execution_count": 70,
   "metadata": {
    "scrolled": true
   },
   "outputs": [
    {
     "name": "stdout",
     "output_type": "stream",
     "text": [
      "残りの枠: 5\n",
      "client_Aの合計価格: 5343 client_Aの合計視聴率 55.7\n",
      "client_Bの合計価格: 5808 client_Bの合計視聴率 59.60000000000001\n",
      "client_Cの合計価格: 6631 client_Cの合計視聴率 66.0\n"
     ]
    },
    {
     "data": {
      "text/html": [
       "<div>\n",
       "<style scoped>\n",
       "    .dataframe tbody tr th:only-of-type {\n",
       "        vertical-align: middle;\n",
       "    }\n",
       "\n",
       "    .dataframe tbody tr th {\n",
       "        vertical-align: top;\n",
       "    }\n",
       "\n",
       "    .dataframe thead th {\n",
       "        text-align: right;\n",
       "    }\n",
       "</style>\n",
       "<table border=\"1\" class=\"dataframe\">\n",
       "  <thead>\n",
       "    <tr style=\"text-align: right;\">\n",
       "      <th></th>\n",
       "      <th>id</th>\n",
       "      <th>price_A</th>\n",
       "      <th>price_B</th>\n",
       "      <th>price_C</th>\n",
       "      <th>rating_A</th>\n",
       "      <th>rating_B</th>\n",
       "      <th>rating_C</th>\n",
       "      <th>value_A</th>\n",
       "      <th>value_B</th>\n",
       "      <th>value_C</th>\n",
       "    </tr>\n",
       "  </thead>\n",
       "  <tbody>\n",
       "    <tr>\n",
       "      <th>0</th>\n",
       "      <td>4</td>\n",
       "      <td>217</td>\n",
       "      <td>237</td>\n",
       "      <td>227</td>\n",
       "      <td>2.3</td>\n",
       "      <td>1.9</td>\n",
       "      <td>2.3</td>\n",
       "      <td>10.60</td>\n",
       "      <td>8.02</td>\n",
       "      <td>10.13</td>\n",
       "    </tr>\n",
       "    <tr>\n",
       "      <th>1</th>\n",
       "      <td>6</td>\n",
       "      <td>137</td>\n",
       "      <td>155</td>\n",
       "      <td>152</td>\n",
       "      <td>1.4</td>\n",
       "      <td>1.4</td>\n",
       "      <td>1.3</td>\n",
       "      <td>10.22</td>\n",
       "      <td>9.03</td>\n",
       "      <td>8.55</td>\n",
       "    </tr>\n",
       "    <tr>\n",
       "      <th>2</th>\n",
       "      <td>15</td>\n",
       "      <td>230</td>\n",
       "      <td>212</td>\n",
       "      <td>218</td>\n",
       "      <td>2.4</td>\n",
       "      <td>2.0</td>\n",
       "      <td>2.5</td>\n",
       "      <td>10.43</td>\n",
       "      <td>9.43</td>\n",
       "      <td>11.47</td>\n",
       "    </tr>\n",
       "  </tbody>\n",
       "</table>\n",
       "</div>"
      ],
      "text/plain": [
       "   id  price_A  price_B  price_C  rating_A  rating_B  rating_C  value_A  \\\n",
       "0   4      217      237      227       2.3       1.9       2.3    10.60   \n",
       "1   6      137      155      152       1.4       1.4       1.3    10.22   \n",
       "2  15      230      212      218       2.4       2.0       2.5    10.43   \n",
       "\n",
       "   value_B  value_C  \n",
       "0     8.02    10.13  \n",
       "1     9.03     8.55  \n",
       "2     9.43    11.47  "
      ]
     },
     "metadata": {},
     "output_type": "display_data"
    },
    {
     "name": "stdout",
     "output_type": "stream",
     "text": [
      "client_Aの交換前の合計価格: 6520 client_Aの交換前の合計視聴率 65.0\n",
      "client_Bの交換前の合計価格: 6073 client_Bの交換前の合計視聴率 59.8\n",
      "client_Cの交換前の合計価格: 6417 client_Cの交換前の合計視聴率 64.39999999999999\n"
     ]
    }
   ],
   "source": [
    "print('残りの枠:', len(sample))\n",
    "print('client_Aの合計価格:', obtained_price_A, 'client_Aの合計視聴率', obtained_point_A)\n",
    "print('client_Bの合計価格:', obtained_price_B, 'client_Bの合計視聴率', obtained_point_B)\n",
    "print('client_Cの合計価格:', obtained_price_C, 'client_Cの合計視聴率', obtained_point_C)\n",
    "display(sample.head(3))\n",
    "print('client_Aの交換前の合計価格:', o_price_a, 'client_Aの交換前の合計視聴率', o_point_a)\n",
    "print('client_Bの交換前の合計価格:', o_price_b, 'client_Bの交換前の合計視聴率', o_point_b)\n",
    "print('client_Cの交換前の合計価格:', o_price_c, 'client_Cの交換前の合計視聴率', o_point_c)"
   ]
  },
  {
   "cell_type": "code",
   "execution_count": 71,
   "metadata": {},
   "outputs": [],
   "source": [
    "# データフレームの長さが1だとうまく動作しないので、追加する。\n",
    "if len(sample) == 1 and sample['id'][0] != 0:\n",
    "    add_df = pd.DataFrame(np.zeros(10)).T\n",
    "    add_df.columns = sample.columns\n",
    "    sample = pd.concat([sample, add_df]).reset_index(drop=True)\n",
    "\n",
    "# 上のプログラムの後にデータフレームの長さが1(=add_dfしか残っていない)なら、終了！！\n",
    "if len(sample) == 1:\n",
    "    print('finish!!!!')"
   ]
  },
  {
   "cell_type": "markdown",
   "metadata": {},
   "source": [
    "***\n",
    "***"
   ]
  },
  {
   "cell_type": "markdown",
   "metadata": {},
   "source": [
    "### アルゴリズム５回目"
   ]
  },
  {
   "cell_type": "code",
   "execution_count": 72,
   "metadata": {},
   "outputs": [],
   "source": [
    "size_A = np.array(sample['price_A'])\n",
    "weight_A = np.array(sample['value_A'])\n",
    "capacity_A = o_price_a\n",
    "\n",
    "if obtained_point_A < o_point_a:\n",
    "    ids_a = Knapsack(size_A, weight_A, capacity_A,  obtained_price_A)\n",
    "else:\n",
    "    ids_a = [0 for i in range(len(size_A))]"
   ]
  },
  {
   "cell_type": "code",
   "execution_count": 73,
   "metadata": {},
   "outputs": [],
   "source": [
    "size_B = np.array(sample['price_B'])\n",
    "weight_B = np.array(sample['value_B'])\n",
    "capacity_B = o_price_b\n",
    "\n",
    "if obtained_point_B < o_point_b:\n",
    "    ids_b = Knapsack(size_B, weight_B, capacity_B,  obtained_price_B)\n",
    "else:\n",
    "    ids_b = [0 for i in range(len(size_B))]"
   ]
  },
  {
   "cell_type": "code",
   "execution_count": 74,
   "metadata": {},
   "outputs": [],
   "source": [
    "size_C = np.array(sample['price_C'])\n",
    "weight_C = np.array(sample['value_C'])\n",
    "capacity_C = o_price_c\n",
    "\n",
    "if obtained_point_C < o_point_c:\n",
    "    ids_c = Knapsack(size_C, weight_C, capacity_C,  obtained_price_C)\n",
    "else:\n",
    "    ids_c = [0 for i in range(len(size_C))]"
   ]
  },
  {
   "cell_type": "code",
   "execution_count": 75,
   "metadata": {},
   "outputs": [],
   "source": [
    "# 視聴率データのインデックス。\n",
    "# +1するのは、0だと選択しようがしまいが±0で値としては等しくなってしまうから。\n",
    "ids = np.array(sample['id'].index) + 1"
   ]
  },
  {
   "cell_type": "code",
   "execution_count": 76,
   "metadata": {},
   "outputs": [
    {
     "name": "stdout",
     "output_type": "stream",
     "text": [
      "4.0 個の枠: [ 0. -1.  2.  3.  4.]\n",
      "0.0 個の枠: [-1. -1. -1. -1. -1.]\n",
      "0 個の枠: [-1 -1 -1 -1 -1]\n"
     ]
    }
   ],
   "source": [
    "# それぞれが選んだ枠のid『のindex(+1)』が選択されている。\n",
    "print(sum(ids_a),'個の枠:', ids_a * ids -1)\n",
    "print(sum(ids_b),'個の枠:', ids_b * ids -1)\n",
    "print(sum(ids_c),'個の枠:', ids_c * ids -1)"
   ]
  },
  {
   "cell_type": "code",
   "execution_count": 77,
   "metadata": {},
   "outputs": [],
   "source": [
    "# それぞれの枠を選択したクライアントの中から１つをランダムに選択する。\n",
    "ids_dict = dict()\n",
    "for i in ids-1:\n",
    "    values = []\n",
    "    if i in ids_a * ids -1:\n",
    "        values.append('a')\n",
    "    if i in ids_b * ids -1:\n",
    "        values.append('b')\n",
    "    if i in ids_c * ids -1:\n",
    "        values.append('c')\n",
    "    if values:\n",
    "        value = random.choice(values)\n",
    "        ids_dict[i] = value"
   ]
  },
  {
   "cell_type": "code",
   "execution_count": 78,
   "metadata": {},
   "outputs": [],
   "source": [
    "# クライアントごとに、取得することのできた枠のid『のindex』をリスト化する。\n",
    "a_add_ids = [ids for ids, client in ids_dict.items() if client == 'a']\n",
    "b_add_ids = [ids for ids, client in ids_dict.items() if client == 'b']\n",
    "c_add_ids = [ids for ids, client in ids_dict.items() if client == 'c']\n",
    "\n",
    "# それらの和集合（＝抜き出すもの）\n",
    "extraction_ids = a_add_ids + b_add_ids + c_add_ids"
   ]
  },
  {
   "cell_type": "code",
   "execution_count": 79,
   "metadata": {},
   "outputs": [
    {
     "name": "stdout",
     "output_type": "stream",
     "text": [
      "client_a: [0, 2, 3, 4]\n",
      "client_b: []\n",
      "client_c: []\n"
     ]
    }
   ],
   "source": [
    "# 取得することのできた枠のid\n",
    "print(\"client_a:\", a_add_ids)\n",
    "print(\"client_b:\", b_add_ids)\n",
    "print(\"client_c:\", c_add_ids)"
   ]
  },
  {
   "cell_type": "code",
   "execution_count": 80,
   "metadata": {},
   "outputs": [],
   "source": [
    "# 取得した枠のidを足す。\n",
    "obtained_id_A += a_add_ids\n",
    "obtained_id_B += b_add_ids\n",
    "obtained_id_C += c_add_ids"
   ]
  },
  {
   "cell_type": "code",
   "execution_count": 81,
   "metadata": {},
   "outputs": [],
   "source": [
    "# 取得した枠の値段を足す。\n",
    "obtained_price_A += sum(sample.query('index in ' + str(a_add_ids))['price_A'])\n",
    "obtained_price_B += sum(sample.query('index in ' + str(b_add_ids))['price_B'])\n",
    "obtained_price_C += sum(sample.query('index in ' + str(c_add_ids))['price_C'])"
   ]
  },
  {
   "cell_type": "code",
   "execution_count": 82,
   "metadata": {},
   "outputs": [],
   "source": [
    "# 取得した枠の視聴率を足す。\n",
    "obtained_point_A += sum(sample.query('index in ' + str(a_add_ids))['rating_A'])\n",
    "obtained_point_B += sum(sample.query('index in ' + str(b_add_ids))['rating_B'])\n",
    "obtained_point_C += sum(sample.query('index in ' + str(c_add_ids))['rating_C'])"
   ]
  },
  {
   "cell_type": "code",
   "execution_count": 83,
   "metadata": {},
   "outputs": [],
   "source": [
    "# 取得された枠を削除する。\n",
    "sample = sample.query('index not in ' + str(extraction_ids)).reset_index(drop=True)"
   ]
  },
  {
   "cell_type": "code",
   "execution_count": 84,
   "metadata": {
    "scrolled": false
   },
   "outputs": [
    {
     "name": "stdout",
     "output_type": "stream",
     "text": [
      "残りの枠: 1\n",
      "client_Aの合計価格: 6410 client_Aの合計視聴率 66.0\n",
      "client_Bの合計価格: 5808 client_Bの合計視聴率 59.60000000000001\n",
      "client_Cの合計価格: 6631 client_Cの合計視聴率 66.0\n"
     ]
    },
    {
     "data": {
      "text/html": [
       "<div>\n",
       "<style scoped>\n",
       "    .dataframe tbody tr th:only-of-type {\n",
       "        vertical-align: middle;\n",
       "    }\n",
       "\n",
       "    .dataframe tbody tr th {\n",
       "        vertical-align: top;\n",
       "    }\n",
       "\n",
       "    .dataframe thead th {\n",
       "        text-align: right;\n",
       "    }\n",
       "</style>\n",
       "<table border=\"1\" class=\"dataframe\">\n",
       "  <thead>\n",
       "    <tr style=\"text-align: right;\">\n",
       "      <th></th>\n",
       "      <th>id</th>\n",
       "      <th>price_A</th>\n",
       "      <th>price_B</th>\n",
       "      <th>price_C</th>\n",
       "      <th>rating_A</th>\n",
       "      <th>rating_B</th>\n",
       "      <th>rating_C</th>\n",
       "      <th>value_A</th>\n",
       "      <th>value_B</th>\n",
       "      <th>value_C</th>\n",
       "    </tr>\n",
       "  </thead>\n",
       "  <tbody>\n",
       "    <tr>\n",
       "      <th>0</th>\n",
       "      <td>6</td>\n",
       "      <td>137</td>\n",
       "      <td>155</td>\n",
       "      <td>152</td>\n",
       "      <td>1.4</td>\n",
       "      <td>1.4</td>\n",
       "      <td>1.3</td>\n",
       "      <td>10.22</td>\n",
       "      <td>9.03</td>\n",
       "      <td>8.55</td>\n",
       "    </tr>\n",
       "  </tbody>\n",
       "</table>\n",
       "</div>"
      ],
      "text/plain": [
       "   id  price_A  price_B  price_C  rating_A  rating_B  rating_C  value_A  \\\n",
       "0   6      137      155      152       1.4       1.4       1.3    10.22   \n",
       "\n",
       "   value_B  value_C  \n",
       "0     9.03     8.55  "
      ]
     },
     "metadata": {},
     "output_type": "display_data"
    },
    {
     "name": "stdout",
     "output_type": "stream",
     "text": [
      "client_Aの交換前の合計価格: 6520 client_Aの交換前の合計視聴率 65.0\n",
      "client_Bの交換前の合計価格: 6073 client_Bの交換前の合計視聴率 59.8\n",
      "client_Cの交換前の合計価格: 6417 client_Cの交換前の合計視聴率 64.39999999999999\n"
     ]
    }
   ],
   "source": [
    "print('残りの枠:', len(sample))\n",
    "print('client_Aの合計価格:', obtained_price_A, 'client_Aの合計視聴率', obtained_point_A)\n",
    "print('client_Bの合計価格:', obtained_price_B, 'client_Bの合計視聴率', obtained_point_B)\n",
    "print('client_Cの合計価格:', obtained_price_C, 'client_Cの合計視聴率', obtained_point_C)\n",
    "display(sample.head(3))\n",
    "print('client_Aの交換前の合計価格:', o_price_a, 'client_Aの交換前の合計視聴率', o_point_a)\n",
    "print('client_Bの交換前の合計価格:', o_price_b, 'client_Bの交換前の合計視聴率', o_point_b)\n",
    "print('client_Cの交換前の合計価格:', o_price_c, 'client_Cの交換前の合計視聴率', o_point_c)"
   ]
  },
  {
   "cell_type": "code",
   "execution_count": 85,
   "metadata": {},
   "outputs": [],
   "source": [
    "# データフレームの長さが1だとうまく動作しないので、追加する。\n",
    "if len(sample) == 1 and sample['id'][0] != 0:\n",
    "    add_df = pd.DataFrame(np.zeros(10)).T\n",
    "    add_df.columns = sample.columns\n",
    "    sample = pd.concat([sample, add_df]).reset_index(drop=True)\n",
    "\n",
    "# 上のプログラムの後にデータフレームの長さが1(=add_dfしか残っていない)なら、終了！！\n",
    "if len(sample) == 1:\n",
    "    print('finish!!!!')"
   ]
  },
  {
   "cell_type": "markdown",
   "metadata": {},
   "source": [
    "***\n",
    "***"
   ]
  },
  {
   "cell_type": "markdown",
   "metadata": {},
   "source": [
    "### アルゴリズム６回目"
   ]
  },
  {
   "cell_type": "code",
   "execution_count": 86,
   "metadata": {},
   "outputs": [],
   "source": [
    "size_A = np.array(sample['price_A'])\n",
    "weight_A = np.array(sample['value_A'])\n",
    "capacity_A = o_price_a\n",
    "\n",
    "if obtained_point_A < o_point_a:\n",
    "    ids_a = Knapsack(size_A, weight_A, capacity_A,  obtained_price_A)\n",
    "else:\n",
    "    ids_a = [0 for i in range(len(size_A))]"
   ]
  },
  {
   "cell_type": "code",
   "execution_count": 87,
   "metadata": {},
   "outputs": [],
   "source": [
    "size_B = np.array(sample['price_B'])\n",
    "weight_B = np.array(sample['value_B'])\n",
    "capacity_B = o_price_b\n",
    "\n",
    "if obtained_point_B < o_point_b:\n",
    "    ids_b = Knapsack(size_B, weight_B, capacity_B,  obtained_price_B)\n",
    "else:\n",
    "    ids_b = [0 for i in range(len(size_B))]"
   ]
  },
  {
   "cell_type": "code",
   "execution_count": 88,
   "metadata": {},
   "outputs": [],
   "source": [
    "size_C = np.array(sample['price_C'])\n",
    "weight_C = np.array(sample['value_C'])\n",
    "capacity_C = o_price_c\n",
    "\n",
    "if obtained_point_C < o_point_c:\n",
    "    ids_c = Knapsack(size_C, weight_C, capacity_C,  obtained_price_C)\n",
    "else:\n",
    "    ids_c = [0 for i in range(len(size_C))]"
   ]
  },
  {
   "cell_type": "code",
   "execution_count": 89,
   "metadata": {},
   "outputs": [],
   "source": [
    "# 視聴率データのインデックス。\n",
    "# +1するのは、0だと選択しようがしまいが±0で値としては等しくなってしまうから。\n",
    "ids = np.array(sample['id'].index) + 1"
   ]
  },
  {
   "cell_type": "code",
   "execution_count": 90,
   "metadata": {},
   "outputs": [
    {
     "name": "stdout",
     "output_type": "stream",
     "text": [
      "0 個の枠: [-1 -1]\n",
      "1.0 個の枠: [ 0. -1.]\n",
      "0 個の枠: [-1 -1]\n"
     ]
    }
   ],
   "source": [
    "# それぞれが選んだ枠のid『のindex(+1)』が選択されている。\n",
    "print(sum(ids_a),'個の枠:', ids_a * ids -1)\n",
    "print(sum(ids_b),'個の枠:', ids_b * ids -1)\n",
    "print(sum(ids_c),'個の枠:', ids_c * ids -1)"
   ]
  },
  {
   "cell_type": "code",
   "execution_count": 91,
   "metadata": {},
   "outputs": [],
   "source": [
    "# それぞれの枠を選択したクライアントの中から１つをランダムに選択する。\n",
    "ids_dict = dict()\n",
    "for i in ids-1:\n",
    "    values = []\n",
    "    if i in ids_a * ids -1:\n",
    "        values.append('a')\n",
    "    if i in ids_b * ids -1:\n",
    "        values.append('b')\n",
    "    if i in ids_c * ids -1:\n",
    "        values.append('c')\n",
    "    if values:\n",
    "        value = random.choice(values)\n",
    "        ids_dict[i] = value"
   ]
  },
  {
   "cell_type": "code",
   "execution_count": 92,
   "metadata": {},
   "outputs": [],
   "source": [
    "# クライアントごとに、取得することのできた枠のid『のindex』をリスト化する。\n",
    "a_add_ids = [ids for ids, client in ids_dict.items() if client == 'a']\n",
    "b_add_ids = [ids for ids, client in ids_dict.items() if client == 'b']\n",
    "c_add_ids = [ids for ids, client in ids_dict.items() if client == 'c']\n",
    "\n",
    "# それらの和集合（＝抜き出すもの）\n",
    "extraction_ids = a_add_ids + b_add_ids + c_add_ids"
   ]
  },
  {
   "cell_type": "code",
   "execution_count": 93,
   "metadata": {},
   "outputs": [
    {
     "name": "stdout",
     "output_type": "stream",
     "text": [
      "client_a: []\n",
      "client_b: [0]\n",
      "client_c: []\n"
     ]
    }
   ],
   "source": [
    "# 取得することのできた枠のid\n",
    "print(\"client_a:\", a_add_ids)\n",
    "print(\"client_b:\", b_add_ids)\n",
    "print(\"client_c:\", c_add_ids)"
   ]
  },
  {
   "cell_type": "code",
   "execution_count": 94,
   "metadata": {},
   "outputs": [],
   "source": [
    "# 取得した枠のidを足す。\n",
    "obtained_id_A += a_add_ids\n",
    "obtained_id_B += b_add_ids\n",
    "obtained_id_C += c_add_ids"
   ]
  },
  {
   "cell_type": "code",
   "execution_count": 95,
   "metadata": {},
   "outputs": [],
   "source": [
    "# 取得した枠の値段を足す。\n",
    "obtained_price_A += sum(sample.query('index in ' + str(a_add_ids))['price_A'])\n",
    "obtained_price_B += sum(sample.query('index in ' + str(b_add_ids))['price_B'])\n",
    "obtained_price_C += sum(sample.query('index in ' + str(c_add_ids))['price_C'])"
   ]
  },
  {
   "cell_type": "code",
   "execution_count": 96,
   "metadata": {},
   "outputs": [],
   "source": [
    "# 取得した枠の視聴率を足す。\n",
    "obtained_point_A += sum(sample.query('index in ' + str(a_add_ids))['rating_A'])\n",
    "obtained_point_B += sum(sample.query('index in ' + str(b_add_ids))['rating_B'])\n",
    "obtained_point_C += sum(sample.query('index in ' + str(c_add_ids))['rating_C'])"
   ]
  },
  {
   "cell_type": "code",
   "execution_count": 97,
   "metadata": {},
   "outputs": [],
   "source": [
    "# 取得された枠を削除する。\n",
    "sample = sample.query('index not in ' + str(extraction_ids)).reset_index(drop=True)"
   ]
  },
  {
   "cell_type": "code",
   "execution_count": 98,
   "metadata": {
    "scrolled": false
   },
   "outputs": [
    {
     "name": "stdout",
     "output_type": "stream",
     "text": [
      "残りの枠: 1\n",
      "client_Aの合計価格: 6410 client_Aの合計視聴率 66.0\n",
      "client_Bの合計価格: 5963.0 client_Bの合計視聴率 61.00000000000001\n",
      "client_Cの合計価格: 6631 client_Cの合計視聴率 66.0\n"
     ]
    },
    {
     "data": {
      "text/html": [
       "<div>\n",
       "<style scoped>\n",
       "    .dataframe tbody tr th:only-of-type {\n",
       "        vertical-align: middle;\n",
       "    }\n",
       "\n",
       "    .dataframe tbody tr th {\n",
       "        vertical-align: top;\n",
       "    }\n",
       "\n",
       "    .dataframe thead th {\n",
       "        text-align: right;\n",
       "    }\n",
       "</style>\n",
       "<table border=\"1\" class=\"dataframe\">\n",
       "  <thead>\n",
       "    <tr style=\"text-align: right;\">\n",
       "      <th></th>\n",
       "      <th>id</th>\n",
       "      <th>price_A</th>\n",
       "      <th>price_B</th>\n",
       "      <th>price_C</th>\n",
       "      <th>rating_A</th>\n",
       "      <th>rating_B</th>\n",
       "      <th>rating_C</th>\n",
       "      <th>value_A</th>\n",
       "      <th>value_B</th>\n",
       "      <th>value_C</th>\n",
       "    </tr>\n",
       "  </thead>\n",
       "  <tbody>\n",
       "    <tr>\n",
       "      <th>0</th>\n",
       "      <td>0.0</td>\n",
       "      <td>0.0</td>\n",
       "      <td>0.0</td>\n",
       "      <td>0.0</td>\n",
       "      <td>0.0</td>\n",
       "      <td>0.0</td>\n",
       "      <td>0.0</td>\n",
       "      <td>0.0</td>\n",
       "      <td>0.0</td>\n",
       "      <td>0.0</td>\n",
       "    </tr>\n",
       "  </tbody>\n",
       "</table>\n",
       "</div>"
      ],
      "text/plain": [
       "    id  price_A  price_B  price_C  rating_A  rating_B  rating_C  value_A  \\\n",
       "0  0.0      0.0      0.0      0.0       0.0       0.0       0.0      0.0   \n",
       "\n",
       "   value_B  value_C  \n",
       "0      0.0      0.0  "
      ]
     },
     "metadata": {},
     "output_type": "display_data"
    },
    {
     "name": "stdout",
     "output_type": "stream",
     "text": [
      "client_Aの交換前の合計価格: 6520 client_Aの交換前の合計視聴率 65.0\n",
      "client_Bの交換前の合計価格: 6073 client_Bの交換前の合計視聴率 59.8\n",
      "client_Cの交換前の合計価格: 6417 client_Cの交換前の合計視聴率 64.39999999999999\n"
     ]
    }
   ],
   "source": [
    "print('残りの枠:', len(sample))\n",
    "print('client_Aの合計価格:', obtained_price_A, 'client_Aの合計視聴率', obtained_point_A)\n",
    "print('client_Bの合計価格:', obtained_price_B, 'client_Bの合計視聴率', obtained_point_B)\n",
    "print('client_Cの合計価格:', obtained_price_C, 'client_Cの合計視聴率', obtained_point_C)\n",
    "display(sample.head(3))\n",
    "print('client_Aの交換前の合計価格:', o_price_a, 'client_Aの交換前の合計視聴率', o_point_a)\n",
    "print('client_Bの交換前の合計価格:', o_price_b, 'client_Bの交換前の合計視聴率', o_point_b)\n",
    "print('client_Cの交換前の合計価格:', o_price_c, 'client_Cの交換前の合計視聴率', o_point_c)"
   ]
  },
  {
   "cell_type": "code",
   "execution_count": 99,
   "metadata": {
    "scrolled": true
   },
   "outputs": [
    {
     "name": "stdout",
     "output_type": "stream",
     "text": [
      "finish!!!!\n"
     ]
    }
   ],
   "source": [
    "# データフレームの長さが1だとうまく動作しないので、追加する。\n",
    "if len(sample) == 1 and sample['id'][0] != 0:\n",
    "    add_df = pd.DataFrame(np.zeros(10)).T\n",
    "    add_df.columns = sample.columns\n",
    "    sample = pd.concat([sample, add_df]).reset_index(drop=True)\n",
    "\n",
    "# 上のプログラムの後にデータフレームの長さが1(=add_dfしか残っていない)なら、終了！！\n",
    "if len(sample) == 1:\n",
    "    print('finish!!!!')"
   ]
  },
  {
   "cell_type": "markdown",
   "metadata": {},
   "source": [
    "***\n",
    "***\n",
    "***"
   ]
  },
  {
   "cell_type": "code",
   "execution_count": 126,
   "metadata": {},
   "outputs": [
    {
     "name": "stdout",
     "output_type": "stream",
     "text": [
      "Good Flame turn!!!\n"
     ]
    }
   ],
   "source": [
    "if obtained_point_A >o_point_a and obtained_point_B >o_point_b and obtained_point_C >o_point_c:\n",
    "    print('Good Flame turn!!!')\n",
    "    sum_point = obtained_point_A + obtained_point_B + obtained_point_C \n",
    "    result[sum_point] = [obtained_id_A, obtained_id_B, obtained_id_C]"
   ]
  },
  {
   "cell_type": "code",
   "execution_count": 119,
   "metadata": {},
   "outputs": [
    {
     "data": {
      "text/plain": [
       "{193.0: [[1, 2, 16, 28, 0, 3, 9, 0, 2, 3, 4],\n",
       "  [4, 3, 5, 7, 8, 13, 20, 4, 11, 0],\n",
       "  [13, 27, 4, 15, 12, 14, 6, 7, 10]]}"
      ]
     },
     "execution_count": 119,
     "metadata": {},
     "output_type": "execute_result"
    }
   ],
   "source": [
    "result"
   ]
  },
  {
   "cell_type": "markdown",
   "metadata": {},
   "source": [
    "### これを何度も繰り返すことにより、resultに値を格納していく。"
   ]
  },
  {
   "cell_type": "code",
   "execution_count": 125,
   "metadata": {},
   "outputs": [
    {
     "data": {
      "text/plain": [
       "[[1, 2, 16, 28, 0, 3, 9, 0, 2, 3, 4],\n",
       " [4, 3, 5, 7, 8, 13, 20, 4, 11, 0],\n",
       " [13, 27, 4, 15, 12, 14, 6, 7, 10]]"
      ]
     },
     "execution_count": 125,
     "metadata": {},
     "output_type": "execute_result"
    }
   ],
   "source": [
    "# 最も視聴率和を大きくした交換の仕方を求める。\n",
    "result[max(result.keys())]"
   ]
  },
  {
   "cell_type": "markdown",
   "metadata": {},
   "source": [
    "### プロトタイプは完成。あとはエラーの処理をし、アルゴリズム化する。"
   ]
  },
  {
   "cell_type": "code",
   "execution_count": null,
   "metadata": {},
   "outputs": [],
   "source": []
  }
 ],
 "metadata": {
  "kernelspec": {
   "display_name": "Python 3",
   "language": "python",
   "name": "python3"
  },
  "language_info": {
   "codemirror_mode": {
    "name": "ipython",
    "version": 3
   },
   "file_extension": ".py",
   "mimetype": "text/x-python",
   "name": "python",
   "nbconvert_exporter": "python",
   "pygments_lexer": "ipython3",
   "version": "3.6.4"
  }
 },
 "nbformat": 4,
 "nbformat_minor": 2
}

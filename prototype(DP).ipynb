{
 "cells": [
  {
   "cell_type": "markdown",
   "metadata": {},
   "source": [
    "## ○貪欲法＆動的計画法による複数ナップザック問題の近似解推定"
   ]
  },
  {
   "cell_type": "code",
   "execution_count": 1,
   "metadata": {},
   "outputs": [],
   "source": [
    "import time\n",
    "import cvxpy\n",
    "import random\n",
    "import numpy as np\n",
    "import pandas as pd"
   ]
  },
  {
   "cell_type": "code",
   "execution_count": 2,
   "metadata": {},
   "outputs": [],
   "source": [
    "# サンプルデータの読み込み\n",
    "df_sample = pd.read_csv('sample_3*30.csv', sep='\\t')"
   ]
  },
  {
   "cell_type": "code",
   "execution_count": 3,
   "metadata": {
    "scrolled": true
   },
   "outputs": [
    {
     "data": {
      "text/html": [
       "<div>\n",
       "<style scoped>\n",
       "    .dataframe tbody tr th:only-of-type {\n",
       "        vertical-align: middle;\n",
       "    }\n",
       "\n",
       "    .dataframe tbody tr th {\n",
       "        vertical-align: top;\n",
       "    }\n",
       "\n",
       "    .dataframe thead th {\n",
       "        text-align: right;\n",
       "    }\n",
       "</style>\n",
       "<table border=\"1\" class=\"dataframe\">\n",
       "  <thead>\n",
       "    <tr style=\"text-align: right;\">\n",
       "      <th></th>\n",
       "      <th>id</th>\n",
       "      <th>price_0</th>\n",
       "      <th>price_1</th>\n",
       "      <th>price_2</th>\n",
       "      <th>rating_0</th>\n",
       "      <th>rating_1</th>\n",
       "      <th>rating_2</th>\n",
       "    </tr>\n",
       "  </thead>\n",
       "  <tbody>\n",
       "    <tr>\n",
       "      <th>0</th>\n",
       "      <td>1</td>\n",
       "      <td>380</td>\n",
       "      <td>385</td>\n",
       "      <td>389</td>\n",
       "      <td>4.1</td>\n",
       "      <td>3.3</td>\n",
       "      <td>4.0</td>\n",
       "    </tr>\n",
       "    <tr>\n",
       "      <th>1</th>\n",
       "      <td>2</td>\n",
       "      <td>943</td>\n",
       "      <td>947</td>\n",
       "      <td>961</td>\n",
       "      <td>10.1</td>\n",
       "      <td>8.9</td>\n",
       "      <td>9.3</td>\n",
       "    </tr>\n",
       "    <tr>\n",
       "      <th>2</th>\n",
       "      <td>3</td>\n",
       "      <td>980</td>\n",
       "      <td>980</td>\n",
       "      <td>987</td>\n",
       "      <td>10.4</td>\n",
       "      <td>8.7</td>\n",
       "      <td>10.3</td>\n",
       "    </tr>\n",
       "  </tbody>\n",
       "</table>\n",
       "</div>"
      ],
      "text/plain": [
       "   id  price_0  price_1  price_2  rating_0  rating_1  rating_2\n",
       "0   1      380      385      389       4.1       3.3       4.0\n",
       "1   2      943      947      961      10.1       8.9       9.3\n",
       "2   3      980      980      987      10.4       8.7      10.3"
      ]
     },
     "execution_count": 3,
     "metadata": {},
     "output_type": "execute_result"
    }
   ],
   "source": [
    "df_sample.head(3)"
   ]
  },
  {
   "cell_type": "code",
   "execution_count": 4,
   "metadata": {},
   "outputs": [],
   "source": [
    "# clientの数。\n",
    "client_num = int((len(df_sample.columns)-1)/2)"
   ]
  },
  {
   "cell_type": "code",
   "execution_count": 5,
   "metadata": {
    "scrolled": false
   },
   "outputs": [
    {
     "data": {
      "text/html": [
       "<div>\n",
       "<style scoped>\n",
       "    .dataframe tbody tr th:only-of-type {\n",
       "        vertical-align: middle;\n",
       "    }\n",
       "\n",
       "    .dataframe tbody tr th {\n",
       "        vertical-align: top;\n",
       "    }\n",
       "\n",
       "    .dataframe thead th {\n",
       "        text-align: right;\n",
       "    }\n",
       "</style>\n",
       "<table border=\"1\" class=\"dataframe\">\n",
       "  <thead>\n",
       "    <tr style=\"text-align: right;\">\n",
       "      <th></th>\n",
       "      <th>id</th>\n",
       "      <th>price_0</th>\n",
       "      <th>price_1</th>\n",
       "      <th>price_2</th>\n",
       "      <th>rating_0</th>\n",
       "      <th>rating_1</th>\n",
       "      <th>rating_2</th>\n",
       "    </tr>\n",
       "  </thead>\n",
       "  <tbody>\n",
       "    <tr>\n",
       "      <th>0</th>\n",
       "      <td>17</td>\n",
       "      <td>1093</td>\n",
       "      <td>1082</td>\n",
       "      <td>1105</td>\n",
       "      <td>10.5</td>\n",
       "      <td>10.6</td>\n",
       "      <td>11.7</td>\n",
       "    </tr>\n",
       "    <tr>\n",
       "      <th>1</th>\n",
       "      <td>13</td>\n",
       "      <td>607</td>\n",
       "      <td>627</td>\n",
       "      <td>608</td>\n",
       "      <td>6.1</td>\n",
       "      <td>7.0</td>\n",
       "      <td>5.1</td>\n",
       "    </tr>\n",
       "    <tr>\n",
       "      <th>2</th>\n",
       "      <td>20</td>\n",
       "      <td>417</td>\n",
       "      <td>422</td>\n",
       "      <td>418</td>\n",
       "      <td>3.5</td>\n",
       "      <td>5.9</td>\n",
       "      <td>3.1</td>\n",
       "    </tr>\n",
       "  </tbody>\n",
       "</table>\n",
       "</div>"
      ],
      "text/plain": [
       "   id  price_0  price_1  price_2  rating_0  rating_1  rating_2\n",
       "0  17     1093     1082     1105      10.5      10.6      11.7\n",
       "1  13      607      627      608       6.1       7.0       5.1\n",
       "2  20      417      422      418       3.5       5.9       3.1"
      ]
     },
     "execution_count": 5,
     "metadata": {},
     "output_type": "execute_result"
    }
   ],
   "source": [
    "# 初めにクライアントが持っていた枠をランダムに決める（別のデータに対応できるかを見るため。）\n",
    "sample = df_sample.sample(frac=1).reset_index(drop=True)\n",
    "sample.head(3)"
   ]
  },
  {
   "cell_type": "code",
   "execution_count": 6,
   "metadata": {},
   "outputs": [],
   "source": [
    "# クライアト0, 1, 2の元々持っていた枠をランダムに決める。\n",
    "length = len(sample) # データフレームの長さ\n",
    "bps = [0 for i in range(client_num+1)] # Break Points\n",
    "bp = 0\n",
    "original_prices = [0 for i in range(client_num)] # 元々持っていた枠の価格和。\n",
    "original_points = [0 for i in range(client_num)] # 元々持っていた枠の視聴率和。\n",
    "\n",
    "for i in range(client_num):\n",
    "    bp += length//client_num\n",
    "    bps[i+1] = bp\n",
    "    df_original = sample[bps[i]:bps[i+1]]\n",
    "    original_prices[i] = sum(df_original['price_' + str(i)]) # 価格の和。\n",
    "    original_points[i] = sum(df_original['rating_' + str(i)]) # 視聴率の和。"
   ]
  },
  {
   "cell_type": "code",
   "execution_count": 7,
   "metadata": {},
   "outputs": [
    {
     "name": "stdout",
     "output_type": "stream",
     "text": [
      "[6541, 6157, 6329]\n",
      "[63.0, 59.49999999999999, 65.2]\n"
     ]
    }
   ],
   "source": [
    "print(original_prices) # 元々持っていた枠の価格和。\n",
    "print(original_points) # 元々持っていた枠の視聴率和。"
   ]
  },
  {
   "cell_type": "markdown",
   "metadata": {},
   "source": [
    "***\n",
    "***"
   ]
  },
  {
   "cell_type": "markdown",
   "metadata": {},
   "source": [
    "### 〜ここからナップザック問題（貪欲法のアプローチ）のアルゴリズム〜"
   ]
  },
  {
   "cell_type": "code",
   "execution_count": 8,
   "metadata": {},
   "outputs": [
    {
     "data": {
      "text/plain": [
       "False"
      ]
     },
     "execution_count": 8,
     "metadata": {},
     "output_type": "execute_result"
    }
   ],
   "source": [
    "# 必要な視聴率和(=元々持っていた視聴率和)\n",
    "require_ratings = list(original_points) # 参照してしまうことを避けるため。\n",
    "id(require_ratings) == id(original_points)"
   ]
  },
  {
   "cell_type": "code",
   "execution_count": 9,
   "metadata": {},
   "outputs": [
    {
     "data": {
      "text/html": [
       "<div>\n",
       "<style scoped>\n",
       "    .dataframe tbody tr th:only-of-type {\n",
       "        vertical-align: middle;\n",
       "    }\n",
       "\n",
       "    .dataframe tbody tr th {\n",
       "        vertical-align: top;\n",
       "    }\n",
       "\n",
       "    .dataframe thead th {\n",
       "        text-align: right;\n",
       "    }\n",
       "</style>\n",
       "<table border=\"1\" class=\"dataframe\">\n",
       "  <thead>\n",
       "    <tr style=\"text-align: right;\">\n",
       "      <th></th>\n",
       "      <th>id</th>\n",
       "      <th>price_0</th>\n",
       "      <th>price_1</th>\n",
       "      <th>price_2</th>\n",
       "      <th>rating_0</th>\n",
       "      <th>rating_1</th>\n",
       "      <th>rating_2</th>\n",
       "      <th>value_0</th>\n",
       "      <th>value_1</th>\n",
       "      <th>value_2</th>\n",
       "    </tr>\n",
       "  </thead>\n",
       "  <tbody>\n",
       "    <tr>\n",
       "      <th>0</th>\n",
       "      <td>1</td>\n",
       "      <td>380</td>\n",
       "      <td>385</td>\n",
       "      <td>389</td>\n",
       "      <td>4.1</td>\n",
       "      <td>3.3</td>\n",
       "      <td>4.0</td>\n",
       "      <td>0.010789</td>\n",
       "      <td>0.008571</td>\n",
       "      <td>0.010283</td>\n",
       "    </tr>\n",
       "    <tr>\n",
       "      <th>1</th>\n",
       "      <td>2</td>\n",
       "      <td>943</td>\n",
       "      <td>947</td>\n",
       "      <td>961</td>\n",
       "      <td>10.1</td>\n",
       "      <td>8.9</td>\n",
       "      <td>9.3</td>\n",
       "      <td>0.010710</td>\n",
       "      <td>0.009398</td>\n",
       "      <td>0.009677</td>\n",
       "    </tr>\n",
       "    <tr>\n",
       "      <th>2</th>\n",
       "      <td>3</td>\n",
       "      <td>980</td>\n",
       "      <td>980</td>\n",
       "      <td>987</td>\n",
       "      <td>10.4</td>\n",
       "      <td>8.7</td>\n",
       "      <td>10.3</td>\n",
       "      <td>0.010612</td>\n",
       "      <td>0.008878</td>\n",
       "      <td>0.010436</td>\n",
       "    </tr>\n",
       "  </tbody>\n",
       "</table>\n",
       "</div>"
      ],
      "text/plain": [
       "   id  price_0  price_1  price_2  rating_0  rating_1  rating_2   value_0  \\\n",
       "0   1      380      385      389       4.1       3.3       4.0  0.010789   \n",
       "1   2      943      947      961      10.1       8.9       9.3  0.010710   \n",
       "2   3      980      980      987      10.4       8.7      10.3  0.010612   \n",
       "\n",
       "    value_1   value_2  \n",
       "0  0.008571  0.010283  \n",
       "1  0.009398  0.009677  \n",
       "2  0.008878  0.010436  "
      ]
     },
     "execution_count": 9,
     "metadata": {},
     "output_type": "execute_result"
    }
   ],
   "source": [
    "# value=「視聴率/号数（価格）」を求める。(これを比較して、貪欲に取り出す。)\n",
    "for i in range(client_num):\n",
    "    df_sample['value_'+str(i)] = df_sample['rating_'+str(i)]/df_sample['price_'+str(i)]\n",
    "\n",
    "# valueができていることの確認。\n",
    "df_sample.head(3)"
   ]
  },
  {
   "cell_type": "markdown",
   "metadata": {},
   "source": [
    "<b><font color='Red'>※valueは、正の数じゃなくても良い（単なる大きさ比較だから。）</font>\n",
    "    <br>しかし、余ったものをナップザック問題で解くので、そこでは正の数でないといけない。（０の方が大きいから。）\n",
    "    <br>とはいえ、価格、視聴率のどちらかが負の数になることは考えにくいため、意識するる必要はなさげ。</b>"
   ]
  },
  {
   "cell_type": "code",
   "execution_count": 10,
   "metadata": {},
   "outputs": [],
   "source": [
    "def Greedy_optimizer(df, require_ratings, num):\n",
    "    check_point=0 # 目的を達成した（元々の視聴率和を超えた）クライアントの数。\n",
    "    require_points = list(require_ratings) # 元のリストが変わらないようにする。\n",
    "    df = df.copy() # 元のデータフレームが変わらないようにする。\n",
    "    \n",
    "    value_col_names = ['value_'+str(i) for i in range(num)] # valueのカラム名（ここから目的を達成したクライアントを取り除いていく。）\n",
    "    get_ids = dict() # 獲得した枠のidを格納する。\n",
    "    for i in range(num):\n",
    "        get_ids[i] = []\n",
    "    \n",
    "    while check_point < num:\n",
    "        df['Max_value'] = df.loc[:, value_col_names].max(axis=1) # (残っている)クライアントの価値の中で最も高い値。\n",
    "        df['Max_value_client'] = df.loc[:, value_col_names].idxmax(axis=1).apply(lambda x:x.replace('value_', '')) # 最も高い価値をつけているクライアントの名前。\n",
    "        df = df.sort_values(by='Max_value', ascending=False).reset_index(drop=True) # その価値でソートする。\n",
    "        \n",
    "        for i in range(len(df)):\n",
    "            name = int(df.iat[0, -1]) # 最も高い値をつけているクライアントの名前。\n",
    "            require_points[name] -= df.at[0, 'rating_'+str(name)] # 必要な視聴率和からその枠の視聴率を引く。\n",
    "            get_ids[name] += [df.iat[0, 0]] # 獲得した枠のidを記録する。\n",
    "            df = df[1:].reset_index(drop=True) # dfを下っていく。\n",
    "            if min(require_points) < 0: # どこかのクライアントが、目的を達成したら、一回終わり。\n",
    "                break\n",
    "\n",
    "        min_client = require_points.index(min(require_points)) # 目的を達成したクライアント名。（番号）\n",
    "        require_points[min_client] = 0 # 目的を達成したら、0にする。（今後のため。）\n",
    "        drop_col_name = ['price_'+str(min_client), 'rating_'+str(min_client), 'value_'+str(min_client)]\n",
    "        value_col_names.remove(drop_col_name[-1]) # 目的を達成したクライアントは、除く。\n",
    "\n",
    "        check_point += 1 # チェックポイント＝目的を達成したクライアントの数。\n",
    "            \n",
    "    return list(get_ids.values())"
   ]
  },
  {
   "cell_type": "code",
   "execution_count": 11,
   "metadata": {},
   "outputs": [],
   "source": [
    "# 2重のリストをフラットにする関数(重複は残る！)\n",
    "def Flatten_dual(nested_list):\n",
    "    return [e for inner_list in nested_list for e in inner_list]"
   ]
  },
  {
   "cell_type": "code",
   "execution_count": 12,
   "metadata": {
    "scrolled": false
   },
   "outputs": [
    {
     "name": "stdout",
     "output_type": "stream",
     "text": [
      "******************** 貪欲法によるナップザック問題の解法の結果 ********************\n",
      "交換前の合計価格　: [6541, 6157, 6329]\n",
      "獲得枠の合計価格　: [6074, 5870, 6232]\n",
      "交換前の合計視聴率: [63.0, 59.49999999999999, 65.2]\n",
      "獲得枠の合計視聴率: [64.1, 66.7, 67.4]\n",
      "残りキャパシティー: [794.0500000000002, 594.8500000000004, 413.4500000000007]\n"
     ]
    },
    {
     "data": {
      "text/html": [
       "<div>\n",
       "<style scoped>\n",
       "    .dataframe tbody tr th:only-of-type {\n",
       "        vertical-align: middle;\n",
       "    }\n",
       "\n",
       "    .dataframe tbody tr th {\n",
       "        vertical-align: top;\n",
       "    }\n",
       "\n",
       "    .dataframe thead th {\n",
       "        text-align: right;\n",
       "    }\n",
       "</style>\n",
       "<table border=\"1\" class=\"dataframe\">\n",
       "  <thead>\n",
       "    <tr style=\"text-align: right;\">\n",
       "      <th></th>\n",
       "      <th>id</th>\n",
       "      <th>price_0</th>\n",
       "      <th>price_1</th>\n",
       "      <th>price_2</th>\n",
       "      <th>rating_0</th>\n",
       "      <th>rating_1</th>\n",
       "      <th>rating_2</th>\n",
       "      <th>value_0</th>\n",
       "      <th>value_1</th>\n",
       "      <th>value_2</th>\n",
       "      <th>judge</th>\n",
       "    </tr>\n",
       "  </thead>\n",
       "  <tbody>\n",
       "    <tr>\n",
       "      <th>0</th>\n",
       "      <td>6</td>\n",
       "      <td>137</td>\n",
       "      <td>155</td>\n",
       "      <td>152</td>\n",
       "      <td>1.4</td>\n",
       "      <td>1.4</td>\n",
       "      <td>1.3</td>\n",
       "      <td>0.010219</td>\n",
       "      <td>0.009032</td>\n",
       "      <td>0.008553</td>\n",
       "      <td>True</td>\n",
       "    </tr>\n",
       "    <tr>\n",
       "      <th>1</th>\n",
       "      <td>26</td>\n",
       "      <td>657</td>\n",
       "      <td>637</td>\n",
       "      <td>675</td>\n",
       "      <td>6.7</td>\n",
       "      <td>6.2</td>\n",
       "      <td>6.8</td>\n",
       "      <td>0.010198</td>\n",
       "      <td>0.009733</td>\n",
       "      <td>0.010074</td>\n",
       "      <td>True</td>\n",
       "    </tr>\n",
       "  </tbody>\n",
       "</table>\n",
       "</div>"
      ],
      "text/plain": [
       "   id  price_0  price_1  price_2  rating_0  rating_1  rating_2   value_0  \\\n",
       "0   6      137      155      152       1.4       1.4       1.3  0.010219   \n",
       "1  26      657      637      675       6.7       6.2       6.8  0.010198   \n",
       "\n",
       "    value_1   value_2  judge  \n",
       "0  0.009032  0.008553   True  \n",
       "1  0.009733  0.010074   True  "
      ]
     },
     "metadata": {},
     "output_type": "display_data"
    },
    {
     "name": "stdout",
     "output_type": "stream",
     "text": [
      "******************** 動的計画法によるナップザック問題の解法の結果 ********************\n",
      "交換前の合計価格　: [6541, 6157, 6329]\n",
      "獲得枠の合計価格　: [6731, 6025, 6232]\n",
      "交換前の合計視聴率: [63.0, 59.49999999999999, 65.2]\n",
      "獲得枠の合計視聴率: [70.8, 68.10000000000001, 67.4]\n"
     ]
    },
    {
     "data": {
      "text/html": [
       "<div>\n",
       "<style scoped>\n",
       "    .dataframe tbody tr th:only-of-type {\n",
       "        vertical-align: middle;\n",
       "    }\n",
       "\n",
       "    .dataframe tbody tr th {\n",
       "        vertical-align: top;\n",
       "    }\n",
       "\n",
       "    .dataframe thead th {\n",
       "        text-align: right;\n",
       "    }\n",
       "</style>\n",
       "<table border=\"1\" class=\"dataframe\">\n",
       "  <thead>\n",
       "    <tr style=\"text-align: right;\">\n",
       "      <th></th>\n",
       "      <th>id</th>\n",
       "      <th>price_0</th>\n",
       "      <th>price_1</th>\n",
       "      <th>price_2</th>\n",
       "      <th>rating_0</th>\n",
       "      <th>rating_1</th>\n",
       "      <th>rating_2</th>\n",
       "      <th>value_0</th>\n",
       "      <th>value_1</th>\n",
       "      <th>value_2</th>\n",
       "      <th>judge</th>\n",
       "    </tr>\n",
       "  </thead>\n",
       "  <tbody>\n",
       "  </tbody>\n",
       "</table>\n",
       "</div>"
      ],
      "text/plain": [
       "Empty DataFrame\n",
       "Columns: [id, price_0, price_1, price_2, rating_0, rating_1, rating_2, value_0, value_1, value_2, judge]\n",
       "Index: []"
      ]
     },
     "metadata": {},
     "output_type": "display_data"
    },
    {
     "name": "stdout",
     "output_type": "stream",
     "text": [
      "************************ プログラム処理経過時間 0.20472 [sec] ************************\n"
     ]
    }
   ],
   "source": [
    "from ortoolpy import knapsack\n",
    "\n",
    "start = time.time() # プログラム開始時間\n",
    "\n",
    "obtained_idses = Greedy_optimizer(df_sample, require_ratings, client_num) # 獲得した枠のid\n",
    "obtained_prices = [0 for i in range(client_num)] # 獲得した枠の価格和。\n",
    "obtained_points = [0 for i in range(client_num)] # 獲得した枠の視聴率和。\n",
    "rate = 1.05 # どれだけ価格の超過分を許容するか。\n",
    "\n",
    "for i in range(client_num):\n",
    "    df_sample['judge'] = df_sample['id'].apply(lambda x:x in obtained_idses[i]) # 各クライアントが獲得した枠を判断するカラム。\n",
    "    result = df_sample[df_sample['judge']] \n",
    "    obtained_prices[i] = sum(result['price_' + str(i)]) # 獲得した枠の合計額。\n",
    "    obtained_points[i] = sum(result['rating_' + str(i)]) # 獲得した枠の合計視聴率。\n",
    "    \n",
    "all_get_ids = Flatten_dual(obtained_idses) # クライアントが獲得したアカウント全てを足し合わせたもの。\n",
    "df_sample['judge'] = df_sample['id'].apply(lambda x:x not in all_get_ids) # 残った枠を判別するカラム。\n",
    "remain_df = df_sample[df_sample['judge']].reset_index(drop=True) # 残ったデータフレーム。\n",
    "capacities = list(np.array(original_prices) * rate - np.array(obtained_prices)) # 元々持っていた枠の合計価格(の1.05倍)から獲得した枠の合計価格を引く。\n",
    "\n",
    "print('*'*20, '貪欲法によるナップザック問題の解法の結果', '*'*20)\n",
    "print('交換前の合計価格　:', original_prices)\n",
    "print('獲得枠の合計価格　:', obtained_prices)\n",
    "print('交換前の合計視聴率:', original_points)\n",
    "print('獲得枠の合計視聴率:', obtained_points)\n",
    "print('残りキャパシティー:', capacities)\n",
    "display(remain_df.head(3))\n",
    "    \n",
    "count = 1\n",
    "while len(remain_df)>0:\n",
    "    capacities = list(np.array(original_prices) * rate - np.array(obtained_prices)) # 元々持っていた枠の合計価格(の1.05倍)から獲得した枠の合計価格を引く。\n",
    "    add_idses = [[] for i in range(client_num)] # 各ナップザック問題の結果、獲得した枠のidを格納する。\n",
    "    add_ids = [0 for i in range(client_num)]\n",
    "    \n",
    "    for i in range(client_num):\n",
    "        size = list(np.array(remain_df['price_' + str(i)]))\n",
    "        weight = list(np.array(remain_df['rating_' + str(i)]))\n",
    "        capacity = capacities[i]\n",
    "        add_ids[i] = knapsack(size, weight, capacity)[1]\n",
    "        \n",
    "    ids_dict = dict()\n",
    "    for key in range(len(remain_df)): # それぞれのindex\n",
    "        values = [] # そのidの枠を指定したクライアントを格納するリスト。\n",
    "        for j in range(client_num): # それぞれのクライアントごとに、\n",
    "            if key in add_ids[j]: # そのid（のindex）があれば、\n",
    "                values.append(j) # valuesにクライアントの名前が格納される。\n",
    "        if values: # そのidを指定したクライアントがいれば、\n",
    "            value = random.choice(values) # その中からクライアントをランダムに選ぶ。\n",
    "            ids_dict[key] = value # idと合わせて格納される。\n",
    "            \n",
    "    if len(ids_dict)==0:\n",
    "        rate += 0.05*(count)\n",
    "        count += 1\n",
    "                \n",
    "    for i in range(client_num):\n",
    "        add_idses[i] = [ids for ids, client in ids_dict.items() if client == i] # クライアントごとに、獲得したid\n",
    "        # obtained_idses[i] += add_idses[i]\n",
    "        obtained_idses[i] += remain_df.query('index in ' + str(add_idses[i]))['id'].values.tolist()\n",
    "        obtained_prices[i] += sum(remain_df.query('index in ' + str(add_idses[i]))['price_' + str(i)])\n",
    "        obtained_points[i] += sum(remain_df.query('index in ' + str(add_idses[i]))['rating_' + str(i)])\n",
    "\n",
    "    extraction_ids = Flatten_dual(add_idses) # 今回獲得されたidの集合を、取り除く。\n",
    "    remain_df = remain_df.query('index not in ' + str(extraction_ids)).reset_index(drop=True)\n",
    "    \n",
    "print('*'*20, '動的計画法によるナップザック問題の解法の結果', '*'*20)\n",
    "print('交換前の合計価格　:', original_prices)\n",
    "print('獲得枠の合計価格　:', obtained_prices)\n",
    "print('交換前の合計視聴率:', original_points)\n",
    "print('獲得枠の合計視聴率:', obtained_points)\n",
    "display(remain_df.head(3))\n",
    "\n",
    "end = time.time() # プログラム終了時間\n",
    "print('*'*24, 'プログラム処理経過時間', round(end-start,5), '[sec]', '*'*24)"
   ]
  },
  {
   "cell_type": "markdown",
   "metadata": {},
   "source": [
    "<b>ここからやらなければならないこと。\n",
    "    1. 処理時間の測定（数を増やして）。\n",
    "    2. 価格を超えてしまった時の対処法。（上の処理時間と要相談）\n",
    "    3. プログラムの見直しと改善。\n",
    "</b>"
   ]
  },
  {
   "cell_type": "code",
   "execution_count": null,
   "metadata": {},
   "outputs": [],
   "source": []
  }
 ],
 "metadata": {
  "kernelspec": {
   "display_name": "Python 3",
   "language": "python",
   "name": "python3"
  },
  "language_info": {
   "codemirror_mode": {
    "name": "ipython",
    "version": 3
   },
   "file_extension": ".py",
   "mimetype": "text/x-python",
   "name": "python",
   "nbconvert_exporter": "python",
   "pygments_lexer": "ipython3",
   "version": "3.6.4"
  }
 },
 "nbformat": 4,
 "nbformat_minor": 2
}
